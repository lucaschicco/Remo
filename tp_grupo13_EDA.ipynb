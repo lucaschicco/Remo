{
 "cells": [
  {
   "cell_type": "markdown",
   "metadata": {},
   "source": [
    "# UTN.BA\n",
    "## Ciencia de Datos\n",
    "### Grupo 13\n",
    "#### Analisis de dataset de portal de e-commerce de cerveza, bebidas alcoholicas y productos relacionados\n"
   ]
  },
  {
   "cell_type": "code",
   "execution_count": 1,
   "metadata": {},
   "outputs": [],
   "source": [
    "#Librerias\n",
    "import numpy as np\n",
    "import pandas as pd\n",
    "import matplotlib.pyplot as plt\n",
    "import seaborn as sns\n",
    "from sklearn import preprocessing\n",
    "import datetime as DT\n",
    "#PCA y Silhouette\n",
    "from sklearn.decomposition import PCA\n",
    "from  sklearn.metrics import silhouette_score\n",
    "#Librerias de Clustering\n",
    "from sklearn.cluster import KMeans\n",
    "from scipy.cluster.hierarchy import dendrogram, linkage \n",
    "from sklearn.cluster import AgglomerativeClustering\n",
    "from sklearn import metrics"
   ]
  },
  {
   "cell_type": "code",
   "execution_count": 2,
   "metadata": {},
   "outputs": [
    {
     "name": "stderr",
     "output_type": "stream",
     "text": [
      "C:\\Users\\PC\\Anaconda3\\lib\\site-packages\\IPython\\core\\interactiveshell.py:3057: DtypeWarning: Columns (21,29,47,62,68,74,82,84,91,103,104,112,126) have mixed types. Specify dtype option on import or set low_memory=False.\n",
      "  interactivity=interactivity, compiler=compiler, result=result)\n"
     ]
    }
   ],
   "source": [
    "#IMPORTMOS EL DATASET\n",
    "tp = pd.read_csv(r'Ecommerce ABI Enriched.csv', delimiter=',', low_memory= 'false')"
   ]
  },
  {
   "cell_type": "markdown",
   "metadata": {},
   "source": [
    "### EDA inicial sobre la forma del dataset"
   ]
  },
  {
   "cell_type": "code",
   "execution_count": 3,
   "metadata": {},
   "outputs": [
    {
     "data": {
      "text/plain": [
       "(359388, 141)"
      ]
     },
     "execution_count": 3,
     "metadata": {},
     "output_type": "execute_result"
    }
   ],
   "source": [
    "#CHEQUEAMOS CUANTAS FILAS Y COLUMNAS TIENE\n",
    "tp.head(30)\n",
    "tp.shape"
   ]
  },
  {
   "cell_type": "code",
   "execution_count": 4,
   "metadata": {},
   "outputs": [
    {
     "data": {
      "text/plain": [
       "Index(['age', 'birth_date', 'birth_date_day', 'birth_date_month',\n",
       "       'birth_date_year', 'channel', 'city', 'complement', 'country',\n",
       "       'created_in',\n",
       "       ...\n",
       "       'ideal_glass', 'fermentation', 'style', 'category', 'subcategory',\n",
       "       'country_of_production', 'is_abi', 'source_schema', 'food_pairing_tip',\n",
       "       'time.1'],\n",
       "      dtype='object', length=141)"
      ]
     },
     "execution_count": 4,
     "metadata": {},
     "output_type": "execute_result"
    }
   ],
   "source": [
    "#DETALLE DE COLUMNAS\n",
    "tp.columns"
   ]
  },
  {
   "cell_type": "code",
   "execution_count": 5,
   "metadata": {
    "scrolled": true
   },
   "outputs": [
    {
     "data": {
      "text/plain": [
       "age                            359388\n",
       "birth_date                     359388\n",
       "birth_date_day                 359388\n",
       "birth_date_month               359388\n",
       "birth_date_year                359388\n",
       "channel                        359388\n",
       "city                           359388\n",
       "complement                     359388\n",
       "country                             0\n",
       "created_in                          0\n",
       "creation_brand                      0\n",
       "district                       359388\n",
       "document_id                    359388\n",
       "document_id_unify              359388\n",
       "email                          359388\n",
       "emails                         359388\n",
       "facebook_id                    359388\n",
       "first_name                     359388\n",
       "full_name                      359388\n",
       "gender                         359388\n",
       "id                                  0\n",
       "id_1                           133049\n",
       "identification_number          359388\n",
       "identification_number_unify    359388\n",
       "is_employee                    359388\n",
       "last_name                      359388\n",
       "mobile_number                  359388\n",
       "neighborhood                   359388\n",
       "number                         359388\n",
       "opt_in                         226671\n",
       "                                ...  \n",
       "department                       4954\n",
       "sku                               616\n",
       "brand                            2520\n",
       "height                         359388\n",
       "is_active                      359388\n",
       "date_created                     2333\n",
       "image_url                      207320\n",
       "length                         359388\n",
       "country_of_origin              359388\n",
       "upc                            139146\n",
       "weight                          81454\n",
       "ideal_temperature              359388\n",
       "local_subcategory              359388\n",
       "is_bundle                      359388\n",
       "volume                         359388\n",
       "product_nk                        602\n",
       "abv                            359388\n",
       "units_per_sku                  359388\n",
       "name                                0\n",
       "width                          359388\n",
       "ideal_glass                    359388\n",
       "fermentation                   359388\n",
       "style                          359388\n",
       "category                         4954\n",
       "subcategory                      4954\n",
       "country_of_production          359388\n",
       "is_abi                              0\n",
       "source_schema                   90097\n",
       "food_pairing_tip               359388\n",
       "time.1                              0\n",
       "Length: 141, dtype: int64"
      ]
     },
     "execution_count": 5,
     "metadata": {},
     "output_type": "execute_result"
    }
   ],
   "source": [
    "#Vemos que columnas tienen nulls\n",
    "tp.isnull().sum()"
   ]
  },
  {
   "cell_type": "markdown",
   "metadata": {},
   "source": [
    "## Conclusion: Tenemos un dataset con casi 360000 samples, pero gran parte de ellas estan en null o parecen ser features repetidas"
   ]
  },
  {
   "cell_type": "code",
   "execution_count": 6,
   "metadata": {},
   "outputs": [],
   "source": [
    "#Borramos todas las columnas que no sirven\n",
    "tpf1 = tp.drop(['age','birth_date','birth_date_day','birth_date_month','birth_date_year','created_in','channel','city','complement','district','document_id','document_id_unify','email','emails','facebook_id','first_name','full_name','country_of_production',\n",
    "       'food_pairing_tip','width','time', 'ideal_glass','table_origin','td_id', 'fermentation','origin_score',\n",
    "       'style','ideal_temperature', 'local_subcategory', 'is_bundle', 'volume','source_system',\n",
    "       'abv', 'units_per_sku','length','creation_brand', 'country_of_origin','height','business_name',\n",
    "       'is_active','identification_number','source','title','td_id','system','currency',\n",
    "       'identification_number_unify', 'is_employee','last_name','product_spk','business_spk',\n",
    "       'mobile_number','neighborhood','number','phone_number','state','street','td_global_id',\n",
    "       'time_creation', 'twitter_id','department','item_id', 'order_status_type','uniqueid', 'zipcode', 'cuit_cuil',\n",
    "       'dni', 'id_2', 'id_3','gender', 'id_1','unit_discount_local','td_id.1','customer_first_order_period','customer_first_order_year',\n",
    "       'unit_delivery_cost_local', 'is_incomplete', 'coupon_code','unit_tax_usd','unit_tax_local',\n",
    "       'order_rating','unit_subtotal_charged_usd','delivery_type',\n",
    "       'unit_subtotal_charged_local', 'unit_delivery_cost_usd', 'order_type',\n",
    "       'unit_product_cost_local','unit_margin_usd','product_url','is_test','unit_product_cost_usd',\n",
    "       'unit_margin_local', 'unit_volume','description', 'body', 'local_category', 'date_retired',\n",
    "       'is_returnable_glass_bottle', 'ean', 'row_updated_at', 'brand_category','elegible_discount_spk','delivery_address_spk','discount_name','operator_nk','discount_spk','image_url','upc','opt_in','id_4','weight','source_schema','is_abi','time.1','product_nk'], axis = 1)"
   ]
  },
  {
   "cell_type": "code",
   "execution_count": 7,
   "metadata": {},
   "outputs": [
    {
     "data": {
      "text/plain": [
       "(359388, 27)"
      ]
     },
     "execution_count": 7,
     "metadata": {},
     "output_type": "execute_result"
    }
   ],
   "source": [
    "#Vemos cuantas filas y columnas quedaron\n",
    "tpf1.shape"
   ]
  },
  {
   "cell_type": "code",
   "execution_count": 8,
   "metadata": {},
   "outputs": [
    {
     "data": {
      "text/plain": [
       "country                            0\n",
       "id                                 0\n",
       "unit_discount_usd                  0\n",
       "customer_first_order_date          0\n",
       "unit_gross_revenue_local           0\n",
       "unit_delivery_charged_usd          0\n",
       "unit_net_revenue_usd               0\n",
       "order_date                         0\n",
       "order_status                       0\n",
       "customer_spk                       0\n",
       "unit_price_charged_local           0\n",
       "unit_gross_revenue_usd             0\n",
       "source_system_order_id             0\n",
       "unit_delivery_charged_local        0\n",
       "rate_local_do_usd                  0\n",
       "quantity                           0\n",
       "unit_price_charged_usd             0\n",
       "unit_net_revenue_local             0\n",
       "order_days_after_first_order       0\n",
       "order_time                         0\n",
       "row_created_at                     0\n",
       "sku                              616\n",
       "brand                           2520\n",
       "date_created                    2333\n",
       "name                               0\n",
       "category                        4954\n",
       "subcategory                     4954\n",
       "dtype: int64"
      ]
     },
     "execution_count": 8,
     "metadata": {},
     "output_type": "execute_result"
    }
   ],
   "source": [
    "#Vemos cuantos registros tienen nulls\n",
    "tpf1.isnull().sum()"
   ]
  },
  {
   "cell_type": "code",
   "execution_count": 9,
   "metadata": {
    "scrolled": true
   },
   "outputs": [
    {
     "data": {
      "text/html": [
       "<div>\n",
       "<style scoped>\n",
       "    .dataframe tbody tr th:only-of-type {\n",
       "        vertical-align: middle;\n",
       "    }\n",
       "\n",
       "    .dataframe tbody tr th {\n",
       "        vertical-align: top;\n",
       "    }\n",
       "\n",
       "    .dataframe thead th {\n",
       "        text-align: right;\n",
       "    }\n",
       "</style>\n",
       "<table border=\"1\" class=\"dataframe\">\n",
       "  <thead>\n",
       "    <tr style=\"text-align: right;\">\n",
       "      <th></th>\n",
       "      <th>country</th>\n",
       "      <th>id</th>\n",
       "      <th>unit_discount_usd</th>\n",
       "      <th>customer_first_order_date</th>\n",
       "      <th>unit_gross_revenue_local</th>\n",
       "      <th>unit_delivery_charged_usd</th>\n",
       "      <th>unit_net_revenue_usd</th>\n",
       "      <th>order_date</th>\n",
       "      <th>order_status</th>\n",
       "      <th>customer_spk</th>\n",
       "      <th>...</th>\n",
       "      <th>row_created_at</th>\n",
       "      <th>sku</th>\n",
       "      <th>brand</th>\n",
       "      <th>date_created</th>\n",
       "      <th>name</th>\n",
       "      <th>category</th>\n",
       "      <th>subcategory</th>\n",
       "      <th>year</th>\n",
       "      <th>month</th>\n",
       "      <th>day</th>\n",
       "    </tr>\n",
       "  </thead>\n",
       "  <tbody>\n",
       "    <tr>\n",
       "      <th>0</th>\n",
       "      <td>Chile</td>\n",
       "      <td>[\"cl_casadelacerveza;ded0f554dbb2f3381acf862ad...</td>\n",
       "      <td>0.0000</td>\n",
       "      <td>2018-04-18</td>\n",
       "      <td>884.6936</td>\n",
       "      <td>0.1707</td>\n",
       "      <td>1.3421</td>\n",
       "      <td>2018-04-18</td>\n",
       "      <td>canceled</td>\n",
       "      <td>cl_casadelacerveza;ded0f554dbb2f3381acf862ad69...</td>\n",
       "      <td>...</td>\n",
       "      <td>2018-08-20 05:55:44.844529</td>\n",
       "      <td>69</td>\n",
       "      <td>Goose Island</td>\n",
       "      <td>2018-04-05 10:45:09.088888</td>\n",
       "      <td>Pack Degustación Goose Island + Vaso</td>\n",
       "      <td>unknown</td>\n",
       "      <td>unknown</td>\n",
       "      <td>2018</td>\n",
       "      <td>4</td>\n",
       "      <td>18</td>\n",
       "    </tr>\n",
       "    <tr>\n",
       "      <th>1</th>\n",
       "      <td>Chile</td>\n",
       "      <td>[\"cl_casadelacerveza;ded0f554dbb2f3381acf862ad...</td>\n",
       "      <td>0.2652</td>\n",
       "      <td>2018-04-18</td>\n",
       "      <td>722.7899</td>\n",
       "      <td>0.1708</td>\n",
       "      <td>1.0965</td>\n",
       "      <td>2018-04-18</td>\n",
       "      <td>invoiced</td>\n",
       "      <td>cl_casadelacerveza;ded0f554dbb2f3381acf862ad69...</td>\n",
       "      <td>...</td>\n",
       "      <td>2018-08-20 05:55:44.844529</td>\n",
       "      <td>69</td>\n",
       "      <td>Goose Island</td>\n",
       "      <td>2018-04-05 10:45:09.088888</td>\n",
       "      <td>Pack Degustación Goose Island + Vaso</td>\n",
       "      <td>unknown</td>\n",
       "      <td>unknown</td>\n",
       "      <td>2018</td>\n",
       "      <td>4</td>\n",
       "      <td>18</td>\n",
       "    </tr>\n",
       "    <tr>\n",
       "      <th>2</th>\n",
       "      <td>Chile</td>\n",
       "      <td>[\"cl_casadelacerveza;ded0f554dbb2f3381acf862ad...</td>\n",
       "      <td>0.0000</td>\n",
       "      <td>2018-04-18</td>\n",
       "      <td>1129.6857</td>\n",
       "      <td>0.2179</td>\n",
       "      <td>1.7138</td>\n",
       "      <td>2018-04-18</td>\n",
       "      <td>canceled</td>\n",
       "      <td>cl_casadelacerveza;ded0f554dbb2f3381acf862ad69...</td>\n",
       "      <td>...</td>\n",
       "      <td>2018-06-08 05:39:56.779021</td>\n",
       "      <td>50</td>\n",
       "      <td>Lowenbrau</td>\n",
       "      <td>2018-04-05 10:45:36.799491</td>\n",
       "      <td>Cerveza Lowenbrau Oktoberfest Botella</td>\n",
       "      <td>Beer</td>\n",
       "      <td>unknown</td>\n",
       "      <td>2018</td>\n",
       "      <td>4</td>\n",
       "      <td>18</td>\n",
       "    </tr>\n",
       "    <tr>\n",
       "      <th>3</th>\n",
       "      <td>Chile</td>\n",
       "      <td>[\"cl_casadelacerveza;ded0f554dbb2f3381acf862ad...</td>\n",
       "      <td>0.3382</td>\n",
       "      <td>2018-04-18</td>\n",
       "      <td>921.6156</td>\n",
       "      <td>0.2178</td>\n",
       "      <td>1.3981</td>\n",
       "      <td>2018-04-18</td>\n",
       "      <td>invoiced</td>\n",
       "      <td>cl_casadelacerveza;ded0f554dbb2f3381acf862ad69...</td>\n",
       "      <td>...</td>\n",
       "      <td>2018-06-08 05:39:56.779021</td>\n",
       "      <td>50</td>\n",
       "      <td>Lowenbrau</td>\n",
       "      <td>2018-04-05 10:45:36.799491</td>\n",
       "      <td>Cerveza Lowenbrau Oktoberfest Botella</td>\n",
       "      <td>Beer</td>\n",
       "      <td>unknown</td>\n",
       "      <td>2018</td>\n",
       "      <td>4</td>\n",
       "      <td>18</td>\n",
       "    </tr>\n",
       "    <tr>\n",
       "      <th>4</th>\n",
       "      <td>Chile</td>\n",
       "      <td>[\"cl_casadelacerveza;ded0f554dbb2f3381acf862ad...</td>\n",
       "      <td>0.0000</td>\n",
       "      <td>2018-04-18</td>\n",
       "      <td>1046.8875</td>\n",
       "      <td>0.2019</td>\n",
       "      <td>1.5882</td>\n",
       "      <td>2018-04-18</td>\n",
       "      <td>canceled</td>\n",
       "      <td>cl_casadelacerveza;ded0f554dbb2f3381acf862ad69...</td>\n",
       "      <td>...</td>\n",
       "      <td>2018-08-20 07:30:23.707858</td>\n",
       "      <td>449</td>\n",
       "      <td>unknown</td>\n",
       "      <td>2018-05-21 13:00:01.212182</td>\n",
       "      <td>Cerveza Lowenbrau Original Botella</td>\n",
       "      <td>unknown</td>\n",
       "      <td>unknown</td>\n",
       "      <td>2018</td>\n",
       "      <td>4</td>\n",
       "      <td>18</td>\n",
       "    </tr>\n",
       "  </tbody>\n",
       "</table>\n",
       "<p>5 rows × 30 columns</p>\n",
       "</div>"
      ],
      "text/plain": [
       "  country                                                 id  \\\n",
       "0   Chile  [\"cl_casadelacerveza;ded0f554dbb2f3381acf862ad...   \n",
       "1   Chile  [\"cl_casadelacerveza;ded0f554dbb2f3381acf862ad...   \n",
       "2   Chile  [\"cl_casadelacerveza;ded0f554dbb2f3381acf862ad...   \n",
       "3   Chile  [\"cl_casadelacerveza;ded0f554dbb2f3381acf862ad...   \n",
       "4   Chile  [\"cl_casadelacerveza;ded0f554dbb2f3381acf862ad...   \n",
       "\n",
       "   unit_discount_usd customer_first_order_date  unit_gross_revenue_local  \\\n",
       "0             0.0000                2018-04-18                  884.6936   \n",
       "1             0.2652                2018-04-18                  722.7899   \n",
       "2             0.0000                2018-04-18                 1129.6857   \n",
       "3             0.3382                2018-04-18                  921.6156   \n",
       "4             0.0000                2018-04-18                 1046.8875   \n",
       "\n",
       "   unit_delivery_charged_usd  unit_net_revenue_usd order_date order_status  \\\n",
       "0                     0.1707                1.3421 2018-04-18     canceled   \n",
       "1                     0.1708                1.0965 2018-04-18     invoiced   \n",
       "2                     0.2179                1.7138 2018-04-18     canceled   \n",
       "3                     0.2178                1.3981 2018-04-18     invoiced   \n",
       "4                     0.2019                1.5882 2018-04-18     canceled   \n",
       "\n",
       "                                        customer_spk  ...  \\\n",
       "0  cl_casadelacerveza;ded0f554dbb2f3381acf862ad69...  ...   \n",
       "1  cl_casadelacerveza;ded0f554dbb2f3381acf862ad69...  ...   \n",
       "2  cl_casadelacerveza;ded0f554dbb2f3381acf862ad69...  ...   \n",
       "3  cl_casadelacerveza;ded0f554dbb2f3381acf862ad69...  ...   \n",
       "4  cl_casadelacerveza;ded0f554dbb2f3381acf862ad69...  ...   \n",
       "\n",
       "               row_created_at  sku         brand                date_created  \\\n",
       "0  2018-08-20 05:55:44.844529   69  Goose Island  2018-04-05 10:45:09.088888   \n",
       "1  2018-08-20 05:55:44.844529   69  Goose Island  2018-04-05 10:45:09.088888   \n",
       "2  2018-06-08 05:39:56.779021   50     Lowenbrau  2018-04-05 10:45:36.799491   \n",
       "3  2018-06-08 05:39:56.779021   50     Lowenbrau  2018-04-05 10:45:36.799491   \n",
       "4  2018-08-20 07:30:23.707858  449       unknown  2018-05-21 13:00:01.212182   \n",
       "\n",
       "                                    name  category  subcategory  year  month  \\\n",
       "0   Pack Degustación Goose Island + Vaso   unknown      unknown  2018      4   \n",
       "1   Pack Degustación Goose Island + Vaso   unknown      unknown  2018      4   \n",
       "2  Cerveza Lowenbrau Oktoberfest Botella      Beer      unknown  2018      4   \n",
       "3  Cerveza Lowenbrau Oktoberfest Botella      Beer      unknown  2018      4   \n",
       "4     Cerveza Lowenbrau Original Botella   unknown      unknown  2018      4   \n",
       "\n",
       "  day  \n",
       "0  18  \n",
       "1  18  \n",
       "2  18  \n",
       "3  18  \n",
       "4  18  \n",
       "\n",
       "[5 rows x 30 columns]"
      ]
     },
     "execution_count": 9,
     "metadata": {},
     "output_type": "execute_result"
    }
   ],
   "source": [
    "#Separamos la columa order_date en año,mes y dia\n",
    "tpf1.order_date = pd.to_datetime(tpf1.order_date)\n",
    "tpf1['year'] = tpf1.order_date.dt.year \n",
    "tpf1['month'] = tpf1.order_date.dt.month \n",
    "tpf1['day'] = tpf1.order_date.dt.day \n",
    "#Pasamos el order_time a datetime\n",
    "tpf1['order_time'] =  pd.to_datetime(tpf1['order_time'], format='%H:%M:%S')\n",
    "tpf1.head()"
   ]
  },
  {
   "cell_type": "code",
   "execution_count": 10,
   "metadata": {},
   "outputs": [
    {
     "data": {
      "text/plain": [
       "48.0"
      ]
     },
     "execution_count": 10,
     "metadata": {},
     "output_type": "execute_result"
    }
   ],
   "source": [
    "# calculo el percentil 99.9 (se hizo tanteo previo) de la columna \"quantity\"\n",
    "perc_999 = tpf1['quantity'].quantile(0.999)\n",
    "perc_999"
   ]
  },
  {
   "cell_type": "code",
   "execution_count": 11,
   "metadata": {},
   "outputs": [],
   "source": [
    "#quitamos los registros que tengan mas de 48 en quantity\n",
    "tpf2 = tpf1.loc[tpf1['quantity']<perc_999]\n",
    "perc_999 = tpf2['quantity'].quantile(0.999)"
   ]
  },
  {
   "cell_type": "code",
   "execution_count": 12,
   "metadata": {
    "scrolled": true
   },
   "outputs": [
    {
     "data": {
      "text/plain": [
       "28.0"
      ]
     },
     "execution_count": 12,
     "metadata": {},
     "output_type": "execute_result"
    }
   ],
   "source": [
    "perc_999"
   ]
  },
  {
   "cell_type": "code",
   "execution_count": 13,
   "metadata": {},
   "outputs": [
    {
     "data": {
      "text/plain": [
       "count    358899.000000\n",
       "mean        926.012392\n",
       "std        1924.569205\n",
       "min           0.000000\n",
       "25%         597.000000\n",
       "50%         817.000000\n",
       "75%        1115.000000\n",
       "max      999999.000000\n",
       "Name: unit_price_charged_local, dtype: float64"
      ]
     },
     "execution_count": 13,
     "metadata": {},
     "output_type": "execute_result"
    }
   ],
   "source": [
    "#Analizamos los quantiles para precios en busca de outliers\n",
    "tpf2['unit_price_charged_local'].describe()\n",
    "#Vemos que hay valores muy elevados que procederemos a quitar"
   ]
  },
  {
   "cell_type": "code",
   "execution_count": 14,
   "metadata": {},
   "outputs": [
    {
     "data": {
      "text/plain": [
       "4087.0"
      ]
     },
     "execution_count": 14,
     "metadata": {},
     "output_type": "execute_result"
    }
   ],
   "source": [
    "per_995 = tpf2['unit_price_charged_local'].quantile(0.995)\n",
    "per_995"
   ]
  },
  {
   "cell_type": "code",
   "execution_count": 15,
   "metadata": {},
   "outputs": [],
   "source": [
    "tpf3 = tpf2.loc[tpf2['unit_price_charged_local']<per_995]"
   ]
  },
  {
   "cell_type": "code",
   "execution_count": 16,
   "metadata": {},
   "outputs": [
    {
     "data": {
      "text/plain": [
       "count    357052.000000\n",
       "mean       1433.197382\n",
       "std        2065.707425\n",
       "min       -1523.000000\n",
       "25%         699.000000\n",
       "50%        1024.000000\n",
       "75%        1506.000000\n",
       "max       95400.000000\n",
       "Name: unit_gross_revenue_local, dtype: float64"
      ]
     },
     "execution_count": 16,
     "metadata": {},
     "output_type": "execute_result"
    }
   ],
   "source": [
    "#Analizamos los quantiles para unit_gross_revenue_local (P*Q) en busca de outliers\n",
    "tpf3['unit_gross_revenue_local'].describe()\n",
    "#Vemos que hay valores negativos y algunos muy elevados que procederemos a quitar"
   ]
  },
  {
   "cell_type": "code",
   "execution_count": 17,
   "metadata": {},
   "outputs": [
    {
     "data": {
      "text/plain": [
       "15808.0"
      ]
     },
     "execution_count": 17,
     "metadata": {},
     "output_type": "execute_result"
    }
   ],
   "source": [
    "perce_995 = tpf3['unit_gross_revenue_local'].quantile(0.996)\n",
    "perce_995"
   ]
  },
  {
   "cell_type": "code",
   "execution_count": 18,
   "metadata": {},
   "outputs": [],
   "source": [
    "tpf4 = tpf3.loc[tpf3['unit_gross_revenue_local']<perce_995]\n",
    "tpf4 = tpf4.loc[tpf3['unit_gross_revenue_local']>0]"
   ]
  },
  {
   "cell_type": "code",
   "execution_count": 19,
   "metadata": {},
   "outputs": [
    {
     "data": {
      "text/plain": [
       "count    344381.000000\n",
       "mean       1391.056883\n",
       "std        1474.243428\n",
       "min           0.633500\n",
       "25%         736.000000\n",
       "50%        1043.415700\n",
       "75%        1528.000000\n",
       "max       15805.000000\n",
       "Name: unit_gross_revenue_local, dtype: float64"
      ]
     },
     "execution_count": 19,
     "metadata": {},
     "output_type": "execute_result"
    }
   ],
   "source": [
    "tpf4['unit_gross_revenue_local'].describe()"
   ]
  },
  {
   "cell_type": "code",
   "execution_count": 20,
   "metadata": {},
   "outputs": [
    {
     "data": {
      "text/plain": [
       "array(['Argentina'], dtype=object)"
      ]
     },
     "execution_count": 20,
     "metadata": {},
     "output_type": "execute_result"
    }
   ],
   "source": [
    "#Filtramos el dataset por country = Argentina\n",
    "tp_arg = tpf4.loc[tpf2['country'].isin(['Argentina'])]\n",
    "tp_arg.country.unique()"
   ]
  },
  {
   "cell_type": "code",
   "execution_count": 21,
   "metadata": {},
   "outputs": [
    {
     "data": {
      "text/plain": [
       "array([2017], dtype=int64)"
      ]
     },
     "execution_count": 21,
     "metadata": {},
     "output_type": "execute_result"
    }
   ],
   "source": [
    "#Sabemos que el dataset no esta completo para los años 2016 y 2018, por lo que filtramos el dataset por el año 2017\n",
    "tp_arg_2017 = tp_arg.loc[tp_arg['year'].isin(['2017'])]\n",
    "tp_arg_2017.year.unique()"
   ]
  },
  {
   "cell_type": "code",
   "execution_count": 22,
   "metadata": {},
   "outputs": [
    {
     "data": {
      "text/html": [
       "<div>\n",
       "<style scoped>\n",
       "    .dataframe tbody tr th:only-of-type {\n",
       "        vertical-align: middle;\n",
       "    }\n",
       "\n",
       "    .dataframe tbody tr th {\n",
       "        vertical-align: top;\n",
       "    }\n",
       "\n",
       "    .dataframe thead th {\n",
       "        text-align: right;\n",
       "    }\n",
       "</style>\n",
       "<table border=\"1\" class=\"dataframe\">\n",
       "  <thead>\n",
       "    <tr style=\"text-align: right;\">\n",
       "      <th></th>\n",
       "      <th>country</th>\n",
       "      <th>id</th>\n",
       "      <th>unit_discount_usd</th>\n",
       "      <th>unit_gross_revenue_local</th>\n",
       "      <th>order_date</th>\n",
       "      <th>order_status</th>\n",
       "      <th>customer_spk</th>\n",
       "      <th>unit_price_charged_local</th>\n",
       "      <th>unit_delivery_charged_local</th>\n",
       "      <th>quantity</th>\n",
       "      <th>unit_net_revenue_local</th>\n",
       "      <th>order_time</th>\n",
       "      <th>brand</th>\n",
       "      <th>name</th>\n",
       "      <th>category</th>\n",
       "      <th>subcategory</th>\n",
       "      <th>year</th>\n",
       "      <th>month</th>\n",
       "      <th>day</th>\n",
       "    </tr>\n",
       "  </thead>\n",
       "  <tbody>\n",
       "    <tr>\n",
       "      <th>17162</th>\n",
       "      <td>Argentina</td>\n",
       "      <td>[\"ar_bevybar;8b3eb4b88a85ba3eeb60dd24686995c38...</td>\n",
       "      <td>0.0000</td>\n",
       "      <td>1030.0000</td>\n",
       "      <td>2017-09-20</td>\n",
       "      <td>paid</td>\n",
       "      <td>ar_bevybar;8b3eb4b88a85ba3eeb60dd24686995c38b4...</td>\n",
       "      <td>890.0</td>\n",
       "      <td>140.0000</td>\n",
       "      <td>1</td>\n",
       "      <td>788.0530</td>\n",
       "      <td>1900-01-01 18:19:39</td>\n",
       "      <td>Corona</td>\n",
       "      <td>Pack Corona Experience</td>\n",
       "      <td>Beer</td>\n",
       "      <td>Others</td>\n",
       "      <td>2017</td>\n",
       "      <td>9</td>\n",
       "      <td>20</td>\n",
       "    </tr>\n",
       "    <tr>\n",
       "      <th>17165</th>\n",
       "      <td>Argentina</td>\n",
       "      <td>[\"ar_bevybar;41434b744330c691cf83b70da3fa080c8...</td>\n",
       "      <td>0.0000</td>\n",
       "      <td>631.0000</td>\n",
       "      <td>2017-06-13</td>\n",
       "      <td>paid</td>\n",
       "      <td>ar_bevybar;41434b744330c691cf83b70da3fa080c85a...</td>\n",
       "      <td>432.0</td>\n",
       "      <td>199.0000</td>\n",
       "      <td>1</td>\n",
       "      <td>493.6944</td>\n",
       "      <td>1900-01-01 12:56:23</td>\n",
       "      <td>Patagonia Brewing Co.</td>\n",
       "      <td>Pack de Cervezas y Vasos Patagonia</td>\n",
       "      <td>Mixed Pack</td>\n",
       "      <td>unknown</td>\n",
       "      <td>2017</td>\n",
       "      <td>6</td>\n",
       "      <td>13</td>\n",
       "    </tr>\n",
       "    <tr>\n",
       "      <th>17174</th>\n",
       "      <td>Argentina</td>\n",
       "      <td>[\"ar_bevybar;2aedfe0c0b63ee0da640463d4b0a09f74...</td>\n",
       "      <td>2.7181</td>\n",
       "      <td>234.6542</td>\n",
       "      <td>2017-02-28</td>\n",
       "      <td>paid</td>\n",
       "      <td>ar_bevybar;2aedfe0c0b63ee0da640463d4b0a09f74f9...</td>\n",
       "      <td>265.0</td>\n",
       "      <td>14.7222</td>\n",
       "      <td>1</td>\n",
       "      <td>176.2018</td>\n",
       "      <td>1900-01-01 23:33:23</td>\n",
       "      <td>Peñón del Águila</td>\n",
       "      <td>Cerveza Peñón del Águila Kölsch</td>\n",
       "      <td>Beer</td>\n",
       "      <td>unknown</td>\n",
       "      <td>2017</td>\n",
       "      <td>2</td>\n",
       "      <td>28</td>\n",
       "    </tr>\n",
       "    <tr>\n",
       "      <th>17175</th>\n",
       "      <td>Argentina</td>\n",
       "      <td>[\"ar_bevybar;2aedfe0c0b63ee0da640463d4b0a09f74...</td>\n",
       "      <td>1.8052</td>\n",
       "      <td>155.8458</td>\n",
       "      <td>2017-02-28</td>\n",
       "      <td>paid</td>\n",
       "      <td>ar_bevybar;2aedfe0c0b63ee0da640463d4b0a09f74f9...</td>\n",
       "      <td>44.0</td>\n",
       "      <td>9.7778</td>\n",
       "      <td>4</td>\n",
       "      <td>117.0246</td>\n",
       "      <td>1900-01-01 23:33:23</td>\n",
       "      <td>Peñón del Águila</td>\n",
       "      <td>Cerveza Peñón del Águila Kölsch</td>\n",
       "      <td>Beer</td>\n",
       "      <td>unknown</td>\n",
       "      <td>2017</td>\n",
       "      <td>2</td>\n",
       "      <td>28</td>\n",
       "    </tr>\n",
       "    <tr>\n",
       "      <th>17176</th>\n",
       "      <td>Argentina</td>\n",
       "      <td>[\"ar_bevybar;2aedfe0c0b63ee0da640463d4b0a09f74...</td>\n",
       "      <td>9.0465</td>\n",
       "      <td>910.0000</td>\n",
       "      <td>2017-07-30</td>\n",
       "      <td>paid</td>\n",
       "      <td>ar_bevybar;2aedfe0c0b63ee0da640463d4b0a09f74f9...</td>\n",
       "      <td>1011.0</td>\n",
       "      <td>49.0000</td>\n",
       "      <td>1</td>\n",
       "      <td>698.5160</td>\n",
       "      <td>1900-01-01 17:15:42</td>\n",
       "      <td>BevyBar</td>\n",
       "      <td>Pack Degustación del Mes de Julio XL</td>\n",
       "      <td>Mixed Pack</td>\n",
       "      <td>unknown</td>\n",
       "      <td>2017</td>\n",
       "      <td>7</td>\n",
       "      <td>30</td>\n",
       "    </tr>\n",
       "  </tbody>\n",
       "</table>\n",
       "</div>"
      ],
      "text/plain": [
       "         country                                                 id  \\\n",
       "17162  Argentina  [\"ar_bevybar;8b3eb4b88a85ba3eeb60dd24686995c38...   \n",
       "17165  Argentina  [\"ar_bevybar;41434b744330c691cf83b70da3fa080c8...   \n",
       "17174  Argentina  [\"ar_bevybar;2aedfe0c0b63ee0da640463d4b0a09f74...   \n",
       "17175  Argentina  [\"ar_bevybar;2aedfe0c0b63ee0da640463d4b0a09f74...   \n",
       "17176  Argentina  [\"ar_bevybar;2aedfe0c0b63ee0da640463d4b0a09f74...   \n",
       "\n",
       "       unit_discount_usd  unit_gross_revenue_local order_date order_status  \\\n",
       "17162             0.0000                 1030.0000 2017-09-20         paid   \n",
       "17165             0.0000                  631.0000 2017-06-13         paid   \n",
       "17174             2.7181                  234.6542 2017-02-28         paid   \n",
       "17175             1.8052                  155.8458 2017-02-28         paid   \n",
       "17176             9.0465                  910.0000 2017-07-30         paid   \n",
       "\n",
       "                                            customer_spk  \\\n",
       "17162  ar_bevybar;8b3eb4b88a85ba3eeb60dd24686995c38b4...   \n",
       "17165  ar_bevybar;41434b744330c691cf83b70da3fa080c85a...   \n",
       "17174  ar_bevybar;2aedfe0c0b63ee0da640463d4b0a09f74f9...   \n",
       "17175  ar_bevybar;2aedfe0c0b63ee0da640463d4b0a09f74f9...   \n",
       "17176  ar_bevybar;2aedfe0c0b63ee0da640463d4b0a09f74f9...   \n",
       "\n",
       "       unit_price_charged_local  unit_delivery_charged_local  quantity  \\\n",
       "17162                     890.0                     140.0000         1   \n",
       "17165                     432.0                     199.0000         1   \n",
       "17174                     265.0                      14.7222         1   \n",
       "17175                      44.0                       9.7778         4   \n",
       "17176                    1011.0                      49.0000         1   \n",
       "\n",
       "       unit_net_revenue_local          order_time                  brand  \\\n",
       "17162                788.0530 1900-01-01 18:19:39                 Corona   \n",
       "17165                493.6944 1900-01-01 12:56:23  Patagonia Brewing Co.   \n",
       "17174                176.2018 1900-01-01 23:33:23       Peñón del Águila   \n",
       "17175                117.0246 1900-01-01 23:33:23       Peñón del Águila   \n",
       "17176                698.5160 1900-01-01 17:15:42                BevyBar   \n",
       "\n",
       "                                       name    category subcategory  year  \\\n",
       "17162                Pack Corona Experience        Beer      Others  2017   \n",
       "17165    Pack de Cervezas y Vasos Patagonia  Mixed Pack     unknown  2017   \n",
       "17174       Cerveza Peñón del Águila Kölsch        Beer     unknown  2017   \n",
       "17175       Cerveza Peñón del Águila Kölsch        Beer     unknown  2017   \n",
       "17176  Pack Degustación del Mes de Julio XL  Mixed Pack     unknown  2017   \n",
       "\n",
       "       month  day  \n",
       "17162      9   20  \n",
       "17165      6   13  \n",
       "17174      2   28  \n",
       "17175      2   28  \n",
       "17176      7   30  "
      ]
     },
     "execution_count": 22,
     "metadata": {},
     "output_type": "execute_result"
    }
   ],
   "source": [
    "##Limpiamos mas columnas\n",
    "tp_arg_2017 = tp_arg_2017.drop(tp_arg_2017.loc[tp_arg['subcategory'].isnull()].index)\n",
    "tp_arg_2017 = tp_arg_2017.drop(tp_arg_2017.loc[tp_arg['sku'].isnull()].index)\n",
    "#Cambiamos Grupo Modelo por Corona\n",
    "tp_arg_2017.brand = tp_arg_2017.brand.replace(to_replace = ['Grupo Modelo'],value = 'Corona')\n",
    "tp_h = tp_arg_2017.drop(['unit_gross_revenue_usd','source_system_order_id', 'rate_local_do_usd', 'order_days_after_first_order', 'unit_price_charged_usd', 'customer_first_order_date', 'unit_delivery_charged_usd', 'unit_net_revenue_usd', 'row_created_at', 'sku', 'date_created'], axis=1)\n",
    "tp_h.head(5)"
   ]
  },
  {
   "cell_type": "code",
   "execution_count": 23,
   "metadata": {
    "scrolled": true
   },
   "outputs": [
    {
     "data": {
      "text/plain": [
       "country                        0\n",
       "id                             0\n",
       "unit_discount_usd              0\n",
       "unit_gross_revenue_local       0\n",
       "order_date                     0\n",
       "order_status                   0\n",
       "customer_spk                   0\n",
       "unit_price_charged_local       0\n",
       "unit_delivery_charged_local    0\n",
       "quantity                       0\n",
       "unit_net_revenue_local         0\n",
       "order_time                     0\n",
       "brand                          0\n",
       "name                           0\n",
       "category                       0\n",
       "subcategory                    0\n",
       "year                           0\n",
       "month                          0\n",
       "day                            0\n",
       "dtype: int64"
      ]
     },
     "execution_count": 23,
     "metadata": {},
     "output_type": "execute_result"
    }
   ],
   "source": [
    "##Chequeamos que no quedan nulls\n",
    "tp_h.isnull().sum()"
   ]
  },
  {
   "cell_type": "code",
   "execution_count": 24,
   "metadata": {
    "scrolled": true
   },
   "outputs": [
    {
     "data": {
      "text/plain": [
       "[\"ar_bevybar;85a4541be6230293ef4f6d91b0df26263a8ae8eb520f1683ee8da148ec4bccb8\"]    3135\n",
       "[\"ar_bevybar;6ac0a6038ac280d24e192c75507523542b3b808616c9b496bced2ebc9bf8f682\"]     124\n",
       "[\"ar_bevybar;0cf248d7670517788205b21a00b3b95a7613721f6a2142f2a71ff936505154f7\"]     123\n",
       "[\"ar_bevybar;2fd602be49f597b8296eaf4ab7db768cadff4daef7acdc2ddb8d2fe87d6f2e67\"]      96\n",
       "[\"ar_bevybar;0aa3aebd3809cbcccd03f9350a135291a4cc6cf0e91531b1c2ad082eed729957\"]      95\n",
       "[\"ar_bevybar;2432fc9e5b1b7dc5b0b6798ebc1b31ea5b565d43323a54949788a25b0e3ba2c3\"]      82\n",
       "[\"ar_bevybar;c68b56ab8a20714b2adc9b2ea0347d85377ce00ef06f7241d6833001601d9e3d\"]      81\n",
       "[\"ar_bevybar;c35e3b1de2ac34c7cc8189a4be05376b523ccfc022d3c80ebc52afaddcf8a558\"]      81\n",
       "[\"ar_bevybar;1774a2022f78ca3718e09203117925498c207de6a6463491fea330ab259c8d50\"]      80\n",
       "[\"ar_bevybar;01aa381f28d5e94ccaa562245f404efc028ab2e44ff2444df15314b64a85c374\"]      76\n",
       "[\"ar_bevybar;ce8c091f340155e1fe5fd9445cd2bcc873837a0ce2639b86b1cbc217e82296aa\"]      74\n",
       "[\"ar_bevybar;2fafe310067059488b1611913e6fa67222718e3305eb89f6f8a770dcf54d6c84\"]      73\n",
       "[\"ar_bevybar;f98bfc69f820bf14518f733e1b2c4380780f1acfda3b7bcf48d31359fd0747c2\"]      72\n",
       "[\"ar_bevybar;c1ff0af4894bf8616bc7654fffa80d8ef667546ea64fcc84d91348b910c67ebc\"]      71\n",
       "[\"ar_bevybar;083bfd6c2cc96ac619385b8e5ce3800f1e2726272c2eaf684825fff8166c5c44\"]      68\n",
       "[\"ar_bevybar;674a7afbcebfbf376d106fc4a42ec3d6b5b8d3278502823fe435eab09cd88bf3\"]      65\n",
       "[\"ar_bevybar;53a1438ff233c351ce9a9e3fb024d7a372b396f79412b9bbd57eb15db9ddbe2e\"]      65\n",
       "[\"ar_bevybar;7036d1e2ff43d80092fe9bc89122df49a01cb29d0c8d1fed4b7315ab2e136631\"]      64\n",
       "[\"ar_bevybar;3837ae47c1007ff9ada84fb8ffbccfe9042f128ea206e8bca7c859f1b9c4f106\"]      64\n",
       "[\"ar_bevybar;74bf4add73c20741424cbf387fddf6da0edf779991aba5776a344e009ed3f1a5\"]      62\n",
       "[\"ar_bevybar;6c15f62f6e532e6d9f57814c3465707032d1834de4557fd2d01c3684c19ce217\"]      61\n",
       "[\"ar_bevybar;ac4d38f59f780070a4e10331b4538964396d016615b117a9f692d2a925161dc2\"]      60\n",
       "[\"ar_bevybar;318ce62ccd67c2371c692fdb720c108d19b4940eb727e4ba792576a269db54a8\"]      59\n",
       "[\"ar_bevybar;b91dd6565d078ae7eda0ac5dd81273cfb1931732677957ac2990aac05124510a\"]      59\n",
       "[\"ar_bevybar;fc0f1b677b34bef2ddcf8a9d1750417eaa1177e97b446421f480f3dc09796aa7\"]      59\n",
       "[\"ar_bevybar;f24d7126c209c846dd12effea3e9e0e927cf8b0376f18641ca0e5e410c6ea524\"]      58\n",
       "[\"ar_bevybar;a3784b9a328e794a7b63c4210184411f365dfc2dc4bd5484cfe0f75bd6ab33d4\"]      58\n",
       "[\"ar_bevybar;27e95e63f8a274e11428e15e0eac2918fbd80a5bd3bd9fc47b2106d2f165b2b5\"]      55\n",
       "[\"ar_bevybar;577b660b38723f6635b5c84a93fc822d114254325be8fffc5aa07d515b64a2b6\"]      55\n",
       "[\"ar_bevybar;79d838d5ab1f877ebe348cd0f1458d70fc84f4f88f75234940db6427aec49b8d\"]      54\n",
       "                                                                                   ... \n",
       "[\"ar_bevybar;b1155de979854d5715ec19bf40e4470b78c401fb75fccaaba2226a565f8457cb\"]       1\n",
       "[\"ar_bevybar;f66c55d5438703ab1e9e45d840cfe78b0b7df36cb7c103a6089ef6c064921083\"]       1\n",
       "[\"ar_bevybar;4da8029dec0d2f91372b728b7601741b13d314725cbc209be0ad434d6dfe605a\"]       1\n",
       "[\"ar_bevybar;403c8ff0908ac8dd839771cdb1c20198dbb9bfdeb5a3949f4638b25e9ef9e592\"]       1\n",
       "[\"ar_bevybar;716e1b78334019024d0b5207306c48c5d113013cd318af3257b76a3f280bab26\"]       1\n",
       "[\"ar_bevybar;45f5eb7de75235cea9b65aa9db8b20eac9a93f3cf0adff4bd50764e6e5800c6a\"]       1\n",
       "[\"ar_bevybar;402b818784260c3ca072e712906205173a2b864e0c5eaf1d36f614e613c201f7\"]       1\n",
       "[\"ar_bevybar;62b0e45e1562054e15bf0aa11850ac3909914b7476bd51fe5fc8f5d2f96718f2\"]       1\n",
       "[\"ar_bevybar;e9a45e8f766432c23ddf9eb15ecf0062be58f2aa71ffec824467bc0a17107f38\"]       1\n",
       "[\"ar_bevybar;b0e4bbbd4e07f7aeb3ea2dfd2a4035b94551c63cedef45c8be494a84dc2b1bf3\"]       1\n",
       "[\"ar_bevybar;3d5d1e4797c1c7178b41bce049cc26160c1250c0a238de374a92d7495b145676\"]       1\n",
       "[\"ar_bevybar;2c12474ba07a96044f055fd5076db44da09a70fba5edf9fba399cf5483d33565\"]       1\n",
       "[\"ar_bevybar;2b3a146bb6089a6290390e4cff632bc84318497c30f93c81152554527e5b0f80\"]       1\n",
       "[\"ar_bevybar;081dc9955ff87266cd5f32af1753bd64c37ca6d02f39fa669a81dbe61c27b1db\"]       1\n",
       "[\"ar_bevybar;1e4ceb075fab95a6109eedb33a2ac0875aa72b57ac908fc8a9477e075d7e0951\"]       1\n",
       "[\"ar_bevybar;2e46577640af0b8812ae385fdf429b27866595df5825a2fc7364845ac4352895\"]       1\n",
       "[\"ar_bevybar;253b7dc121d0bc130d7c129bf347dba5aa09f803645892f3f3f6c685c16be6ba\"]       1\n",
       "[\"ar_bevybar;d292fd0f57b79f8b766e1c62b49926e9a2f49ffad28e03cfa00cea75bdfe828b\"]       1\n",
       "[\"ar_bevybar;f9f2460c8afb3e98188a44a771ea85622ba26963eba85044627dbfa79a5f468c\"]       1\n",
       "[\"ar_bevybar;32115f566aca8a4ece2b397858ff65c52d59dc0b4f7017e5866f436acaad7054\"]       1\n",
       "[\"ar_bevybar;8960e218c87a3f38f468ff206081d5a42115f036e30db55ab566a89fe006d15b\"]       1\n",
       "[\"ar_bevybar;eed93cbd4c969f89ed7e40d1fb9b8a8db23d64deccb72437a1cb850b9e884cfa\"]       1\n",
       "[\"ar_bevybar;1b3bd6412ef47a075bf496b29270cf469a4b994ecfbde5e8a71196c4c7c54613\"]       1\n",
       "[\"ar_bevybar;c5769523817e84f02f1b1860760c7333e80471788a9c11f146795e7cfc64d36e\"]       1\n",
       "[\"ar_bevybar;3a6109963dc238b8bf1a49aaa417e93feacd98ecb9df644fb08a9badf9a8224c\"]       1\n",
       "[\"ar_bevybar;d03bc803a7ad6deb0ec3e63d13d51f8f8b5addf3e47bbab8f5a0c18c098e9e9f\"]       1\n",
       "[\"ar_bevybar;4c2deb82b9f683bb30c0dfe8c90385f118a85481ebe54416f16dff53fb4a90c6\"]       1\n",
       "[\"ar_bevybar;6e24adfb960e831515492b77d1b9d601827af0907b56afe12be3b1ba8d8beaa5\"]       1\n",
       "[\"ar_bevybar;cac62db13963581e31a38b87936bc8159123e3b174567b412895e64d884f76c0\"]       1\n",
       "[\"ar_bevybar;81094ba3c2b658afcdf1dfc18754bab1440134ba48bf0a2851874b72c04f2ddf\"]       1\n",
       "Name: id, Length: 21671, dtype: int64"
      ]
     },
     "execution_count": 24,
     "metadata": {},
     "output_type": "execute_result"
    }
   ],
   "source": [
    "#Vemos la cantidad de veces que aparece cada id. Esto nos dirá rápidamente si hay outliers.\n",
    "tp_h.id.value_counts()\n",
    "#Observamos que una id realizó 3134 compras, por lo cual procederemos a extraerla."
   ]
  },
  {
   "cell_type": "code",
   "execution_count": 25,
   "metadata": {},
   "outputs": [
    {
     "data": {
      "text/plain": [
       "(60896, 30)"
      ]
     },
     "execution_count": 25,
     "metadata": {},
     "output_type": "execute_result"
    }
   ],
   "source": [
    "tp_arg_2017.shape"
   ]
  },
  {
   "cell_type": "code",
   "execution_count": 26,
   "metadata": {},
   "outputs": [],
   "source": [
    "#Quitamos el outlier id con 3134 compras en ambos datasets\n",
    "tp_h.drop(tp_h.loc[tp_h['id']=='[\"ar_bevybar;85a4541be6230293ef4f6d91b0df26263a8ae8eb520f1683ee8da148ec4bccb8\"]'].index, inplace=True)\n",
    "tp_arg_2017.drop(tp_arg_2017.loc[tp_arg_2017['id']=='[\"ar_bevybar;85a4541be6230293ef4f6d91b0df26263a8ae8eb520f1683ee8da148ec4bccb8\"]'].index, inplace=True)"
   ]
  },
  {
   "cell_type": "code",
   "execution_count": 27,
   "metadata": {
    "scrolled": true
   },
   "outputs": [
    {
     "data": {
      "text/plain": [
       "[\"ar_bevybar;6ac0a6038ac280d24e192c75507523542b3b808616c9b496bced2ebc9bf8f682\"]    124\n",
       "[\"ar_bevybar;0cf248d7670517788205b21a00b3b95a7613721f6a2142f2a71ff936505154f7\"]    123\n",
       "[\"ar_bevybar;2fd602be49f597b8296eaf4ab7db768cadff4daef7acdc2ddb8d2fe87d6f2e67\"]     96\n",
       "[\"ar_bevybar;0aa3aebd3809cbcccd03f9350a135291a4cc6cf0e91531b1c2ad082eed729957\"]     95\n",
       "[\"ar_bevybar;2432fc9e5b1b7dc5b0b6798ebc1b31ea5b565d43323a54949788a25b0e3ba2c3\"]     82\n",
       "[\"ar_bevybar;c35e3b1de2ac34c7cc8189a4be05376b523ccfc022d3c80ebc52afaddcf8a558\"]     81\n",
       "[\"ar_bevybar;c68b56ab8a20714b2adc9b2ea0347d85377ce00ef06f7241d6833001601d9e3d\"]     81\n",
       "[\"ar_bevybar;1774a2022f78ca3718e09203117925498c207de6a6463491fea330ab259c8d50\"]     80\n",
       "[\"ar_bevybar;01aa381f28d5e94ccaa562245f404efc028ab2e44ff2444df15314b64a85c374\"]     76\n",
       "[\"ar_bevybar;ce8c091f340155e1fe5fd9445cd2bcc873837a0ce2639b86b1cbc217e82296aa\"]     74\n",
       "[\"ar_bevybar;2fafe310067059488b1611913e6fa67222718e3305eb89f6f8a770dcf54d6c84\"]     73\n",
       "[\"ar_bevybar;f98bfc69f820bf14518f733e1b2c4380780f1acfda3b7bcf48d31359fd0747c2\"]     72\n",
       "[\"ar_bevybar;c1ff0af4894bf8616bc7654fffa80d8ef667546ea64fcc84d91348b910c67ebc\"]     71\n",
       "[\"ar_bevybar;083bfd6c2cc96ac619385b8e5ce3800f1e2726272c2eaf684825fff8166c5c44\"]     68\n",
       "[\"ar_bevybar;674a7afbcebfbf376d106fc4a42ec3d6b5b8d3278502823fe435eab09cd88bf3\"]     65\n",
       "[\"ar_bevybar;53a1438ff233c351ce9a9e3fb024d7a372b396f79412b9bbd57eb15db9ddbe2e\"]     65\n",
       "[\"ar_bevybar;7036d1e2ff43d80092fe9bc89122df49a01cb29d0c8d1fed4b7315ab2e136631\"]     64\n",
       "[\"ar_bevybar;3837ae47c1007ff9ada84fb8ffbccfe9042f128ea206e8bca7c859f1b9c4f106\"]     64\n",
       "[\"ar_bevybar;74bf4add73c20741424cbf387fddf6da0edf779991aba5776a344e009ed3f1a5\"]     62\n",
       "[\"ar_bevybar;6c15f62f6e532e6d9f57814c3465707032d1834de4557fd2d01c3684c19ce217\"]     61\n",
       "[\"ar_bevybar;ac4d38f59f780070a4e10331b4538964396d016615b117a9f692d2a925161dc2\"]     60\n",
       "[\"ar_bevybar;318ce62ccd67c2371c692fdb720c108d19b4940eb727e4ba792576a269db54a8\"]     59\n",
       "[\"ar_bevybar;b91dd6565d078ae7eda0ac5dd81273cfb1931732677957ac2990aac05124510a\"]     59\n",
       "[\"ar_bevybar;fc0f1b677b34bef2ddcf8a9d1750417eaa1177e97b446421f480f3dc09796aa7\"]     59\n",
       "[\"ar_bevybar;f24d7126c209c846dd12effea3e9e0e927cf8b0376f18641ca0e5e410c6ea524\"]     58\n",
       "[\"ar_bevybar;a3784b9a328e794a7b63c4210184411f365dfc2dc4bd5484cfe0f75bd6ab33d4\"]     58\n",
       "[\"ar_bevybar;27e95e63f8a274e11428e15e0eac2918fbd80a5bd3bd9fc47b2106d2f165b2b5\"]     55\n",
       "[\"ar_bevybar;577b660b38723f6635b5c84a93fc822d114254325be8fffc5aa07d515b64a2b6\"]     55\n",
       "[\"ar_bevybar;79d838d5ab1f877ebe348cd0f1458d70fc84f4f88f75234940db6427aec49b8d\"]     54\n",
       "[\"ar_bevybar;d386cd1605a8605544727baa1158b32d2b4be5140d193b5111ddf1f99671905e\"]     53\n",
       "                                                                                  ... \n",
       "[\"ar_bevybar;403c8ff0908ac8dd839771cdb1c20198dbb9bfdeb5a3949f4638b25e9ef9e592\"]      1\n",
       "[\"ar_bevybar;b1155de979854d5715ec19bf40e4470b78c401fb75fccaaba2226a565f8457cb\"]      1\n",
       "[\"ar_bevybar;f66c55d5438703ab1e9e45d840cfe78b0b7df36cb7c103a6089ef6c064921083\"]      1\n",
       "[\"ar_bevybar;4da8029dec0d2f91372b728b7601741b13d314725cbc209be0ad434d6dfe605a\"]      1\n",
       "[\"ar_bevybar;09ab49094bbab92798f59ec0916ebe355880f93a78e0198e0be6efb8b0624983\"]      1\n",
       "[\"ar_bevybar;45f5eb7de75235cea9b65aa9db8b20eac9a93f3cf0adff4bd50764e6e5800c6a\"]      1\n",
       "[\"ar_bevybar;402b818784260c3ca072e712906205173a2b864e0c5eaf1d36f614e613c201f7\"]      1\n",
       "[\"ar_bevybar;32115f566aca8a4ece2b397858ff65c52d59dc0b4f7017e5866f436acaad7054\"]      1\n",
       "[\"ar_bevybar;e9a45e8f766432c23ddf9eb15ecf0062be58f2aa71ffec824467bc0a17107f38\"]      1\n",
       "[\"ar_bevybar;b0e4bbbd4e07f7aeb3ea2dfd2a4035b94551c63cedef45c8be494a84dc2b1bf3\"]      1\n",
       "[\"ar_bevybar;3d5d1e4797c1c7178b41bce049cc26160c1250c0a238de374a92d7495b145676\"]      1\n",
       "[\"ar_bevybar;2c12474ba07a96044f055fd5076db44da09a70fba5edf9fba399cf5483d33565\"]      1\n",
       "[\"ar_bevybar;2b3a146bb6089a6290390e4cff632bc84318497c30f93c81152554527e5b0f80\"]      1\n",
       "[\"ar_bevybar;081dc9955ff87266cd5f32af1753bd64c37ca6d02f39fa669a81dbe61c27b1db\"]      1\n",
       "[\"ar_bevybar;1e4ceb075fab95a6109eedb33a2ac0875aa72b57ac908fc8a9477e075d7e0951\"]      1\n",
       "[\"ar_bevybar;2e46577640af0b8812ae385fdf429b27866595df5825a2fc7364845ac4352895\"]      1\n",
       "[\"ar_bevybar;253b7dc121d0bc130d7c129bf347dba5aa09f803645892f3f3f6c685c16be6ba\"]      1\n",
       "[\"ar_bevybar;d292fd0f57b79f8b766e1c62b49926e9a2f49ffad28e03cfa00cea75bdfe828b\"]      1\n",
       "[\"ar_bevybar;f9f2460c8afb3e98188a44a771ea85622ba26963eba85044627dbfa79a5f468c\"]      1\n",
       "[\"ar_bevybar;cac62db13963581e31a38b87936bc8159123e3b174567b412895e64d884f76c0\"]      1\n",
       "[\"ar_bevybar;8960e218c87a3f38f468ff206081d5a42115f036e30db55ab566a89fe006d15b\"]      1\n",
       "[\"ar_bevybar;3a6109963dc238b8bf1a49aaa417e93feacd98ecb9df644fb08a9badf9a8224c\"]      1\n",
       "[\"ar_bevybar;eed93cbd4c969f89ed7e40d1fb9b8a8db23d64deccb72437a1cb850b9e884cfa\"]      1\n",
       "[\"ar_bevybar;1b3bd6412ef47a075bf496b29270cf469a4b994ecfbde5e8a71196c4c7c54613\"]      1\n",
       "[\"ar_bevybar;c5769523817e84f02f1b1860760c7333e80471788a9c11f146795e7cfc64d36e\"]      1\n",
       "[\"ar_bevybar;d03bc803a7ad6deb0ec3e63d13d51f8f8b5addf3e47bbab8f5a0c18c098e9e9f\"]      1\n",
       "[\"ar_bevybar;4c2deb82b9f683bb30c0dfe8c90385f118a85481ebe54416f16dff53fb4a90c6\"]      1\n",
       "[\"ar_bevybar;6e24adfb960e831515492b77d1b9d601827af0907b56afe12be3b1ba8d8beaa5\"]      1\n",
       "[\"ar_bevybar;62b0e45e1562054e15bf0aa11850ac3909914b7476bd51fe5fc8f5d2f96718f2\"]      1\n",
       "[\"ar_bevybar;81094ba3c2b658afcdf1dfc18754bab1440134ba48bf0a2851874b72c04f2ddf\"]      1\n",
       "Name: id, Length: 21670, dtype: int64"
      ]
     },
     "execution_count": 27,
     "metadata": {},
     "output_type": "execute_result"
    }
   ],
   "source": [
    "tp_arg_2017.id.value_counts()"
   ]
  },
  {
   "cell_type": "code",
   "execution_count": 28,
   "metadata": {
    "scrolled": true
   },
   "outputs": [
    {
     "data": {
      "text/plain": [
       "Pack Conservadora Corona                                    2601\n",
       "Copas Stella Artois 330ml - Pack 6 unidades                 2330\n",
       "Copa Patagonia 400ml - Pack 6 unidades                      1690\n",
       "Pack de 6 Copas de Edición Limitada                         1560\n",
       "Pack de 3 Copas Edición Limitada                            1305\n",
       "Pack de Cervezas Europeas                                   1223\n",
       "Pack Corona Experience                                      1168\n",
       "Pack de Cervezas y Vasos Patagonia                          1114\n",
       "Copa Edición Limitada Stella Artois Brasil                   951\n",
       "Copa Edición Limitada Stella Artois Uganda                   931\n",
       "Pack de Cervezas y Chopp Patagonia Octubrefest               912\n",
       "Destapador Stella Artois                                     727\n",
       "Cerveza Hoegaarden White                                     654\n",
       "Copa Edición Limitada Stella Artois Camboya                  611\n",
       "Copas Stella Artois 250ml - Pack 6 unidades                  599\n",
       "Copas Stella Artois Navidad - Pack 6 unidades                583\n",
       "Vaso Patagonia Curvo 500ml. - Pack 6 unidades                574\n",
       "Frapera Corona                                               565\n",
       "Pack de Cervezas y Vasos Patagonia XL                        550\n",
       "Cerveza Leffe Royale Whitbread Golding                       547\n",
       "Cerveza Leffe Blond                                          532\n",
       "Cerveza Franziskaner Weissbier Hell                          490\n",
       "Caja Los personajes de la Navidad                            468\n",
       "Pack de Cervezas y Copas Stella Artois Christmas Edition     461\n",
       "Pack de Cervezas y Frapera Corona                            460\n",
       "Pack de Cervezas y Vasos de Colección                        436\n",
       "Pack de cervezas y Vasos Patagonia 24.7                      423\n",
       "Cerveza Negra Modelo                                         402\n",
       "Cerveza Leffe Brune                                          387\n",
       "Cerveza Patagonia 24.7 - Session IPA con Sauco 710ml         384\n",
       "                                                            ... \n",
       "Pack de Cocktail Bazooka Beer                                  1\n",
       "Pack de Cervezas de Estilo Alemán XL                           1\n",
       "Cerveza Barba Roja Morena                                      1\n",
       "Pack de Cervezas y Pintas Peñón del Águila XL                  1\n",
       "Absolut Vodka Peach                                            1\n",
       "Licor Kahlúa                                                   1\n",
       "Kit Patagonia Octubrefest Mujer                                1\n",
       "Vino Imposible Malbec                                          1\n",
       "Whisky The Famous Grouse                                       1\n",
       "Pack de Cervezas y Vinos Amables                               1\n",
       "Licor Cointreau                                                1\n",
       "Pack de Vinos Elegidos de Garage 2                             1\n",
       "Stella Artois Noire 975                                        1\n",
       "Pack de Vinos Malbec Especiales                                1\n",
       "Ron Barceló Imperial                                           1\n",
       "Pack de Vinos Slección Bodega Condeminal                       1\n",
       "Pack Buenbec                                                   1\n",
       "Cartel Beer                                                    1\n",
       "Kit Cervezas y Accesorios Oktoberfest Mujer                    1\n",
       "Kit Cervezas y Accesorios Oktoberfest Para Los Dos             1\n",
       "Pack de Vinos Selección Bodega Riccitelli                      1\n",
       "Licor Grand Marnier                                            1\n",
       "Cerveza Barba Roja Honey                                       1\n",
       "Pack de Cervezas y Vinos Intensos                              1\n",
       "Ron Flor de Caña Centenario 12                                 1\n",
       "Ron Flor de Caña Centenario 18                                 1\n",
       "Cerveza Patagonia 24.7 - Session IPA con Sauco - Single        1\n",
       "Cerveza Cape Horn Nut Brown Ale                                1\n",
       "Pack Al mejor estilo alemán                                    1\n",
       "Pravda Vodka                                                   1\n",
       "Name: name, Length: 654, dtype: int64"
      ]
     },
     "execution_count": 28,
     "metadata": {},
     "output_type": "execute_result"
    }
   ],
   "source": [
    "##EDA Productos mas vendidos\n",
    "tp_h.name.value_counts()"
   ]
  },
  {
   "cell_type": "code",
   "execution_count": 29,
   "metadata": {},
   "outputs": [
    {
     "data": {
      "text/html": [
       "<div>\n",
       "<style scoped>\n",
       "    .dataframe tbody tr th:only-of-type {\n",
       "        vertical-align: middle;\n",
       "    }\n",
       "\n",
       "    .dataframe tbody tr th {\n",
       "        vertical-align: top;\n",
       "    }\n",
       "\n",
       "    .dataframe thead th {\n",
       "        text-align: right;\n",
       "    }\n",
       "</style>\n",
       "<table border=\"1\" class=\"dataframe\">\n",
       "  <thead>\n",
       "    <tr style=\"text-align: right;\">\n",
       "      <th></th>\n",
       "      <th>country</th>\n",
       "      <th>id</th>\n",
       "      <th>unit_discount_usd</th>\n",
       "      <th>unit_gross_revenue_local</th>\n",
       "      <th>order_date</th>\n",
       "      <th>order_status</th>\n",
       "      <th>customer_spk</th>\n",
       "      <th>unit_price_charged_local</th>\n",
       "      <th>unit_delivery_charged_local</th>\n",
       "      <th>quantity</th>\n",
       "      <th>unit_net_revenue_local</th>\n",
       "      <th>order_time</th>\n",
       "      <th>brand</th>\n",
       "      <th>name</th>\n",
       "      <th>category</th>\n",
       "      <th>subcategory</th>\n",
       "      <th>year</th>\n",
       "      <th>month</th>\n",
       "      <th>day</th>\n",
       "    </tr>\n",
       "  </thead>\n",
       "  <tbody>\n",
       "    <tr>\n",
       "      <th>17162</th>\n",
       "      <td>Argentina</td>\n",
       "      <td>[\"ar_bevybar;8b3eb4b88a85ba3eeb60dd24686995c38...</td>\n",
       "      <td>0.0000</td>\n",
       "      <td>1030.0000</td>\n",
       "      <td>2017-09-20</td>\n",
       "      <td>paid</td>\n",
       "      <td>ar_bevybar;8b3eb4b88a85ba3eeb60dd24686995c38b4...</td>\n",
       "      <td>890.0</td>\n",
       "      <td>140.0000</td>\n",
       "      <td>1</td>\n",
       "      <td>788.0530</td>\n",
       "      <td>1900-01-01 18:19:39</td>\n",
       "      <td>Corona</td>\n",
       "      <td>Pack Corona Experience</td>\n",
       "      <td>Beer</td>\n",
       "      <td>Others</td>\n",
       "      <td>2017</td>\n",
       "      <td>9</td>\n",
       "      <td>20</td>\n",
       "    </tr>\n",
       "    <tr>\n",
       "      <th>17165</th>\n",
       "      <td>Argentina</td>\n",
       "      <td>[\"ar_bevybar;41434b744330c691cf83b70da3fa080c8...</td>\n",
       "      <td>0.0000</td>\n",
       "      <td>631.0000</td>\n",
       "      <td>2017-06-13</td>\n",
       "      <td>paid</td>\n",
       "      <td>ar_bevybar;41434b744330c691cf83b70da3fa080c85a...</td>\n",
       "      <td>432.0</td>\n",
       "      <td>199.0000</td>\n",
       "      <td>1</td>\n",
       "      <td>493.6944</td>\n",
       "      <td>1900-01-01 12:56:23</td>\n",
       "      <td>Patagonia Brewing Co.</td>\n",
       "      <td>Pack de Cervezas y Vasos Patagonia</td>\n",
       "      <td>Mixed Pack</td>\n",
       "      <td>unknown</td>\n",
       "      <td>2017</td>\n",
       "      <td>6</td>\n",
       "      <td>13</td>\n",
       "    </tr>\n",
       "    <tr>\n",
       "      <th>17174</th>\n",
       "      <td>Argentina</td>\n",
       "      <td>[\"ar_bevybar;2aedfe0c0b63ee0da640463d4b0a09f74...</td>\n",
       "      <td>2.7181</td>\n",
       "      <td>234.6542</td>\n",
       "      <td>2017-02-28</td>\n",
       "      <td>paid</td>\n",
       "      <td>ar_bevybar;2aedfe0c0b63ee0da640463d4b0a09f74f9...</td>\n",
       "      <td>265.0</td>\n",
       "      <td>14.7222</td>\n",
       "      <td>1</td>\n",
       "      <td>176.2018</td>\n",
       "      <td>1900-01-01 23:33:23</td>\n",
       "      <td>Peñón del Águila</td>\n",
       "      <td>Cerveza Peñón del Águila Kölsch</td>\n",
       "      <td>Beer</td>\n",
       "      <td>unknown</td>\n",
       "      <td>2017</td>\n",
       "      <td>2</td>\n",
       "      <td>28</td>\n",
       "    </tr>\n",
       "    <tr>\n",
       "      <th>17175</th>\n",
       "      <td>Argentina</td>\n",
       "      <td>[\"ar_bevybar;2aedfe0c0b63ee0da640463d4b0a09f74...</td>\n",
       "      <td>1.8052</td>\n",
       "      <td>155.8458</td>\n",
       "      <td>2017-02-28</td>\n",
       "      <td>paid</td>\n",
       "      <td>ar_bevybar;2aedfe0c0b63ee0da640463d4b0a09f74f9...</td>\n",
       "      <td>44.0</td>\n",
       "      <td>9.7778</td>\n",
       "      <td>4</td>\n",
       "      <td>117.0246</td>\n",
       "      <td>1900-01-01 23:33:23</td>\n",
       "      <td>Peñón del Águila</td>\n",
       "      <td>Cerveza Peñón del Águila Kölsch</td>\n",
       "      <td>Beer</td>\n",
       "      <td>unknown</td>\n",
       "      <td>2017</td>\n",
       "      <td>2</td>\n",
       "      <td>28</td>\n",
       "    </tr>\n",
       "    <tr>\n",
       "      <th>17176</th>\n",
       "      <td>Argentina</td>\n",
       "      <td>[\"ar_bevybar;2aedfe0c0b63ee0da640463d4b0a09f74...</td>\n",
       "      <td>9.0465</td>\n",
       "      <td>910.0000</td>\n",
       "      <td>2017-07-30</td>\n",
       "      <td>paid</td>\n",
       "      <td>ar_bevybar;2aedfe0c0b63ee0da640463d4b0a09f74f9...</td>\n",
       "      <td>1011.0</td>\n",
       "      <td>49.0000</td>\n",
       "      <td>1</td>\n",
       "      <td>698.5160</td>\n",
       "      <td>1900-01-01 17:15:42</td>\n",
       "      <td>BevyBar</td>\n",
       "      <td>Pack Degustación del Mes de Julio XL</td>\n",
       "      <td>Mixed Pack</td>\n",
       "      <td>unknown</td>\n",
       "      <td>2017</td>\n",
       "      <td>7</td>\n",
       "      <td>30</td>\n",
       "    </tr>\n",
       "  </tbody>\n",
       "</table>\n",
       "</div>"
      ],
      "text/plain": [
       "         country                                                 id  \\\n",
       "17162  Argentina  [\"ar_bevybar;8b3eb4b88a85ba3eeb60dd24686995c38...   \n",
       "17165  Argentina  [\"ar_bevybar;41434b744330c691cf83b70da3fa080c8...   \n",
       "17174  Argentina  [\"ar_bevybar;2aedfe0c0b63ee0da640463d4b0a09f74...   \n",
       "17175  Argentina  [\"ar_bevybar;2aedfe0c0b63ee0da640463d4b0a09f74...   \n",
       "17176  Argentina  [\"ar_bevybar;2aedfe0c0b63ee0da640463d4b0a09f74...   \n",
       "\n",
       "       unit_discount_usd  unit_gross_revenue_local order_date order_status  \\\n",
       "17162             0.0000                 1030.0000 2017-09-20         paid   \n",
       "17165             0.0000                  631.0000 2017-06-13         paid   \n",
       "17174             2.7181                  234.6542 2017-02-28         paid   \n",
       "17175             1.8052                  155.8458 2017-02-28         paid   \n",
       "17176             9.0465                  910.0000 2017-07-30         paid   \n",
       "\n",
       "                                            customer_spk  \\\n",
       "17162  ar_bevybar;8b3eb4b88a85ba3eeb60dd24686995c38b4...   \n",
       "17165  ar_bevybar;41434b744330c691cf83b70da3fa080c85a...   \n",
       "17174  ar_bevybar;2aedfe0c0b63ee0da640463d4b0a09f74f9...   \n",
       "17175  ar_bevybar;2aedfe0c0b63ee0da640463d4b0a09f74f9...   \n",
       "17176  ar_bevybar;2aedfe0c0b63ee0da640463d4b0a09f74f9...   \n",
       "\n",
       "       unit_price_charged_local  unit_delivery_charged_local  quantity  \\\n",
       "17162                     890.0                     140.0000         1   \n",
       "17165                     432.0                     199.0000         1   \n",
       "17174                     265.0                      14.7222         1   \n",
       "17175                      44.0                       9.7778         4   \n",
       "17176                    1011.0                      49.0000         1   \n",
       "\n",
       "       unit_net_revenue_local          order_time                  brand  \\\n",
       "17162                788.0530 1900-01-01 18:19:39                 Corona   \n",
       "17165                493.6944 1900-01-01 12:56:23  Patagonia Brewing Co.   \n",
       "17174                176.2018 1900-01-01 23:33:23       Peñón del Águila   \n",
       "17175                117.0246 1900-01-01 23:33:23       Peñón del Águila   \n",
       "17176                698.5160 1900-01-01 17:15:42                BevyBar   \n",
       "\n",
       "                                       name    category subcategory  year  \\\n",
       "17162                Pack Corona Experience        Beer      Others  2017   \n",
       "17165    Pack de Cervezas y Vasos Patagonia  Mixed Pack     unknown  2017   \n",
       "17174       Cerveza Peñón del Águila Kölsch        Beer     unknown  2017   \n",
       "17175       Cerveza Peñón del Águila Kölsch        Beer     unknown  2017   \n",
       "17176  Pack Degustación del Mes de Julio XL  Mixed Pack     unknown  2017   \n",
       "\n",
       "       month  day  \n",
       "17162      9   20  \n",
       "17165      6   13  \n",
       "17174      2   28  \n",
       "17175      2   28  \n",
       "17176      7   30  "
      ]
     },
     "execution_count": 29,
     "metadata": {},
     "output_type": "execute_result"
    }
   ],
   "source": [
    "tp_h.head()"
   ]
  },
  {
   "cell_type": "code",
   "execution_count": 30,
   "metadata": {
    "scrolled": true
   },
   "outputs": [
    {
     "data": {
      "text/plain": [
       "array(['Corona', 'Patagonia Brewing Co.', 'Peñón del Águila', 'BevyBar',\n",
       "       'Stella Artois', 'Bass Brewery', 'Leffe', \"Fuller's\",\n",
       "       'Spaten-Franziskaner-Bräu', 'Karlsberg Brauerei',\n",
       "       'Les Brasseurs de Gayant\\xa0', 'Barba Roja', 'Coopers Brewery',\n",
       "       'Brouwerij Van Steenberge', 'Hoegaarden', 'Backus y Johnston',\n",
       "       'Löwenbräu', 'Brauerei Beck & Co',\n",
       "       'Fabricas Nacionales De Cerveza',\n",
       "       'De La Vaca Tranquila Cervezas Artesanales',\n",
       "       'Paulaner Brauerei München', 'Duvel Moortgat', 'Zillertal',\n",
       "       'Baltika Breweries', 'Hofbräu München', 'Chimay',\n",
       "       'Kronenbourg 1664', 'Czechvar', 'Kulmbacher Brauerei AG',\n",
       "       'Grimbergen', 'Maredsous', 'Tsingtao',\n",
       "       'Cervecería y Maltería Quilmes', 'Fábricas Nacionales De Cerveza',\n",
       "       'Anchor Brewing Company', 'Cervecería Antares', 'Condeminal',\n",
       "       'Brasserie de Silly', 'SAB Miller', 'Bodega Budeguer', 'Shock Top',\n",
       "       'Belsh', 'OETTINGER Brauerei GmbH', 'Erdinger Weissbräu',\n",
       "       'Águila Real', 'Manos Negras', 'Freixenet', 'The Fran-C Wines',\n",
       "       'Finca Ferrer', 'Bodega Renacer', 'Oranjeboom', 'Maal Wines',\n",
       "       'Antigua', 'Boris Biere', 'unknown', 'Revancha', 'Huentala Wines',\n",
       "       'Bodega Cruz Primero', 'Bodega del Desierto', 'Tinto Negro',\n",
       "       'Corbeau Wines', 'Isle of Jura', 'Barceló', '2km',\n",
       "       'Whyte & Mackay', 'The Patrón Spirits Company', 'MixxTail', 'Skol',\n",
       "       'Rye', 'Mundo Revés', 'Mulata', 'Bodega José Luis Mounier',\n",
       "       'Jim Beam', 'Pravda', 'Belenkaya', 'Aura', 'Mosquita Muerta Wines',\n",
       "       'Hennessy', 'Flor de Caña', 'Traslapiedra', 'Tres14', 'Beluga',\n",
       "       'Bottega', 'Matías Riccitelli', 'The Glenrothes', 'Cinzano',\n",
       "       'Xoriguer', 'Absolut', 'Havana Club', 'Fuegian Beverage Company',\n",
       "       'Bacardi', 'The Famous Grouse', 'Grand Marnier', 'Cointreau',\n",
       "       'Kahlúa'], dtype=object)"
      ]
     },
     "execution_count": 30,
     "metadata": {},
     "output_type": "execute_result"
    }
   ],
   "source": [
    "tp_h.brand.unique()"
   ]
  },
  {
   "cell_type": "code",
   "execution_count": 31,
   "metadata": {},
   "outputs": [],
   "source": [
    "#Cambio todos los brands de importadas por 'importadas'\n",
    "tp_arg_2017.brand = tp_arg_2017.brand.replace(to_replace = ['Cervecería Antares','Flensburger Brauerei','Fábricas Nacionales De Cerveza', 'Fabricas Nacionales De Cerveza', 'Cerveceria Artesanal El Bolson', 'Peñón del Águila', 'Leffe', 'Spaten-Franziskaner-Bräu', 'BBC', 'Cervecería Artesanal El Bolson',\n",
    "       'Anchor Brewing Company', 'Bass Brewery', 'Hofbräu München',\n",
    "       'Adnams', \"Fuller's\", 'Karlsberg Brauerei',\n",
    "       'Les Brasseurs de Gayant\\xa0',\n",
    "       'Brouwerij Van Steenberge', 'Hoegaarden',\n",
    "       'Fuegian Beverage Company',\n",
    "       'De La Vaca Tranquila Cervezas Artesanales', 'Tsingtao',\n",
    "       'Löwenbräu', 'unknown', 'Barba Roja', 'Coopers Brewery',\n",
    "       'Backus y Johnston', 'Brauerei Beck & Co', 'MixxTail', 'Shock Top',\n",
    "       'Bogotá Beer Company',\n",
    "       'Czechvar', 'Belle-Vue', 'Paulaner Brauerei München',\n",
    "       'Duvel Moortgat', 'Zillertal', 'Baltika Breweries', 'Chimay',\n",
    "       'Kronenbourg 1664', 'Kulmbacher Brauerei AG', 'Grimbergen',\n",
    "       'Maredsous',\n",
    "       'franziskaner', 'Condeminal', 'Erdinger Weissbräu',\n",
    "       'Brasserie de Silly', 'SAB Miller','Bodega Budeguer',\n",
    "       'Skol', 'Belsh', 'OETTINGER Brauerei GmbH', 'Águila Real', 'Hertog Jan', 'Manos Negras', 'Freixenet',\n",
    "       'The Fran-C Wines', 'Finca Ferrer', 'Bodega Renacer', 'Oranjeboom',\n",
    "       'Maal Wines', 'Tinto Negro', 'Corbeau Wines',\n",
    "       'Mosquita Muerta Wines', 'Bodega del Desierto', 'Antigua',\n",
    "       'Boris Biere', 'Barceló', 'Boddingtons', 'Bombay', 'Jägermeister',\n",
    "       'Revancha', 'Huentala Wines', 'Bodega Cruz Primero', 'Aura',\n",
    "       'Harvierstoun', 'Chivas Regal', 'Weidmann', 'Isle of Jura', 'Belenkaya',\n",
    "       '2km', \"Jack Daniel's\", 'Johnnie Walker', 'Whyte & Mackay',\n",
    "       'The Patrón Spirits Company', 'Amarula', 'Havana Club',\n",
    "       'Matías Riccitelli', 'Mulata', 'Rye', 'Mundo Revés', 'Brahma',\n",
    "       'Bodega José Luis Mounier', 'José Cuervo', 'Jim Beam', 'Bier Life',\n",
    "       'Makers Mark', 'Mistral', 'Príncipe de los Apóstoles',\n",
    "       'Flor de Caña', 'Bacardi', 'Absolut', 'Pravda', 'Greene King',\n",
    "       'SKYY', 'Hennessy', 'Noctua', 'Jameson', 'Traslapiedra',\n",
    "       'Bodega Ojo de Vino', 'Tres14', 'Velho Barreiro', 'Van Pur',\n",
    "       'SIAM', 'Beluga', 'Bottega', 'Campari', 'The Glenrothes',\n",
    "       'Cinzano', 'Xoriguer', 'El Jimador', 'Kahlúa', 'Malibu', 'Aperol',\n",
    "       'The Botanist', 'Brasserie de Luxemburgo Mousel - Diekrich',\n",
    "       'The Famous Grouse', 'MG Destilerías', 'Grand Marnier',\n",
    "       'Cointreau', 'Finca Beth', 'The Mula Cervezas Especiales',\n",
    "       'Anima Mundi'],value = 'importada')"
   ]
  },
  {
   "cell_type": "code",
   "execution_count": 32,
   "metadata": {
    "scrolled": true
   },
   "outputs": [
    {
     "data": {
      "text/plain": [
       "array(['Corona', 'Patagonia Brewing Co.', 'importada', 'BevyBar',\n",
       "       'Stella Artois', 'Cervecería y Maltería Quilmes'], dtype=object)"
      ]
     },
     "execution_count": 32,
     "metadata": {},
     "output_type": "execute_result"
    }
   ],
   "source": [
    "#Vemos los brands que quedaron\n",
    "tp_arg_2017['brand'].unique()"
   ]
  },
  {
   "cell_type": "code",
   "execution_count": 33,
   "metadata": {},
   "outputs": [
    {
     "data": {
      "text/plain": [
       "(57761, 30)"
      ]
     },
     "execution_count": 33,
     "metadata": {},
     "output_type": "execute_result"
    }
   ],
   "source": [
    "np.shape(tp_arg_2017)"
   ]
  },
  {
   "cell_type": "markdown",
   "metadata": {},
   "source": [
    "## Hasta aca tenemos un tp_h identico al original pero con menos columnas, y un tp_arg_2017 con un par mas de columnas agrupado por brand importadas"
   ]
  },
  {
   "cell_type": "code",
   "execution_count": 34,
   "metadata": {
    "scrolled": true
   },
   "outputs": [
    {
     "data": {
      "text/plain": [
       "id\n",
       "[\"ar_bevybar;00005c5b185e25f9c7b9642ca76950fe43e4fcce6c02cbbf7a8768f2dd1ed395\"]    3\n",
       "[\"ar_bevybar;0004e1e6b290d864e2776edc0ddd5ad41eb651a793dfaaa8a0053d25bcc3b741\"]    1\n",
       "[\"ar_bevybar;0005c424ba71c03ac51d8a08844d281966d94b9cd2c5392c1d5b502c83c752ab\"]    3\n",
       "[\"ar_bevybar;0005e62d3b4e32822912913c24ad71de8f1a213bbd7980398cd73f7202677851\"]    9\n",
       "[\"ar_bevybar;00078c1eb18da02b9da6835c16bdf960a37fb1fa830f0a5c75145bcab5107721\"]    4\n",
       "[\"ar_bevybar;000a79e8f3fbccdb6ce37315cbbb5d2baeed8e38a1468ad67cfb43c74a79304c\"]    1\n",
       "[\"ar_bevybar;000e8d3fcdd026d84901038b522daa7dfbee79d49364e087dfc1f604bdded74a\"]    3\n",
       "[\"ar_bevybar;00165a04cac08882d8389a3ba4e42715a810db0824f4c807e852c57d9711ec2d\"]    2\n",
       "[\"ar_bevybar;0017ddf1d1f53ebfa4234926764df3610a82e8aacf8d3e62238f792cb7afcb20\"]    1\n",
       "[\"ar_bevybar;001967fb1a3b3ddd3e46fec548a5211d72147d9c67aa52cc160be253c601b6c6\"]    1\n",
       "[\"ar_bevybar;002133fa896e207bb223125b31801ad66edfbb84376ce16a9815c18abcf145c6\"]    1\n",
       "[\"ar_bevybar;0022d9d95d8e4ef52363b1aa4a8b1cad74eaf303020d5db20058b105a340d13c\"]    1\n",
       "[\"ar_bevybar;00264d15a2936e8569723e5f0c0ac67ead9ed862e928bb2d32770568537b8fc2\"]    1\n",
       "[\"ar_bevybar;00275f7f81bce31d096ed48fc446f9c0c841db59af0d7504170827247a6d3561\"]    2\n",
       "[\"ar_bevybar;0028d324b89c306779cf8ae65fd561072993f1081039d23f9727e550844616b8\"]    2\n",
       "[\"ar_bevybar;002acc0238a03e23c28fd49741e9eb4f29170baf8491c0e079b12891f84c3cf4\"]    3\n",
       "[\"ar_bevybar;002d9eda8f1f3606992d4e343990aeaff603bd072019841131dc7851550aaa42\"]    2\n",
       "[\"ar_bevybar;0030657e3372d6810a0b86b825d0e96e98e6d96576e32d4241e64e0326b291d2\"]    1\n",
       "[\"ar_bevybar;003b17a6862be38c1ce0e0db58cdde1d6d64ca1d3bae9f3fc72c5abb351b6232\"]    1\n",
       "[\"ar_bevybar;003ce53a641f02d6f7ae6345a873737b1e9cab3caeb717ecd245a42e5fc00335\"]    2\n",
       "[\"ar_bevybar;0040cafdd2587d573012a5173a2d4956148933ae60b73d75ca14d8107f8da7ff\"]    2\n",
       "[\"ar_bevybar;00427b2c484b06c3434467a8729f4e576e9d8fcfb75d54dac410a320f3182c9d\"]    1\n",
       "[\"ar_bevybar;0043641040e25b45aa9d1ebbc27776fb18bcf3e64c0539d866923080929f9d33\"]    3\n",
       "[\"ar_bevybar;0046a933338af7d4b78a5157298af2d236b5280eef25ee5d39ed654d352e3829\"]    3\n",
       "[\"ar_bevybar;00472836321bbeaa19f09c41439595125c71bb793e06dc30c5a128cab4210e21\"]    3\n",
       "[\"ar_bevybar;004c79120fa3052fd711abd0416c11fd1cb1ebc8f50a37d158f0d8d0b372e0ce\"]    1\n",
       "[\"ar_bevybar;004f5f696fabc4f867edaa690b3c8f6975c74823f9e2c21ac6b0996c8628fd14\"]    2\n",
       "[\"ar_bevybar;00515f446edb844fcc26a49378a9a4ea19486581d374d7cd502d7cdd6c8260d9\"]    1\n",
       "[\"ar_bevybar;0053bf3a24d43bb43b6491722e3d1668afb1b9825baf2456b7e84670c2ef7dc9\"]    4\n",
       "[\"ar_bevybar;00568324ae58d06764770d4e748f3869351b880dce951d0162a53d2dcd8949c1\"]    1\n",
       "                                                                                  ..\n",
       "[\"ar_bevybar;ffaba744ab59d74e4f809327eff8b7efbbe7f9455c6919ab289fc7939590a7d7\"]    1\n",
       "[\"ar_bevybar;ffb02611e1b5463a6d49e22c57d0f474a54c5e5060fc213b96f4ea2b3343deb4\"]    1\n",
       "[\"ar_bevybar;ffb3066dbad1c42edc48b0db2ac2728c49277b3101df134748c14f81ed29ed44\"]    2\n",
       "[\"ar_bevybar;ffb4c6be4e7a700f2e91445eb8c05ebe492d5a9a259f3d1bae2305fe75d40262\"]    1\n",
       "[\"ar_bevybar;ffbfd90f49d4cba6a1795206e5123ac6f42559db06a7e38255f25c853ea0c2c3\"]    3\n",
       "[\"ar_bevybar;ffc0650422b04d56332ed52bc4d7fab64dcc6bc9366a07b08027c45173ecb2b4\"]    1\n",
       "[\"ar_bevybar;ffc62edd3859a2db55ff62ad8e68e3bdaa16018f4928274ff54126b10bb1c30b\"]    1\n",
       "[\"ar_bevybar;ffc68d8d60e31903b56afff1544a8db486a315842dbb8ee457209fef2e24992e\"]    1\n",
       "[\"ar_bevybar;ffc93132980eb7e396009686350f6a950597759b5facf9e955c519f126f6a0ce\"]    1\n",
       "[\"ar_bevybar;ffca3a06562c3cd99b2a3d2430f4ac91f4e83c446e51f2d8d2dd9d786374bf7f\"]    1\n",
       "[\"ar_bevybar;ffce16ba73935a9951671ab5c77a018705171cb239b3e34ee2fc7210645a3f3b\"]    1\n",
       "[\"ar_bevybar;ffce59bb2aabc21946860c59343d2e9f985dfdbfcc9ab1cabd672a4595223d14\"]    1\n",
       "[\"ar_bevybar;ffd03eb17a451b41d18c22540798d9f1455e45362ad62709c77bebc0339f4b33\"]    4\n",
       "[\"ar_bevybar;ffd11ff5df5ba59bfc16e69569d724cbf08542d3a9f999444e4b0d10f9d44334\"]    1\n",
       "[\"ar_bevybar;ffd587e883a7ed5e9d8e4b7a239516bc4de95937c4d378ec5ff2b3a492750d1d\"]    4\n",
       "[\"ar_bevybar;ffd9291a74051ee5fac37ec5fd1b553f1ff08ddbf0eeb21e1336402cccab9476\"]    4\n",
       "[\"ar_bevybar;ffdf9e47411af57ec7443188f5eb7c45019a399114c8546e68ee0b4abe42e720\"]    2\n",
       "[\"ar_bevybar;ffe7cbf256834a9b5da7064d6b31f351f034332a6517eaeadf5d477ebbc200f8\"]    2\n",
       "[\"ar_bevybar;ffe8306252982ec11c941e15573303d6b40d36998f719f50b5d024e7b17ec45b\"]    3\n",
       "[\"ar_bevybar;ffe9f24e1677027997ad2320696613b0683c38744388672d94217b94c94a068e\"]    1\n",
       "[\"ar_bevybar;ffeb2121a9cee661fd0cadc6a15c5ccd2e899a8272a9d56b36dccb664c9c909b\"]    1\n",
       "[\"ar_bevybar;ffee02fe5d7c9a3f0f51ff1ccd3edba42429c264efbe47dbdcf64376a23460c8\"]    7\n",
       "[\"ar_bevybar;fff1adc4e9625902f5a6e89f74a4df5c3d47efe1c377c82d286771a42cac10d4\"]    1\n",
       "[\"ar_bevybar;fff1c9b72005ce83881392a527c3585af9afc8c91302698d23dbbc953d60580b\"]    1\n",
       "[\"ar_bevybar;fff33ad1a6889dac12c962113d7e60d05bd6ec99cd911dfb013852405ab2131e\"]    1\n",
       "[\"ar_bevybar;fff922001a477927e24d26b1a87a206f0573942323838ac9d621bcbb592aef02\"]    2\n",
       "[\"ar_bevybar;fffb7a5da24f41d032153ce556a5ed314e04fedc119f1e7a554d355abe64194d\"]    2\n",
       "[\"ar_bevybar;fffbb8edf70c71525f81510749d4630b4382bd03011fe2cc1e3892823f1a7289\"]    2\n",
       "[\"ar_bevybar;fffbf771b620aacdd1b941fb6c73459542d6f6eb8564e69c42a4388c3c34d3e3\"]    3\n",
       "[\"ar_bevybar;unknown0.7515810593491495\"]                                           1\n",
       "Name: id, Length: 20797, dtype: int64"
      ]
     },
     "execution_count": 34,
     "metadata": {},
     "output_type": "execute_result"
    }
   ],
   "source": [
    "##Tabla para ver cuantas veces compró cada usuario\n",
    "compras_usuario = tp_arg_2017.groupby(['id'])['id'].count()\n",
    "compras_usuario = compras_usuario.loc[compras_usuario < 10]\n",
    "compras_usuario"
   ]
  },
  {
   "cell_type": "code",
   "execution_count": 35,
   "metadata": {
    "scrolled": false
   },
   "outputs": [
    {
     "data": {
      "image/png": "[encoded data removed]",
      "text/plain": [
       "<Figure size 432x288 with 1 Axes>"
      ]
     },
     "metadata": {
      "needs_background": "light"
     },
     "output_type": "display_data"
    }
   ],
   "source": [
    "#Graficamos la distribución de compras por usuario\n",
    "plt.boxplot(compras_usuario)\n",
    "plt.title(\"Dist de cantidad de compras por usuario\")\n",
    "plt.xlabel(\"id\")\n",
    "plt.show()\n",
    "## En un periodo de un año, la mediana de compra es de una compra."
   ]
  },
  {
   "cell_type": "code",
   "execution_count": 36,
   "metadata": {
    "scrolled": true
   },
   "outputs": [
    {
     "data": {
      "text/plain": [
       "0.000        2.251700\n",
       "0.250      190.000000\n",
       "0.500      650.176500\n",
       "0.750      955.000000\n",
       "0.990     3271.600000\n",
       "0.999     7458.907876\n",
       "1.000    15732.000000\n",
       "Name: unit_gross_revenue_local, dtype: float64"
      ]
     },
     "execution_count": 36,
     "metadata": {},
     "output_type": "execute_result"
    }
   ],
   "source": [
    "#Analizamos los quintiles del gasto hecho en cada compra\n",
    "tp_arg_2017['unit_gross_revenue_local'].quantile([0,0.25,0.5,0.75,0.99,0.999,1])"
   ]
  },
  {
   "cell_type": "code",
   "execution_count": 37,
   "metadata": {
    "scrolled": true
   },
   "outputs": [
    {
     "data": {
      "text/plain": [
       "count    57761.000000\n",
       "mean       718.094484\n",
       "std        714.264389\n",
       "min          2.251700\n",
       "25%        190.000000\n",
       "50%        650.176500\n",
       "75%        955.000000\n",
       "max      15732.000000\n",
       "Name: unit_gross_revenue_local, dtype: float64"
      ]
     },
     "execution_count": 37,
     "metadata": {},
     "output_type": "execute_result"
    }
   ],
   "source": [
    "#Lo guardamos en la variable \"gastos\" para graficarlo, pero quitandole el máximo para hacer más visible el gráfico\n",
    "gastos = tp_arg_2017['unit_gross_revenue_local'].quantile([0,0.25,0.5,0.75,0.99,0.999])\n",
    "#Analizamos cómo quedaría su distribución\n",
    "tp_arg_2017['unit_gross_revenue_local'].describe()"
   ]
  },
  {
   "cell_type": "code",
   "execution_count": 38,
   "metadata": {},
   "outputs": [
    {
     "data": {
      "image/png": "[encoded data removed]",
      "text/plain": [
       "<Figure size 432x288 with 1 Axes>"
      ]
     },
     "metadata": {
      "needs_background": "light"
     },
     "output_type": "display_data"
    }
   ],
   "source": [
    "#Graficamos el diagrama de caja de gasto por compra\n",
    "plt.boxplot(gastos)\n",
    "plt.title(\"Dist de gastos por compra\")\n",
    "plt.xlabel(\"unit_gross_revenue_local\")\n",
    "plt.show()"
   ]
  },
  {
   "cell_type": "code",
   "execution_count": 39,
   "metadata": {},
   "outputs": [
    {
     "data": {
      "image/png": "[encoded data removed]",
      "text/plain": [
       "<Figure size 432x288 with 1 Axes>"
      ]
     },
     "metadata": {
      "needs_background": "light"
     },
     "output_type": "display_data"
    }
   ],
   "source": [
    "#Graficamos su distribución\n",
    "sns.distplot(gastos)\n",
    "plt.title('Distribución de gastos por compra')\n",
    "plt.xlabel('Gastos por compra')\n",
    "plt.show()"
   ]
  },
  {
   "cell_type": "code",
   "execution_count": 40,
   "metadata": {},
   "outputs": [
    {
     "data": {
      "text/plain": [
       "paid                  56609\n",
       "pending                 417\n",
       "refunded                404\n",
       "partially_refunded      329\n",
       "partially_paid            2\n",
       "Name: order_status, dtype: int64"
      ]
     },
     "execution_count": 40,
     "metadata": {},
     "output_type": "execute_result"
    }
   ],
   "source": [
    "#Vemos la cantidad de apariciones de estados de pagos\n",
    "tp_arg_2017.order_status.value_counts()"
   ]
  },
  {
   "cell_type": "code",
   "execution_count": 41,
   "metadata": {},
   "outputs": [
    {
     "data": {
      "text/plain": [
       "(57761, 19)"
      ]
     },
     "execution_count": 41,
     "metadata": {},
     "output_type": "execute_result"
    }
   ],
   "source": [
    "#Dejamos el dataset sin grand_total_is_zero\n",
    "tp_arg_2017 = tp_arg_2017.loc[tp_arg_2017['order_status'].isin(['paid', 'pending', 'refunded','partially_refunded','autorized','partially_paid'])]\n",
    "#Dejamos el otro tambien\n",
    "tp_h = tp_h.loc[tp_h['order_status'].isin(['paid', 'pending', 'refunded','partially_refunded','autorized','partially_paid'])]\n",
    "tp_h.shape"
   ]
  },
  {
   "cell_type": "code",
   "execution_count": 42,
   "metadata": {},
   "outputs": [
    {
     "data": {
      "text/plain": [
       "importada                        19994\n",
       "Stella Artois                    12311\n",
       "Patagonia Brewing Co.             9617\n",
       "BevyBar                           8436\n",
       "Corona                            6933\n",
       "Cervecería y Maltería Quilmes      470\n",
       "Name: brand, dtype: int64"
      ]
     },
     "execution_count": 42,
     "metadata": {},
     "output_type": "execute_result"
    }
   ],
   "source": [
    "#Analizamos la cantidad de apariciones por cada marca\n",
    "tp_arg_2017.brand.value_counts()"
   ]
  },
  {
   "cell_type": "code",
   "execution_count": 43,
   "metadata": {},
   "outputs": [
    {
     "data": {
      "text/plain": [
       "Mixed Pack      31540\n",
       "Beer            19622\n",
       "Merchandise      5569\n",
       "Wine              676\n",
       "Spirits           203\n",
       "unknown           107\n",
       "Home Brewing       44\n",
       "Name: category, dtype: int64"
      ]
     },
     "execution_count": 43,
     "metadata": {},
     "output_type": "execute_result"
    }
   ],
   "source": [
    "#Analizamos la cantidad de apariciones por cada categoría\n",
    "tp_arg_2017.category.value_counts()"
   ]
  },
  {
   "cell_type": "code",
   "execution_count": 44,
   "metadata": {},
   "outputs": [
    {
     "data": {
      "text/plain": [
       "(56731, 30)"
      ]
     },
     "execution_count": 44,
     "metadata": {},
     "output_type": "execute_result"
    }
   ],
   "source": [
    "#Aca ya queda el dataset\n",
    "tp_h = tp_h.loc[tp_h['category'].isin(['Mixed Pack', 'Beer', 'Merchandise'])]\n",
    "tp_arg_2017 = tp_arg_2017.loc[tp_arg_2017['category'].isin(['Mixed Pack', 'Beer', 'Merchandise'])]\n",
    "tp_arg_2017.shape"
   ]
  },
  {
   "cell_type": "code",
   "execution_count": 45,
   "metadata": {},
   "outputs": [
    {
     "data": {
      "image/png": "[encoded data removed]",
      "text/plain": [
       "<Figure size 1080x216 with 1 Axes>"
      ]
     },
     "metadata": {
      "needs_background": "light"
     },
     "output_type": "display_data"
    }
   ],
   "source": [
    "plt.figure(figsize=(15,3))\n",
    "g = sns.countplot(x=\"category\",data= tp_arg_2017, palette = \"muted\")\n",
    "g.set_xticklabels(g.get_xticklabels(), rotation=90, ha=\"right\")\n",
    "plt.title('Cantidad de apariciones por Category',size = 20)\n",
    "plt.xlabel(\"category\")\n",
    "plt.ylabel(\"Count\")\n",
    "plt.show()"
   ]
  },
  {
   "cell_type": "code",
   "execution_count": 46,
   "metadata": {
    "scrolled": false
   },
   "outputs": [
    {
     "data": {
      "image/png": "[encoded data removed]",
      "text/plain": [
       "<Figure size 1080x216 with 1 Axes>"
      ]
     },
     "metadata": {
      "needs_background": "light"
     },
     "output_type": "display_data"
    }
   ],
   "source": [
    "plt.figure(figsize=(15,3))\n",
    "g = sns.countplot(x=\"brand\",data=tp_arg_2017, palette = \"muted\", order = tp_arg_2017['brand'].value_counts().index)\n",
    "g.set_xticklabels(g.get_xticklabels(), rotation=90, ha=\"right\")\n",
    "plt.title('Cantidad de Apariciones por Brand',size = 30)\n",
    "plt.xlabel(\"brand\")\n",
    "plt.ylabel(\"Count\")\n",
    "plt.show()"
   ]
  },
  {
   "cell_type": "code",
   "execution_count": 47,
   "metadata": {},
   "outputs": [
    {
     "data": {
      "text/html": [
       "<div>\n",
       "<style scoped>\n",
       "    .dataframe tbody tr th:only-of-type {\n",
       "        vertical-align: middle;\n",
       "    }\n",
       "\n",
       "    .dataframe tbody tr th {\n",
       "        vertical-align: top;\n",
       "    }\n",
       "\n",
       "    .dataframe thead tr th {\n",
       "        text-align: left;\n",
       "    }\n",
       "\n",
       "    .dataframe thead tr:last-of-type th {\n",
       "        text-align: right;\n",
       "    }\n",
       "</style>\n",
       "<table border=\"1\" class=\"dataframe\">\n",
       "  <thead>\n",
       "    <tr>\n",
       "      <th></th>\n",
       "      <th colspan=\"3\" halign=\"left\">quantity</th>\n",
       "    </tr>\n",
       "    <tr>\n",
       "      <th>category</th>\n",
       "      <th>Beer</th>\n",
       "      <th>Merchandise</th>\n",
       "      <th>Mixed Pack</th>\n",
       "    </tr>\n",
       "    <tr>\n",
       "      <th>month</th>\n",
       "      <th></th>\n",
       "      <th></th>\n",
       "      <th></th>\n",
       "    </tr>\n",
       "  </thead>\n",
       "  <tbody>\n",
       "    <tr>\n",
       "      <th>1</th>\n",
       "      <td>3302</td>\n",
       "      <td>687</td>\n",
       "      <td>1351</td>\n",
       "    </tr>\n",
       "    <tr>\n",
       "      <th>2</th>\n",
       "      <td>2810</td>\n",
       "      <td>2546</td>\n",
       "      <td>2445</td>\n",
       "    </tr>\n",
       "    <tr>\n",
       "      <th>3</th>\n",
       "      <td>1850</td>\n",
       "      <td>1033</td>\n",
       "      <td>2335</td>\n",
       "    </tr>\n",
       "    <tr>\n",
       "      <th>4</th>\n",
       "      <td>3275</td>\n",
       "      <td>370</td>\n",
       "      <td>1976</td>\n",
       "    </tr>\n",
       "    <tr>\n",
       "      <th>5</th>\n",
       "      <td>2092</td>\n",
       "      <td>534</td>\n",
       "      <td>4785</td>\n",
       "    </tr>\n",
       "    <tr>\n",
       "      <th>6</th>\n",
       "      <td>2828</td>\n",
       "      <td>796</td>\n",
       "      <td>2556</td>\n",
       "    </tr>\n",
       "    <tr>\n",
       "      <th>7</th>\n",
       "      <td>4004</td>\n",
       "      <td>583</td>\n",
       "      <td>3140</td>\n",
       "    </tr>\n",
       "    <tr>\n",
       "      <th>8</th>\n",
       "      <td>1428</td>\n",
       "      <td>329</td>\n",
       "      <td>813</td>\n",
       "    </tr>\n",
       "    <tr>\n",
       "      <th>9</th>\n",
       "      <td>4997</td>\n",
       "      <td>1043</td>\n",
       "      <td>3390</td>\n",
       "    </tr>\n",
       "    <tr>\n",
       "      <th>10</th>\n",
       "      <td>3218</td>\n",
       "      <td>442</td>\n",
       "      <td>4256</td>\n",
       "    </tr>\n",
       "    <tr>\n",
       "      <th>11</th>\n",
       "      <td>2354</td>\n",
       "      <td>176</td>\n",
       "      <td>5583</td>\n",
       "    </tr>\n",
       "    <tr>\n",
       "      <th>12</th>\n",
       "      <td>2385</td>\n",
       "      <td>118</td>\n",
       "      <td>4598</td>\n",
       "    </tr>\n",
       "  </tbody>\n",
       "</table>\n",
       "</div>"
      ],
      "text/plain": [
       "         quantity                       \n",
       "category     Beer Merchandise Mixed Pack\n",
       "month                                   \n",
       "1            3302         687       1351\n",
       "2            2810        2546       2445\n",
       "3            1850        1033       2335\n",
       "4            3275         370       1976\n",
       "5            2092         534       4785\n",
       "6            2828         796       2556\n",
       "7            4004         583       3140\n",
       "8            1428         329        813\n",
       "9            4997        1043       3390\n",
       "10           3218         442       4256\n",
       "11           2354         176       5583\n",
       "12           2385         118       4598"
      ]
     },
     "execution_count": 47,
     "metadata": {},
     "output_type": "execute_result"
    }
   ],
   "source": [
    "#Me fijo las cantidades totales de categoría por todos los meses.\n",
    "tp_pivot_cat = pd.pivot_table(data = tp_arg_2017, values = ['quantity'], index = ['month'], columns = ['category'], aggfunc= np.sum, )\n",
    "tp_pivot_cat"
   ]
  },
  {
   "cell_type": "code",
   "execution_count": 48,
   "metadata": {
    "scrolled": true
   },
   "outputs": [
    {
     "data": {
      "text/html": [
       "<div>\n",
       "<style scoped>\n",
       "    .dataframe tbody tr th:only-of-type {\n",
       "        vertical-align: middle;\n",
       "    }\n",
       "\n",
       "    .dataframe tbody tr th {\n",
       "        vertical-align: top;\n",
       "    }\n",
       "\n",
       "    .dataframe thead tr th {\n",
       "        text-align: left;\n",
       "    }\n",
       "\n",
       "    .dataframe thead tr:last-of-type th {\n",
       "        text-align: right;\n",
       "    }\n",
       "</style>\n",
       "<table border=\"1\" class=\"dataframe\">\n",
       "  <thead>\n",
       "    <tr>\n",
       "      <th></th>\n",
       "      <th colspan=\"6\" halign=\"left\">quantity</th>\n",
       "    </tr>\n",
       "    <tr>\n",
       "      <th>brand</th>\n",
       "      <th>BevyBar</th>\n",
       "      <th>Cervecería y Maltería Quilmes</th>\n",
       "      <th>Corona</th>\n",
       "      <th>Patagonia Brewing Co.</th>\n",
       "      <th>Stella Artois</th>\n",
       "      <th>importada</th>\n",
       "    </tr>\n",
       "    <tr>\n",
       "      <th>month</th>\n",
       "      <th></th>\n",
       "      <th></th>\n",
       "      <th></th>\n",
       "      <th></th>\n",
       "      <th></th>\n",
       "      <th></th>\n",
       "    </tr>\n",
       "  </thead>\n",
       "  <tbody>\n",
       "    <tr>\n",
       "      <th>1</th>\n",
       "      <td>255</td>\n",
       "      <td>56</td>\n",
       "      <td>419</td>\n",
       "      <td>953</td>\n",
       "      <td>1252</td>\n",
       "      <td>2405</td>\n",
       "    </tr>\n",
       "    <tr>\n",
       "      <th>2</th>\n",
       "      <td>238</td>\n",
       "      <td>92</td>\n",
       "      <td>386</td>\n",
       "      <td>665</td>\n",
       "      <td>4156</td>\n",
       "      <td>2264</td>\n",
       "    </tr>\n",
       "    <tr>\n",
       "      <th>3</th>\n",
       "      <td>286</td>\n",
       "      <td>30</td>\n",
       "      <td>275</td>\n",
       "      <td>576</td>\n",
       "      <td>2456</td>\n",
       "      <td>1595</td>\n",
       "    </tr>\n",
       "    <tr>\n",
       "      <th>4</th>\n",
       "      <td>461</td>\n",
       "      <td>18</td>\n",
       "      <td>635</td>\n",
       "      <td>650</td>\n",
       "      <td>964</td>\n",
       "      <td>2893</td>\n",
       "    </tr>\n",
       "    <tr>\n",
       "      <th>5</th>\n",
       "      <td>1857</td>\n",
       "      <td>37</td>\n",
       "      <td>585</td>\n",
       "      <td>1162</td>\n",
       "      <td>1362</td>\n",
       "      <td>2408</td>\n",
       "    </tr>\n",
       "    <tr>\n",
       "      <th>6</th>\n",
       "      <td>798</td>\n",
       "      <td>17</td>\n",
       "      <td>624</td>\n",
       "      <td>729</td>\n",
       "      <td>1636</td>\n",
       "      <td>2376</td>\n",
       "    </tr>\n",
       "    <tr>\n",
       "      <th>7</th>\n",
       "      <td>722</td>\n",
       "      <td>80</td>\n",
       "      <td>1047</td>\n",
       "      <td>1721</td>\n",
       "      <td>971</td>\n",
       "      <td>3186</td>\n",
       "    </tr>\n",
       "    <tr>\n",
       "      <th>8</th>\n",
       "      <td>121</td>\n",
       "      <td>30</td>\n",
       "      <td>246</td>\n",
       "      <td>561</td>\n",
       "      <td>464</td>\n",
       "      <td>1148</td>\n",
       "    </tr>\n",
       "    <tr>\n",
       "      <th>9</th>\n",
       "      <td>141</td>\n",
       "      <td>88</td>\n",
       "      <td>1042</td>\n",
       "      <td>2627</td>\n",
       "      <td>1414</td>\n",
       "      <td>4118</td>\n",
       "    </tr>\n",
       "    <tr>\n",
       "      <th>10</th>\n",
       "      <td>1555</td>\n",
       "      <td>61</td>\n",
       "      <td>1180</td>\n",
       "      <td>1687</td>\n",
       "      <td>729</td>\n",
       "      <td>2704</td>\n",
       "    </tr>\n",
       "    <tr>\n",
       "      <th>11</th>\n",
       "      <td>1468</td>\n",
       "      <td>74</td>\n",
       "      <td>1768</td>\n",
       "      <td>1213</td>\n",
       "      <td>1697</td>\n",
       "      <td>1893</td>\n",
       "    </tr>\n",
       "    <tr>\n",
       "      <th>12</th>\n",
       "      <td>1451</td>\n",
       "      <td>38</td>\n",
       "      <td>1546</td>\n",
       "      <td>843</td>\n",
       "      <td>1111</td>\n",
       "      <td>2112</td>\n",
       "    </tr>\n",
       "  </tbody>\n",
       "</table>\n",
       "</div>"
      ],
      "text/plain": [
       "      quantity                                                             \\\n",
       "brand  BevyBar Cervecería y Maltería Quilmes Corona Patagonia Brewing Co.   \n",
       "month                                                                       \n",
       "1          255                            56    419                   953   \n",
       "2          238                            92    386                   665   \n",
       "3          286                            30    275                   576   \n",
       "4          461                            18    635                   650   \n",
       "5         1857                            37    585                  1162   \n",
       "6          798                            17    624                   729   \n",
       "7          722                            80   1047                  1721   \n",
       "8          121                            30    246                   561   \n",
       "9          141                            88   1042                  2627   \n",
       "10        1555                            61   1180                  1687   \n",
       "11        1468                            74   1768                  1213   \n",
       "12        1451                            38   1546                   843   \n",
       "\n",
       "                               \n",
       "brand Stella Artois importada  \n",
       "month                          \n",
       "1              1252      2405  \n",
       "2              4156      2264  \n",
       "3              2456      1595  \n",
       "4               964      2893  \n",
       "5              1362      2408  \n",
       "6              1636      2376  \n",
       "7               971      3186  \n",
       "8               464      1148  \n",
       "9              1414      4118  \n",
       "10              729      2704  \n",
       "11             1697      1893  \n",
       "12             1111      2112  "
      ]
     },
     "execution_count": 48,
     "metadata": {},
     "output_type": "execute_result"
    }
   ],
   "source": [
    "#Idem anterior pero por marca\n",
    "tp_pivot_brand = pd.pivot_table(data = tp_arg_2017, values = ['quantity'], index = ['month'], columns = ['brand'], aggfunc= np.sum, )\n",
    "tp_pivot_brand"
   ]
  },
  {
   "cell_type": "code",
   "execution_count": 49,
   "metadata": {},
   "outputs": [
    {
     "data": {
      "text/html": [
       "<div>\n",
       "<style scoped>\n",
       "    .dataframe tbody tr th:only-of-type {\n",
       "        vertical-align: middle;\n",
       "    }\n",
       "\n",
       "    .dataframe tbody tr th {\n",
       "        vertical-align: top;\n",
       "    }\n",
       "\n",
       "    .dataframe thead tr th {\n",
       "        text-align: left;\n",
       "    }\n",
       "\n",
       "    .dataframe thead tr:last-of-type th {\n",
       "        text-align: right;\n",
       "    }\n",
       "</style>\n",
       "<table border=\"1\" class=\"dataframe\">\n",
       "  <thead>\n",
       "    <tr>\n",
       "      <th></th>\n",
       "      <th colspan=\"18\" halign=\"left\">quantity</th>\n",
       "    </tr>\n",
       "    <tr>\n",
       "      <th>brand</th>\n",
       "      <th colspan=\"3\" halign=\"left\">BevyBar</th>\n",
       "      <th colspan=\"3\" halign=\"left\">Cervecería y Maltería Quilmes</th>\n",
       "      <th colspan=\"3\" halign=\"left\">Corona</th>\n",
       "      <th colspan=\"3\" halign=\"left\">Patagonia Brewing Co.</th>\n",
       "      <th colspan=\"3\" halign=\"left\">Stella Artois</th>\n",
       "      <th colspan=\"3\" halign=\"left\">importada</th>\n",
       "    </tr>\n",
       "    <tr>\n",
       "      <th>category</th>\n",
       "      <th>Beer</th>\n",
       "      <th>Merchandise</th>\n",
       "      <th>Mixed Pack</th>\n",
       "      <th>Beer</th>\n",
       "      <th>Merchandise</th>\n",
       "      <th>Mixed Pack</th>\n",
       "      <th>Beer</th>\n",
       "      <th>Merchandise</th>\n",
       "      <th>Mixed Pack</th>\n",
       "      <th>Beer</th>\n",
       "      <th>Merchandise</th>\n",
       "      <th>Mixed Pack</th>\n",
       "      <th>Beer</th>\n",
       "      <th>Merchandise</th>\n",
       "      <th>Mixed Pack</th>\n",
       "      <th>Beer</th>\n",
       "      <th>Merchandise</th>\n",
       "      <th>Mixed Pack</th>\n",
       "    </tr>\n",
       "    <tr>\n",
       "      <th>month</th>\n",
       "      <th></th>\n",
       "      <th></th>\n",
       "      <th></th>\n",
       "      <th></th>\n",
       "      <th></th>\n",
       "      <th></th>\n",
       "      <th></th>\n",
       "      <th></th>\n",
       "      <th></th>\n",
       "      <th></th>\n",
       "      <th></th>\n",
       "      <th></th>\n",
       "      <th></th>\n",
       "      <th></th>\n",
       "      <th></th>\n",
       "      <th></th>\n",
       "      <th></th>\n",
       "      <th></th>\n",
       "    </tr>\n",
       "  </thead>\n",
       "  <tbody>\n",
       "    <tr>\n",
       "      <th>1</th>\n",
       "      <td>NaN</td>\n",
       "      <td>NaN</td>\n",
       "      <td>255.0</td>\n",
       "      <td>56.0</td>\n",
       "      <td>NaN</td>\n",
       "      <td>NaN</td>\n",
       "      <td>284.0</td>\n",
       "      <td>124.0</td>\n",
       "      <td>11.0</td>\n",
       "      <td>406.0</td>\n",
       "      <td>115.0</td>\n",
       "      <td>432.0</td>\n",
       "      <td>269.0</td>\n",
       "      <td>444.0</td>\n",
       "      <td>539.0</td>\n",
       "      <td>2287.0</td>\n",
       "      <td>4.0</td>\n",
       "      <td>114.0</td>\n",
       "    </tr>\n",
       "    <tr>\n",
       "      <th>2</th>\n",
       "      <td>NaN</td>\n",
       "      <td>NaN</td>\n",
       "      <td>238.0</td>\n",
       "      <td>92.0</td>\n",
       "      <td>NaN</td>\n",
       "      <td>NaN</td>\n",
       "      <td>191.0</td>\n",
       "      <td>172.0</td>\n",
       "      <td>23.0</td>\n",
       "      <td>254.0</td>\n",
       "      <td>67.0</td>\n",
       "      <td>344.0</td>\n",
       "      <td>115.0</td>\n",
       "      <td>2306.0</td>\n",
       "      <td>1735.0</td>\n",
       "      <td>2158.0</td>\n",
       "      <td>1.0</td>\n",
       "      <td>105.0</td>\n",
       "    </tr>\n",
       "    <tr>\n",
       "      <th>3</th>\n",
       "      <td>1.0</td>\n",
       "      <td>NaN</td>\n",
       "      <td>285.0</td>\n",
       "      <td>30.0</td>\n",
       "      <td>NaN</td>\n",
       "      <td>NaN</td>\n",
       "      <td>55.0</td>\n",
       "      <td>81.0</td>\n",
       "      <td>139.0</td>\n",
       "      <td>161.0</td>\n",
       "      <td>45.0</td>\n",
       "      <td>370.0</td>\n",
       "      <td>75.0</td>\n",
       "      <td>907.0</td>\n",
       "      <td>1474.0</td>\n",
       "      <td>1528.0</td>\n",
       "      <td>NaN</td>\n",
       "      <td>67.0</td>\n",
       "    </tr>\n",
       "    <tr>\n",
       "      <th>4</th>\n",
       "      <td>19.0</td>\n",
       "      <td>NaN</td>\n",
       "      <td>442.0</td>\n",
       "      <td>18.0</td>\n",
       "      <td>NaN</td>\n",
       "      <td>NaN</td>\n",
       "      <td>192.0</td>\n",
       "      <td>52.0</td>\n",
       "      <td>391.0</td>\n",
       "      <td>297.0</td>\n",
       "      <td>24.0</td>\n",
       "      <td>329.0</td>\n",
       "      <td>56.0</td>\n",
       "      <td>288.0</td>\n",
       "      <td>620.0</td>\n",
       "      <td>2693.0</td>\n",
       "      <td>6.0</td>\n",
       "      <td>194.0</td>\n",
       "    </tr>\n",
       "    <tr>\n",
       "      <th>5</th>\n",
       "      <td>9.0</td>\n",
       "      <td>NaN</td>\n",
       "      <td>1848.0</td>\n",
       "      <td>14.0</td>\n",
       "      <td>NaN</td>\n",
       "      <td>23.0</td>\n",
       "      <td>140.0</td>\n",
       "      <td>105.0</td>\n",
       "      <td>340.0</td>\n",
       "      <td>245.0</td>\n",
       "      <td>21.0</td>\n",
       "      <td>896.0</td>\n",
       "      <td>70.0</td>\n",
       "      <td>403.0</td>\n",
       "      <td>889.0</td>\n",
       "      <td>1614.0</td>\n",
       "      <td>5.0</td>\n",
       "      <td>789.0</td>\n",
       "    </tr>\n",
       "    <tr>\n",
       "      <th>6</th>\n",
       "      <td>32.0</td>\n",
       "      <td>NaN</td>\n",
       "      <td>766.0</td>\n",
       "      <td>3.0</td>\n",
       "      <td>NaN</td>\n",
       "      <td>14.0</td>\n",
       "      <td>359.0</td>\n",
       "      <td>133.0</td>\n",
       "      <td>132.0</td>\n",
       "      <td>274.0</td>\n",
       "      <td>24.0</td>\n",
       "      <td>431.0</td>\n",
       "      <td>121.0</td>\n",
       "      <td>639.0</td>\n",
       "      <td>876.0</td>\n",
       "      <td>2039.0</td>\n",
       "      <td>NaN</td>\n",
       "      <td>337.0</td>\n",
       "    </tr>\n",
       "    <tr>\n",
       "      <th>7</th>\n",
       "      <td>39.0</td>\n",
       "      <td>NaN</td>\n",
       "      <td>683.0</td>\n",
       "      <td>3.0</td>\n",
       "      <td>15.0</td>\n",
       "      <td>62.0</td>\n",
       "      <td>600.0</td>\n",
       "      <td>189.0</td>\n",
       "      <td>258.0</td>\n",
       "      <td>367.0</td>\n",
       "      <td>25.0</td>\n",
       "      <td>1329.0</td>\n",
       "      <td>117.0</td>\n",
       "      <td>352.0</td>\n",
       "      <td>502.0</td>\n",
       "      <td>2878.0</td>\n",
       "      <td>2.0</td>\n",
       "      <td>306.0</td>\n",
       "    </tr>\n",
       "    <tr>\n",
       "      <th>8</th>\n",
       "      <td>2.0</td>\n",
       "      <td>NaN</td>\n",
       "      <td>119.0</td>\n",
       "      <td>8.0</td>\n",
       "      <td>2.0</td>\n",
       "      <td>20.0</td>\n",
       "      <td>136.0</td>\n",
       "      <td>87.0</td>\n",
       "      <td>23.0</td>\n",
       "      <td>241.0</td>\n",
       "      <td>50.0</td>\n",
       "      <td>270.0</td>\n",
       "      <td>44.0</td>\n",
       "      <td>176.0</td>\n",
       "      <td>244.0</td>\n",
       "      <td>997.0</td>\n",
       "      <td>14.0</td>\n",
       "      <td>137.0</td>\n",
       "    </tr>\n",
       "    <tr>\n",
       "      <th>9</th>\n",
       "      <td>1.0</td>\n",
       "      <td>1.0</td>\n",
       "      <td>139.0</td>\n",
       "      <td>NaN</td>\n",
       "      <td>33.0</td>\n",
       "      <td>55.0</td>\n",
       "      <td>565.0</td>\n",
       "      <td>307.0</td>\n",
       "      <td>170.0</td>\n",
       "      <td>712.0</td>\n",
       "      <td>199.0</td>\n",
       "      <td>1716.0</td>\n",
       "      <td>211.0</td>\n",
       "      <td>429.0</td>\n",
       "      <td>774.0</td>\n",
       "      <td>3508.0</td>\n",
       "      <td>74.0</td>\n",
       "      <td>536.0</td>\n",
       "    </tr>\n",
       "    <tr>\n",
       "      <th>10</th>\n",
       "      <td>23.0</td>\n",
       "      <td>NaN</td>\n",
       "      <td>1532.0</td>\n",
       "      <td>NaN</td>\n",
       "      <td>15.0</td>\n",
       "      <td>46.0</td>\n",
       "      <td>831.0</td>\n",
       "      <td>254.0</td>\n",
       "      <td>95.0</td>\n",
       "      <td>336.0</td>\n",
       "      <td>30.0</td>\n",
       "      <td>1321.0</td>\n",
       "      <td>145.0</td>\n",
       "      <td>104.0</td>\n",
       "      <td>480.0</td>\n",
       "      <td>1883.0</td>\n",
       "      <td>39.0</td>\n",
       "      <td>782.0</td>\n",
       "    </tr>\n",
       "    <tr>\n",
       "      <th>11</th>\n",
       "      <td>14.0</td>\n",
       "      <td>NaN</td>\n",
       "      <td>1454.0</td>\n",
       "      <td>1.0</td>\n",
       "      <td>12.0</td>\n",
       "      <td>61.0</td>\n",
       "      <td>438.0</td>\n",
       "      <td>50.0</td>\n",
       "      <td>1280.0</td>\n",
       "      <td>283.0</td>\n",
       "      <td>31.0</td>\n",
       "      <td>899.0</td>\n",
       "      <td>217.0</td>\n",
       "      <td>39.0</td>\n",
       "      <td>1441.0</td>\n",
       "      <td>1401.0</td>\n",
       "      <td>44.0</td>\n",
       "      <td>448.0</td>\n",
       "    </tr>\n",
       "    <tr>\n",
       "      <th>12</th>\n",
       "      <td>6.0</td>\n",
       "      <td>NaN</td>\n",
       "      <td>1445.0</td>\n",
       "      <td>NaN</td>\n",
       "      <td>8.0</td>\n",
       "      <td>30.0</td>\n",
       "      <td>209.0</td>\n",
       "      <td>54.0</td>\n",
       "      <td>1283.0</td>\n",
       "      <td>213.0</td>\n",
       "      <td>27.0</td>\n",
       "      <td>603.0</td>\n",
       "      <td>148.0</td>\n",
       "      <td>27.0</td>\n",
       "      <td>936.0</td>\n",
       "      <td>1809.0</td>\n",
       "      <td>2.0</td>\n",
       "      <td>301.0</td>\n",
       "    </tr>\n",
       "  </tbody>\n",
       "</table>\n",
       "</div>"
      ],
      "text/plain": [
       "         quantity                                                       \\\n",
       "brand     BevyBar                        Cervecería y Maltería Quilmes   \n",
       "category     Beer Merchandise Mixed Pack                          Beer   \n",
       "month                                                                    \n",
       "1             NaN         NaN      255.0                          56.0   \n",
       "2             NaN         NaN      238.0                          92.0   \n",
       "3             1.0         NaN      285.0                          30.0   \n",
       "4            19.0         NaN      442.0                          18.0   \n",
       "5             9.0         NaN     1848.0                          14.0   \n",
       "6            32.0         NaN      766.0                           3.0   \n",
       "7            39.0         NaN      683.0                           3.0   \n",
       "8             2.0         NaN      119.0                           8.0   \n",
       "9             1.0         1.0      139.0                           NaN   \n",
       "10           23.0         NaN     1532.0                           NaN   \n",
       "11           14.0         NaN     1454.0                           1.0   \n",
       "12            6.0         NaN     1445.0                           NaN   \n",
       "\n",
       "                                                               \\\n",
       "brand                           Corona                          \n",
       "category Merchandise Mixed Pack   Beer Merchandise Mixed Pack   \n",
       "month                                                           \n",
       "1                NaN        NaN  284.0       124.0       11.0   \n",
       "2                NaN        NaN  191.0       172.0       23.0   \n",
       "3                NaN        NaN   55.0        81.0      139.0   \n",
       "4                NaN        NaN  192.0        52.0      391.0   \n",
       "5                NaN       23.0  140.0       105.0      340.0   \n",
       "6                NaN       14.0  359.0       133.0      132.0   \n",
       "7               15.0       62.0  600.0       189.0      258.0   \n",
       "8                2.0       20.0  136.0        87.0       23.0   \n",
       "9               33.0       55.0  565.0       307.0      170.0   \n",
       "10              15.0       46.0  831.0       254.0       95.0   \n",
       "11              12.0       61.0  438.0        50.0     1280.0   \n",
       "12               8.0       30.0  209.0        54.0     1283.0   \n",
       "\n",
       "                                                                     \\\n",
       "brand    Patagonia Brewing Co.                        Stella Artois   \n",
       "category                  Beer Merchandise Mixed Pack          Beer   \n",
       "month                                                                 \n",
       "1                        406.0       115.0      432.0         269.0   \n",
       "2                        254.0        67.0      344.0         115.0   \n",
       "3                        161.0        45.0      370.0          75.0   \n",
       "4                        297.0        24.0      329.0          56.0   \n",
       "5                        245.0        21.0      896.0          70.0   \n",
       "6                        274.0        24.0      431.0         121.0   \n",
       "7                        367.0        25.0     1329.0         117.0   \n",
       "8                        241.0        50.0      270.0          44.0   \n",
       "9                        712.0       199.0     1716.0         211.0   \n",
       "10                       336.0        30.0     1321.0         145.0   \n",
       "11                       283.0        31.0      899.0         217.0   \n",
       "12                       213.0        27.0      603.0         148.0   \n",
       "\n",
       "                                                                  \n",
       "brand                           importada                         \n",
       "category Merchandise Mixed Pack      Beer Merchandise Mixed Pack  \n",
       "month                                                             \n",
       "1              444.0      539.0    2287.0         4.0      114.0  \n",
       "2             2306.0     1735.0    2158.0         1.0      105.0  \n",
       "3              907.0     1474.0    1528.0         NaN       67.0  \n",
       "4              288.0      620.0    2693.0         6.0      194.0  \n",
       "5              403.0      889.0    1614.0         5.0      789.0  \n",
       "6              639.0      876.0    2039.0         NaN      337.0  \n",
       "7              352.0      502.0    2878.0         2.0      306.0  \n",
       "8              176.0      244.0     997.0        14.0      137.0  \n",
       "9              429.0      774.0    3508.0        74.0      536.0  \n",
       "10             104.0      480.0    1883.0        39.0      782.0  \n",
       "11              39.0     1441.0    1401.0        44.0      448.0  \n",
       "12              27.0      936.0    1809.0         2.0      301.0  "
      ]
     },
     "execution_count": 49,
     "metadata": {},
     "output_type": "execute_result"
    }
   ],
   "source": [
    "#esta sería la pivot de las pivots, la idea es ver todo por mes para saber mejor la distribución\n",
    "tp_pivot_two = pd.pivot_table(data = tp_arg_2017, values = ['quantity'], index = ['month'], columns = ['brand', 'category'], aggfunc= np.sum, )\n",
    "tp_pivot_two"
   ]
  },
  {
   "cell_type": "code",
   "execution_count": 50,
   "metadata": {
    "scrolled": true
   },
   "outputs": [],
   "source": [
    "#Hacemos 2 datasets que agrupen por, mes y día c/u, así podemos ver la variación\n",
    "tp_by_month = tp_arg_2017.groupby(['month']).sum() \n",
    "tp_by_day = tp_arg_2017.groupby(['day']).sum() "
   ]
  },
  {
   "cell_type": "code",
   "execution_count": 51,
   "metadata": {},
   "outputs": [
    {
     "data": {
      "text/plain": [
       "<matplotlib.axes._subplots.AxesSubplot at 0x3cd82d0>"
      ]
     },
     "execution_count": 51,
     "metadata": {},
     "output_type": "execute_result"
    },
    {
     "data": {
      "image/png": "[encoded data removed]",
      "text/plain": [
       "<Figure size 1440x720 with 1 Axes>"
      ]
     },
     "metadata": {
      "needs_background": "light"
     },
     "output_type": "display_data"
    }
   ],
   "source": [
    "#Vemos los días del mes en que se dieron mayores compras\n",
    "tp_by_day.quantity.plot.bar(figsize=(20,10))"
   ]
  },
  {
   "cell_type": "code",
   "execution_count": 52,
   "metadata": {},
   "outputs": [
    {
     "data": {
      "image/png": "[encoded data removed]",
      "text/plain": [
       "<Figure size 432x288 with 1 Axes>"
      ]
     },
     "metadata": {
      "needs_background": "light"
     },
     "output_type": "display_data"
    }
   ],
   "source": [
    "#Analizamos evolución de ventas\n",
    "sns.set_context(\"talk\", font_scale=0.8)\n",
    "tp_by_month[('quantity')].plot(title = \"Ventas por mes\" )\n",
    "plt.legend(loc='center left', bbox_to_anchor=(1, 0.5))\n",
    "plt.show()"
   ]
  },
  {
   "cell_type": "code",
   "execution_count": 53,
   "metadata": {},
   "outputs": [],
   "source": [
    "#La idea ahora es ver si hay estacionalidad en algún mes con respecto a una marca\n",
    "#Primero filtramos por marca\n",
    "tp_corona = tp_arg_2017.loc[tp_arg_2017['brand'] == 'Corona']\n",
    "tp_importada = tp_arg_2017.loc[tp_arg_2017['brand'] == 'importada']\n",
    "tp_Stella = tp_arg_2017.loc[tp_arg_2017['brand'] == 'Stella Artois']\n",
    "tp_Patagonia = tp_arg_2017.loc[tp_arg_2017['brand'] == 'Patagonia Brewing Co.']\n",
    "tp_BevyBar = tp_arg_2017.loc[tp_arg_2017['brand'] == 'BevyBar']"
   ]
  },
  {
   "cell_type": "code",
   "execution_count": 54,
   "metadata": {},
   "outputs": [],
   "source": [
    "#Segundo agrupamos por mes y sumamos. \n",
    "tp_BevyBar_month = tp_BevyBar.groupby(['month']).sum()\n",
    "tp_Patagonia_month = tp_Patagonia.groupby(['month']).sum()\n",
    "tp_importada_month = tp_importada.groupby(['month']).sum()\n",
    "tp_Stella_month = tp_Stella.groupby(['month']).sum()\n",
    "tp_Corona_month = tp_corona.groupby(['month']).sum()"
   ]
  },
  {
   "cell_type": "code",
   "execution_count": 55,
   "metadata": {},
   "outputs": [
    {
     "data": {
      "image/png": "[encoded data removed]",
      "text/plain": [
       "<Figure size 432x288 with 1 Axes>"
      ]
     },
     "metadata": {
      "needs_background": "light"
     },
     "output_type": "display_data"
    }
   ],
   "source": [
    "#visualizamos la variación por mes de cada una. Con barras tal vez quede mas lindo.\n",
    "sns.set_context(\"talk\", font_scale=0.5)\n",
    "plt.plot(tp_BevyBar_month['quantity'], label='BevyBar')\n",
    "plt.plot(tp_Patagonia_month['quantity'], label='Patagonia')\n",
    "plt.plot(tp_importada_month['quantity'], label='Importadas')\n",
    "plt.plot(tp_Stella_month['quantity'], label='Stella')\n",
    "plt.plot(tp_Corona_month['quantity'], label='Corona')\n",
    "plt.legend(loc='center left', bbox_to_anchor=(1, 0.5))\n",
    "plt.show()"
   ]
  },
  {
   "cell_type": "code",
   "execution_count": 56,
   "metadata": {
    "scrolled": true
   },
   "outputs": [],
   "source": [
    "#Hacemos filtrado por categoría. Hago lo mismo que para Brand pero ahora con category.\n",
    "tp_beer = tp_arg_2017.loc[tp_arg_2017['category'] == 'Beer']\n",
    "tp_pack = tp_arg_2017.loc[tp_arg_2017['category'] == 'Mixed Pack']\n",
    "tp_Merchandise = tp_arg_2017.loc[tp_arg_2017['category'] == 'Merchandise']"
   ]
  },
  {
   "cell_type": "code",
   "execution_count": 57,
   "metadata": {},
   "outputs": [],
   "source": [
    "tp_beer_month = tp_beer.groupby(['month']).sum()\n",
    "tp_Merchandise_month = tp_Merchandise.groupby(['month']).sum()\n",
    "tp_pack_month = tp_pack.groupby(['month']).sum()"
   ]
  },
  {
   "cell_type": "code",
   "execution_count": 58,
   "metadata": {},
   "outputs": [
    {
     "data": {
      "image/png": "[encoded data removed]",
      "text/plain": [
       "<Figure size 432x288 with 1 Axes>"
      ]
     },
     "metadata": {
      "needs_background": "light"
     },
     "output_type": "display_data"
    }
   ],
   "source": [
    "#visualizamos la variación por mes de cada una.\n",
    "sns.set_context(\"talk\", font_scale=0.5)\n",
    "plt.plot(tp_beer_month['quantity'], label='Cerveza')\n",
    "plt.plot(tp_Merchandise_month['quantity'], label='Merchandise')\n",
    "plt.plot(tp_pack_month['quantity'], label='Pack')\n",
    "plt.legend(loc='center left', bbox_to_anchor=(1, 0.5))\n",
    "plt.show()"
   ]
  },
  {
   "cell_type": "code",
   "execution_count": 59,
   "metadata": {
    "scrolled": true
   },
   "outputs": [
    {
     "data": {
      "image/png": "[encoded data removed]",
      "text/plain": [
       "<Figure size 432x288 with 1 Axes>"
      ]
     },
     "metadata": {
      "needs_background": "light"
     },
     "output_type": "display_data"
    }
   ],
   "source": [
    "#Analizamos Merchandise por separado\n",
    "plt.plot(tp_Merchandise_month['quantity'], label='Merchandise')\n",
    "plt.legend(loc='center left', bbox_to_anchor=(1, 0.5))\n",
    "plt.show()"
   ]
  },
  {
   "cell_type": "code",
   "execution_count": 60,
   "metadata": {},
   "outputs": [
    {
     "data": {
      "text/plain": [
       "month\n",
       "1     1.004554e+06\n",
       "2     2.273109e+06\n",
       "3     1.924778e+06\n",
       "4     1.809021e+06\n",
       "5     3.528797e+06\n",
       "6     2.214526e+06\n",
       "7     2.524177e+06\n",
       "8     6.694069e+05\n",
       "9     2.773249e+06\n",
       "10    3.540251e+06\n",
       "11    4.982922e+06\n",
       "12    3.869201e+06\n",
       "Name: unit_net_revenue_local, dtype: float64"
      ]
     },
     "execution_count": 60,
     "metadata": {},
     "output_type": "execute_result"
    }
   ],
   "source": [
    "#Acá la idea es mostrar en qué meses se gasta más\n",
    "tp_by_month['unit_net_revenue_local']"
   ]
  },
  {
   "cell_type": "code",
   "execution_count": 61,
   "metadata": {},
   "outputs": [
    {
     "data": {
      "image/png": "[encoded data removed]",
      "text/plain": [
       "<Figure size 432x288 with 1 Axes>"
      ]
     },
     "metadata": {
      "needs_background": "light"
     },
     "output_type": "display_data"
    }
   ],
   "source": [
    "plt.plot(tp_by_month['unit_net_revenue_local'], label='Gastos por mes')\n",
    "plt.legend(loc='center left', bbox_to_anchor=(1, 0.5))\n",
    "plt.show()"
   ]
  },
  {
   "cell_type": "code",
   "execution_count": 62,
   "metadata": {},
   "outputs": [
    {
     "data": {
      "image/png": "[encoded data removed]",
      "text/plain": [
       "<Figure size 432x288 with 1 Axes>"
      ]
     },
     "metadata": {
      "needs_background": "light"
     },
     "output_type": "display_data"
    }
   ],
   "source": [
    "#Corroboramos con un boxplot las distribuciones en cada marca\n",
    "ay = sns.boxplot(x = tp_arg_2017.brand, y = tp_arg_2017.quantity, data = tp_arg_2017)\n",
    "ay.set_xticklabels(ay.get_xticklabels(), rotation=40, ha=\"right\")\n",
    "plt.title(\"Distribucion de Quantity\")\n",
    "plt.show()"
   ]
  },
  {
   "cell_type": "code",
   "execution_count": 63,
   "metadata": {},
   "outputs": [
    {
     "data": {
      "image/png": "[encoded data removed]",
      "text/plain": [
       "<Figure size 432x288 with 1 Axes>"
      ]
     },
     "metadata": {
      "needs_background": "light"
     },
     "output_type": "display_data"
    }
   ],
   "source": [
    "sns.distplot((tp_arg_2017['quantity']))\n",
    "plt.title('Distribución de las cantidades compradas')\n",
    "plt.xlabel('Cantidad de compras')\n",
    "plt.show()"
   ]
  },
  {
   "cell_type": "markdown",
   "metadata": {},
   "source": [
    "# El siguiente paso es aplicar un modelo de aprendizaje. El escogido es Clusterización. Para ello exportaremos el dataset limpio a un nuevo .csv y se trabajará sobre el archivo tp_grupo13_ml"
   ]
  },
  {
   "cell_type": "code",
   "execution_count": 65,
   "metadata": {},
   "outputs": [],
   "source": [
    "#Exporto el dataset y pasemos todo el resto a un notebook nuevo\n",
    "tp_h.to_csv(r'tp_grupo13_limpio.csv')"
   ]
  },
  {
   "cell_type": "code",
   "execution_count": 66,
   "metadata": {},
   "outputs": [
    {
     "data": {
      "text/plain": [
       "(56731, 19)"
      ]
     },
     "execution_count": 66,
     "metadata": {},
     "output_type": "execute_result"
    }
   ],
   "source": [
    "#Si esta bien este shape deberia coincidir con el del otro\n",
    "tp_h.shape"
   ]
  },
  {
   "cell_type": "code",
   "execution_count": null,
   "metadata": {},
   "outputs": [],
   "source": []
  }
 ],
 "metadata": {
  "kernelspec": {
   "display_name": "Python 3",
   "language": "python",
   "name": "python3"
  },
  "language_info": {
   "codemirror_mode": {
    "name": "ipython",
    "version": 3
   },
   "file_extension": ".py",
   "mimetype": "text/x-python",
   "name": "python",
   "nbconvert_exporter": "python",
   "pygments_lexer": "ipython3",
   "version": "3.6.8"
  }
 },
 "nbformat": 4,
 "nbformat_minor": 2
}
