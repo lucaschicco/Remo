{
 "cells": [
  {
   "cell_type": "code",
   "execution_count": 1,
   "id": "c2d7dae8",
   "metadata": {},
   "outputs": [],
   "source": [
    "import pandas as pd, datetime as dt\n",
    "from datetime import timedelta, datetime, date\n",
    "import numpy as np\n",
    "import xlwings as xw\n",
    "import os\n",
    "import openpyxl\n",
    "from openpyxl import load_workbook\n",
    "from openpyxl.utils.dataframe import dataframe_to_rows\n",
    "import warnings\n",
    "import matplotlib.pyplot as plt\n",
    "warnings.filterwarnings(\"ignore\")"
   ]
  },
  {
   "cell_type": "code",
   "execution_count": 5,
   "id": "a310b1c9",
   "metadata": {},
   "outputs": [],
   "source": [
    "# Define la URL del archivo CSV en GitHub\n",
    "url = \"https://raw.githubusercontent.com/lucaschicco/Remo/master/fusion%20calientes.csv\"\n",
    "\n",
    "# Lee el archivo CSV en un DataFrame de pandas\n",
    "fus2 = pd.read_csv(url, delimiter=\",\")\n",
    "fus2.rename(columns={'SiteNumber':'PBL','Site':'Nombre','Name':'Producto'},inplace=True)\n",
    "#ss2.drop(columns='Name',inplace=True)\n",
    "fus = fus2\n",
    "# Convertir la columna \"Fecha\" al tipo de dato datetime\n",
    "fus['Fecha'] = pd.to_datetime(fus['Fecha'])\n",
    "\n",
    "# Agregar la columna \"Dia_Semana\" que indica el nombre del día de la semana\n",
    "fus['Dia_Semana'] = fus['Fecha'].dt.day_name()\n",
    "\n",
    "# Obtener el año de la fecha de inicio\n",
    "inicio = fus['Fecha'].min().year\n",
    "\n",
    "# Agregar la columna \"Semana\" que indica el número de semana del año\n",
    "condiciones = [\n",
    "    (fus['Fecha'].dt.year == 2022),\n",
    "    (fus['Fecha'].dt.year == 2023)\n",
    "]\n",
    "opciones = [\n",
    "    fus['Fecha'].dt.isocalendar().week,\n",
    "    fus['Fecha'].dt.isocalendar().week + 52\n",
    "]\n",
    "fus['Semana'] = np.select(condiciones, opciones, default=0)\n",
    "\n",
    "# Ajustar el número de semana para los domingos (Sunday)\n",
    "fus.loc[fus['Dia_Semana'] == 'Sunday', 'Semana'] += 1\n",
    "\n",
    "# Establecer manualmente el número de semana para la fecha \"2023-01-01\"\n",
    "fus.loc[fus['Fecha'] == '2022-01-01', 'Semana'] = 1\n",
    "fus.loc[fus['Fecha'] == '2022-01-02', 'Semana'] = 1\n",
    "fus.loc[fus['Fecha'] == '2023-01-01', 'Semana'] = 53\n",
    "# Definir el orden deseado de los días de la semana\n",
    "orden_dias_semana = ['Sunday','Monday', 'Tuesday', 'Wednesday', 'Thursday', 'Friday', 'Saturday']\n",
    "\n",
    "# Crear una columna categórica con el orden deseado\n",
    "fus['Dia_Semana'] = pd.Categorical(fus['Dia_Semana'], categories=orden_dias_semana, ordered=True)\n",
    "fus['Fecha'] = fus['Fecha'].dt.date\n",
    "fus['Fecha'] = pd.to_datetime(fus['Fecha'])"
   ]
  },
  {
   "cell_type": "code",
   "execution_count": 3,
   "id": "94a7833f",
   "metadata": {},
   "outputs": [],
   "source": [
    "fus.sort_values(by='Fecha', inplace=True)\n",
    "fus3 = fus.drop(columns=['Fecha','Dia_Semana'])\n",
    "fus4 = fus3.groupby(['PBL','Producto','Semana','Nombre']).sum().reset_index()\n"
   ]
  },
  {
   "cell_type": "code",
   "execution_count": 4,
   "id": "773fdfa4",
   "metadata": {},
   "outputs": [
    {
     "data": {
      "application/vnd.jupyter.widget-view+json": {
       "model_id": "50543f8158934e999fe6e135c53e42f2",
       "version_major": 2,
       "version_minor": 0
      },
      "text/plain": [
       "interactive(children=(Dropdown(description='Estación:', options=('CORS LOS INCAS', 'CORS MASCHWITZ', 'EMICAS S…"
      ]
     },
     "metadata": {},
     "output_type": "display_data"
    },
    {
     "data": {
      "text/plain": [
       "<function __main__.plot_data(estacion, producto_elegido)>"
      ]
     },
     "execution_count": 4,
     "metadata": {},
     "output_type": "execute_result"
    }
   ],
   "source": [
    "import pandas as pd\n",
    "import matplotlib.pyplot as plt\n",
    "import plotly.express as px\n",
    "from ipywidgets import interact, widgets\n",
    "\n",
    "# Convierte la columna \"mes\" a tipo datetime para facilitar el ordenamiento\n",
    "#fus4['mes'] = pd.to_datetime(df2['mes'], format='%Y-%m')\n",
    "\n",
    "# Define una paleta de colores personalizada\n",
    "\n",
    "\n",
    "# Función para crear y actualizar el gráfico interactivo\n",
    "def plot_data(estacion, producto_elegido):\n",
    "    filtered_df = fus4[(fus4['Nombre'] == estacion) & (fus4['Producto'] == producto_elegido)]\n",
    "\n",
    "    fig = px.line(\n",
    "            filtered_df,\n",
    "            x='Semana',\n",
    "            y='Volumen',\n",
    "            #color='empresabandera',\n",
    "            labels={'Volumen': 'Volumen'},\n",
    "            title=f'Evolución del Volumen en {estacion} para {producto_elegido}'\n",
    "    )\n",
    "\n",
    "\n",
    "    fig.show()\n",
    "\n",
    "# Crea tres dropdowns interactivos: uno para la localidad, otro para el tipo de visualización y otro para el producto\n",
    "\n",
    "estaciones = fus4['Nombre'].unique()\n",
    "\n",
    "productos = fus4['Producto'].unique()\n",
    "estacion_dropdown = widgets.Dropdown(options=estaciones, description='Estación:')\n",
    "#provincia_dropdown = widgets.Dropdown(options=provincias, description='Provincia:')\n",
    "#visualizacion_dropdown = widgets.Dropdown(options=['Market Share', 'Volumen'], description='Visualización:')\n",
    "producto_dropdown = widgets.Dropdown(options=productos, description='Producto:')\n",
    "\n",
    "interact(plot_data, estacion=estacion_dropdown,  producto_elegido=producto_dropdown)\n"
   ]
  },
  {
   "cell_type": "code",
   "execution_count": null,
   "id": "d7a7628e",
   "metadata": {},
   "outputs": [],
   "source": []
  }
 ],
 "metadata": {
  "kernelspec": {
   "display_name": "Python 3 (ipykernel)",
   "language": "python",
   "name": "python3"
  },
  "language_info": {
   "codemirror_mode": {
    "name": "ipython",
    "version": 3
   },
   "file_extension": ".py",
   "mimetype": "text/x-python",
   "name": "python",
   "nbconvert_exporter": "python",
   "pygments_lexer": "ipython3",
   "version": "3.9.7"
  }
 },
 "nbformat": 4,
 "nbformat_minor": 5
}
