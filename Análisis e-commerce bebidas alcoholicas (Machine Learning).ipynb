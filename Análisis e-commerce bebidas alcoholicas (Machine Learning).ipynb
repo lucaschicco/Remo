{
 "cells": [
  {
   "cell_type": "code",
   "execution_count": 13,
   "metadata": {},
   "outputs": [],
   "source": [
    "#Librerias\n",
    "import numpy as np\n",
    "import pandas as pd\n",
    "import matplotlib.pyplot as plt\n",
    "import seaborn as sns\n",
    "from sklearn import preprocessing\n",
    "import datetime as DT\n",
    "#PCA y Silhouette\n",
    "from sklearn.decomposition import PCA\n",
    "from  sklearn.metrics import silhouette_score\n",
    "#Librerias de Clustering\n",
    "from sklearn.cluster import KMeans\n",
    "from scipy.cluster.hierarchy import dendrogram, linkage \n",
    "from sklearn.cluster import AgglomerativeClustering\n",
    "from sklearn import metrics\n",
    "import matplotlib.cm as cm\n",
    "from sklearn import decomposition"
   ]
  },
  {
   "cell_type": "code",
   "execution_count": 14,
   "metadata": {},
   "outputs": [],
   "source": [
    "#IMPORTAMOS EL DATASET\n",
    "tp_h = pd.read_csv(r'tp_grupo13_limpio.csv', delimiter=',', low_memory= 'false')\n",
    "tp_h = tp_h.drop(['Unnamed: 0'], axis= 1)"
   ]
  },
  {
   "cell_type": "code",
   "execution_count": 15,
   "metadata": {},
   "outputs": [
    {
     "data": {
      "text/plain": [
       "(56731, 19)"
      ]
     },
     "execution_count": 15,
     "metadata": {},
     "output_type": "execute_result"
    }
   ],
   "source": [
    "#Verificamos que se importó bien\n",
    "tp_h.shape"
   ]
  },
  {
   "cell_type": "code",
   "execution_count": 16,
   "metadata": {},
   "outputs": [
    {
     "data": {
      "text/html": [
       "<div>\n",
       "<style scoped>\n",
       "    .dataframe tbody tr th:only-of-type {\n",
       "        vertical-align: middle;\n",
       "    }\n",
       "\n",
       "    .dataframe tbody tr th {\n",
       "        vertical-align: top;\n",
       "    }\n",
       "\n",
       "    .dataframe thead th {\n",
       "        text-align: right;\n",
       "    }\n",
       "</style>\n",
       "<table border=\"1\" class=\"dataframe\">\n",
       "  <thead>\n",
       "    <tr style=\"text-align: right;\">\n",
       "      <th></th>\n",
       "      <th>country</th>\n",
       "      <th>id</th>\n",
       "      <th>unit_discount_usd</th>\n",
       "      <th>unit_gross_revenue_local</th>\n",
       "      <th>order_date</th>\n",
       "      <th>order_status</th>\n",
       "      <th>customer_spk</th>\n",
       "      <th>unit_price_charged_local</th>\n",
       "      <th>unit_delivery_charged_local</th>\n",
       "      <th>quantity</th>\n",
       "      <th>unit_net_revenue_local</th>\n",
       "      <th>order_time</th>\n",
       "      <th>brand</th>\n",
       "      <th>name</th>\n",
       "      <th>category</th>\n",
       "      <th>subcategory</th>\n",
       "      <th>year</th>\n",
       "      <th>month</th>\n",
       "      <th>day</th>\n",
       "    </tr>\n",
       "  </thead>\n",
       "  <tbody>\n",
       "    <tr>\n",
       "      <th>0</th>\n",
       "      <td>Argentina</td>\n",
       "      <td>[\"ar_bevybar;8b3eb4b88a85ba3eeb60dd24686995c38...</td>\n",
       "      <td>0.0000</td>\n",
       "      <td>1030.0000</td>\n",
       "      <td>2017-09-20 00:00:00</td>\n",
       "      <td>paid</td>\n",
       "      <td>ar_bevybar;8b3eb4b88a85ba3eeb60dd24686995c38b4...</td>\n",
       "      <td>890.0</td>\n",
       "      <td>140.0000</td>\n",
       "      <td>1</td>\n",
       "      <td>788.0530</td>\n",
       "      <td>1900-01-01 18:19:39</td>\n",
       "      <td>Corona</td>\n",
       "      <td>Pack Corona Experience</td>\n",
       "      <td>Beer</td>\n",
       "      <td>Others</td>\n",
       "      <td>2017</td>\n",
       "      <td>9</td>\n",
       "      <td>20</td>\n",
       "    </tr>\n",
       "    <tr>\n",
       "      <th>1</th>\n",
       "      <td>Argentina</td>\n",
       "      <td>[\"ar_bevybar;41434b744330c691cf83b70da3fa080c8...</td>\n",
       "      <td>0.0000</td>\n",
       "      <td>631.0000</td>\n",
       "      <td>2017-06-13 00:00:00</td>\n",
       "      <td>paid</td>\n",
       "      <td>ar_bevybar;41434b744330c691cf83b70da3fa080c85a...</td>\n",
       "      <td>432.0</td>\n",
       "      <td>199.0000</td>\n",
       "      <td>1</td>\n",
       "      <td>493.6944</td>\n",
       "      <td>1900-01-01 12:56:23</td>\n",
       "      <td>Patagonia Brewing Co.</td>\n",
       "      <td>Pack de Cervezas y Vasos Patagonia</td>\n",
       "      <td>Mixed Pack</td>\n",
       "      <td>unknown</td>\n",
       "      <td>2017</td>\n",
       "      <td>6</td>\n",
       "      <td>13</td>\n",
       "    </tr>\n",
       "    <tr>\n",
       "      <th>2</th>\n",
       "      <td>Argentina</td>\n",
       "      <td>[\"ar_bevybar;2aedfe0c0b63ee0da640463d4b0a09f74...</td>\n",
       "      <td>2.7181</td>\n",
       "      <td>234.6542</td>\n",
       "      <td>2017-02-28 00:00:00</td>\n",
       "      <td>paid</td>\n",
       "      <td>ar_bevybar;2aedfe0c0b63ee0da640463d4b0a09f74f9...</td>\n",
       "      <td>265.0</td>\n",
       "      <td>14.7222</td>\n",
       "      <td>1</td>\n",
       "      <td>176.2018</td>\n",
       "      <td>1900-01-01 23:33:23</td>\n",
       "      <td>Peñón del Águila</td>\n",
       "      <td>Cerveza Peñón del Águila Kölsch</td>\n",
       "      <td>Beer</td>\n",
       "      <td>unknown</td>\n",
       "      <td>2017</td>\n",
       "      <td>2</td>\n",
       "      <td>28</td>\n",
       "    </tr>\n",
       "    <tr>\n",
       "      <th>3</th>\n",
       "      <td>Argentina</td>\n",
       "      <td>[\"ar_bevybar;2aedfe0c0b63ee0da640463d4b0a09f74...</td>\n",
       "      <td>1.8052</td>\n",
       "      <td>155.8458</td>\n",
       "      <td>2017-02-28 00:00:00</td>\n",
       "      <td>paid</td>\n",
       "      <td>ar_bevybar;2aedfe0c0b63ee0da640463d4b0a09f74f9...</td>\n",
       "      <td>44.0</td>\n",
       "      <td>9.7778</td>\n",
       "      <td>4</td>\n",
       "      <td>117.0246</td>\n",
       "      <td>1900-01-01 23:33:23</td>\n",
       "      <td>Peñón del Águila</td>\n",
       "      <td>Cerveza Peñón del Águila Kölsch</td>\n",
       "      <td>Beer</td>\n",
       "      <td>unknown</td>\n",
       "      <td>2017</td>\n",
       "      <td>2</td>\n",
       "      <td>28</td>\n",
       "    </tr>\n",
       "    <tr>\n",
       "      <th>4</th>\n",
       "      <td>Argentina</td>\n",
       "      <td>[\"ar_bevybar;2aedfe0c0b63ee0da640463d4b0a09f74...</td>\n",
       "      <td>9.0465</td>\n",
       "      <td>910.0000</td>\n",
       "      <td>2017-07-30 00:00:00</td>\n",
       "      <td>paid</td>\n",
       "      <td>ar_bevybar;2aedfe0c0b63ee0da640463d4b0a09f74f9...</td>\n",
       "      <td>1011.0</td>\n",
       "      <td>49.0000</td>\n",
       "      <td>1</td>\n",
       "      <td>698.5160</td>\n",
       "      <td>1900-01-01 17:15:42</td>\n",
       "      <td>BevyBar</td>\n",
       "      <td>Pack Degustación del Mes de Julio XL</td>\n",
       "      <td>Mixed Pack</td>\n",
       "      <td>unknown</td>\n",
       "      <td>2017</td>\n",
       "      <td>7</td>\n",
       "      <td>30</td>\n",
       "    </tr>\n",
       "  </tbody>\n",
       "</table>\n",
       "</div>"
      ],
      "text/plain": [
       "     country                                                 id  \\\n",
       "0  Argentina  [\"ar_bevybar;8b3eb4b88a85ba3eeb60dd24686995c38...   \n",
       "1  Argentina  [\"ar_bevybar;41434b744330c691cf83b70da3fa080c8...   \n",
       "2  Argentina  [\"ar_bevybar;2aedfe0c0b63ee0da640463d4b0a09f74...   \n",
       "3  Argentina  [\"ar_bevybar;2aedfe0c0b63ee0da640463d4b0a09f74...   \n",
       "4  Argentina  [\"ar_bevybar;2aedfe0c0b63ee0da640463d4b0a09f74...   \n",
       "\n",
       "   unit_discount_usd  unit_gross_revenue_local           order_date  \\\n",
       "0             0.0000                 1030.0000  2017-09-20 00:00:00   \n",
       "1             0.0000                  631.0000  2017-06-13 00:00:00   \n",
       "2             2.7181                  234.6542  2017-02-28 00:00:00   \n",
       "3             1.8052                  155.8458  2017-02-28 00:00:00   \n",
       "4             9.0465                  910.0000  2017-07-30 00:00:00   \n",
       "\n",
       "  order_status                                       customer_spk  \\\n",
       "0         paid  ar_bevybar;8b3eb4b88a85ba3eeb60dd24686995c38b4...   \n",
       "1         paid  ar_bevybar;41434b744330c691cf83b70da3fa080c85a...   \n",
       "2         paid  ar_bevybar;2aedfe0c0b63ee0da640463d4b0a09f74f9...   \n",
       "3         paid  ar_bevybar;2aedfe0c0b63ee0da640463d4b0a09f74f9...   \n",
       "4         paid  ar_bevybar;2aedfe0c0b63ee0da640463d4b0a09f74f9...   \n",
       "\n",
       "   unit_price_charged_local  unit_delivery_charged_local  quantity  \\\n",
       "0                     890.0                     140.0000         1   \n",
       "1                     432.0                     199.0000         1   \n",
       "2                     265.0                      14.7222         1   \n",
       "3                      44.0                       9.7778         4   \n",
       "4                    1011.0                      49.0000         1   \n",
       "\n",
       "   unit_net_revenue_local           order_time                  brand  \\\n",
       "0                788.0530  1900-01-01 18:19:39                 Corona   \n",
       "1                493.6944  1900-01-01 12:56:23  Patagonia Brewing Co.   \n",
       "2                176.2018  1900-01-01 23:33:23       Peñón del Águila   \n",
       "3                117.0246  1900-01-01 23:33:23       Peñón del Águila   \n",
       "4                698.5160  1900-01-01 17:15:42                BevyBar   \n",
       "\n",
       "                                   name    category subcategory  year  month  \\\n",
       "0                Pack Corona Experience        Beer      Others  2017      9   \n",
       "1    Pack de Cervezas y Vasos Patagonia  Mixed Pack     unknown  2017      6   \n",
       "2       Cerveza Peñón del Águila Kölsch        Beer     unknown  2017      2   \n",
       "3       Cerveza Peñón del Águila Kölsch        Beer     unknown  2017      2   \n",
       "4  Pack Degustación del Mes de Julio XL  Mixed Pack     unknown  2017      7   \n",
       "\n",
       "   day  \n",
       "0   20  \n",
       "1   13  \n",
       "2   28  \n",
       "3   28  \n",
       "4   30  "
      ]
     },
     "execution_count": 16,
     "metadata": {},
     "output_type": "execute_result"
    }
   ],
   "source": [
    "tp_h.head(5)"
   ]
  },
  {
   "cell_type": "code",
   "execution_count": 17,
   "metadata": {},
   "outputs": [],
   "source": [
    "#Limpio las variables que no sirven para clusterizar\n",
    "tp_cluster = tp_h.drop(['order_time','name','id','customer_spk','country','order_date','order_status','subcategory'], axis=1)"
   ]
  },
  {
   "cell_type": "markdown",
   "metadata": {},
   "source": [
    "# Vamos entonces a buscar clusterizar:\n",
    "##    1 - Todo el dataset\n",
    "##    2 - Solo las marcas importadas\n",
    "##    3 - Solo las marcas core de negocio "
   ]
  },
  {
   "cell_type": "code",
   "execution_count": 18,
   "metadata": {},
   "outputs": [
    {
     "data": {
      "text/html": [
       "<div>\n",
       "<style scoped>\n",
       "    .dataframe tbody tr th:only-of-type {\n",
       "        vertical-align: middle;\n",
       "    }\n",
       "\n",
       "    .dataframe tbody tr th {\n",
       "        vertical-align: top;\n",
       "    }\n",
       "\n",
       "    .dataframe thead th {\n",
       "        text-align: right;\n",
       "    }\n",
       "</style>\n",
       "<table border=\"1\" class=\"dataframe\">\n",
       "  <thead>\n",
       "    <tr style=\"text-align: right;\">\n",
       "      <th></th>\n",
       "      <th>unit_discount_usd</th>\n",
       "      <th>unit_gross_revenue_local</th>\n",
       "      <th>unit_price_charged_local</th>\n",
       "      <th>unit_delivery_charged_local</th>\n",
       "      <th>quantity</th>\n",
       "      <th>unit_net_revenue_local</th>\n",
       "      <th>brand</th>\n",
       "      <th>category</th>\n",
       "      <th>year</th>\n",
       "      <th>month</th>\n",
       "      <th>day</th>\n",
       "    </tr>\n",
       "  </thead>\n",
       "  <tbody>\n",
       "    <tr>\n",
       "      <th>0</th>\n",
       "      <td>0.0000</td>\n",
       "      <td>1030.0000</td>\n",
       "      <td>890.0</td>\n",
       "      <td>140.0000</td>\n",
       "      <td>1</td>\n",
       "      <td>788.0530</td>\n",
       "      <td>Corona</td>\n",
       "      <td>Beer</td>\n",
       "      <td>2017</td>\n",
       "      <td>9</td>\n",
       "      <td>20</td>\n",
       "    </tr>\n",
       "    <tr>\n",
       "      <th>1</th>\n",
       "      <td>0.0000</td>\n",
       "      <td>631.0000</td>\n",
       "      <td>432.0</td>\n",
       "      <td>199.0000</td>\n",
       "      <td>1</td>\n",
       "      <td>493.6944</td>\n",
       "      <td>Patagonia Brewing Co.</td>\n",
       "      <td>Mixed Pack</td>\n",
       "      <td>2017</td>\n",
       "      <td>6</td>\n",
       "      <td>13</td>\n",
       "    </tr>\n",
       "    <tr>\n",
       "      <th>2</th>\n",
       "      <td>2.7181</td>\n",
       "      <td>234.6542</td>\n",
       "      <td>265.0</td>\n",
       "      <td>14.7222</td>\n",
       "      <td>1</td>\n",
       "      <td>176.2018</td>\n",
       "      <td>Peñón del Águila</td>\n",
       "      <td>Beer</td>\n",
       "      <td>2017</td>\n",
       "      <td>2</td>\n",
       "      <td>28</td>\n",
       "    </tr>\n",
       "    <tr>\n",
       "      <th>3</th>\n",
       "      <td>1.8052</td>\n",
       "      <td>155.8458</td>\n",
       "      <td>44.0</td>\n",
       "      <td>9.7778</td>\n",
       "      <td>4</td>\n",
       "      <td>117.0246</td>\n",
       "      <td>Peñón del Águila</td>\n",
       "      <td>Beer</td>\n",
       "      <td>2017</td>\n",
       "      <td>2</td>\n",
       "      <td>28</td>\n",
       "    </tr>\n",
       "    <tr>\n",
       "      <th>4</th>\n",
       "      <td>9.0465</td>\n",
       "      <td>910.0000</td>\n",
       "      <td>1011.0</td>\n",
       "      <td>49.0000</td>\n",
       "      <td>1</td>\n",
       "      <td>698.5160</td>\n",
       "      <td>BevyBar</td>\n",
       "      <td>Mixed Pack</td>\n",
       "      <td>2017</td>\n",
       "      <td>7</td>\n",
       "      <td>30</td>\n",
       "    </tr>\n",
       "  </tbody>\n",
       "</table>\n",
       "</div>"
      ],
      "text/plain": [
       "   unit_discount_usd  unit_gross_revenue_local  unit_price_charged_local  \\\n",
       "0             0.0000                 1030.0000                     890.0   \n",
       "1             0.0000                  631.0000                     432.0   \n",
       "2             2.7181                  234.6542                     265.0   \n",
       "3             1.8052                  155.8458                      44.0   \n",
       "4             9.0465                  910.0000                    1011.0   \n",
       "\n",
       "   unit_delivery_charged_local  quantity  unit_net_revenue_local  \\\n",
       "0                     140.0000         1                788.0530   \n",
       "1                     199.0000         1                493.6944   \n",
       "2                      14.7222         1                176.2018   \n",
       "3                       9.7778         4                117.0246   \n",
       "4                      49.0000         1                698.5160   \n",
       "\n",
       "                   brand    category  year  month  day  \n",
       "0                 Corona        Beer  2017      9   20  \n",
       "1  Patagonia Brewing Co.  Mixed Pack  2017      6   13  \n",
       "2       Peñón del Águila        Beer  2017      2   28  \n",
       "3       Peñón del Águila        Beer  2017      2   28  \n",
       "4                BevyBar  Mixed Pack  2017      7   30  "
      ]
     },
     "execution_count": 18,
     "metadata": {},
     "output_type": "execute_result"
    }
   ],
   "source": [
    "# 1 - Clustering general\n",
    "tp_cluster1= tp_cluster.loc[tp_h['brand'].isin(['Corona', 'Patagonia Brewing Co.', 'Peñón del Águila',\n",
    "       'Bass Brewery', 'Leffe', \"Fuller's\",\n",
    "       'Spaten-Franziskaner-Bräu', 'Karlsberg Brauerei',\n",
    "       'Les Brasseurs de Gayant\\xa0', 'Barba Roja', 'Coopers Brewery',\n",
    "       'Brouwerij Van Steenberge', 'Hoegaarden', 'Backus y Johnston',\n",
    "       'Löwenbräu', 'Brauerei Beck & Co',\n",
    "       'Fabricas Nacionales De Cerveza',\n",
    "       'De La Vaca Tranquila Cervezas Artesanales',\n",
    "       'Paulaner Brauerei München', 'Duvel Moortgat', 'Zillertal',\n",
    "       'Baltika Breweries', 'Hofbräu München', 'Chimay',\n",
    "       'Kronenbourg 1664', 'Czechvar', 'Kulmbacher Brauerei AG',\n",
    "       'Grimbergen', 'Maredsous', 'Tsingtao',\n",
    "       'Fábricas Nacionales De Cerveza',\n",
    "       'Anchor Brewing Company', 'Cervecería Antares',\n",
    "       'Brasserie de Silly', 'SAB Miller', 'Shock Top', 'Belsh',\n",
    "       'OETTINGER Brauerei GmbH', 'Erdinger Weissbräu', 'Oranjeboom',\n",
    "       'BevyBar','Stella Artois', 'Cervecería y Maltería Quilmes'])]\n",
    "tp_cluster1.head(5)"
   ]
  },
  {
   "cell_type": "code",
   "execution_count": 19,
   "metadata": {},
   "outputs": [
    {
     "data": {
      "text/html": [
       "<div>\n",
       "<style scoped>\n",
       "    .dataframe tbody tr th:only-of-type {\n",
       "        vertical-align: middle;\n",
       "    }\n",
       "\n",
       "    .dataframe tbody tr th {\n",
       "        vertical-align: top;\n",
       "    }\n",
       "\n",
       "    .dataframe thead th {\n",
       "        text-align: right;\n",
       "    }\n",
       "</style>\n",
       "<table border=\"1\" class=\"dataframe\">\n",
       "  <thead>\n",
       "    <tr style=\"text-align: right;\">\n",
       "      <th></th>\n",
       "      <th>unit_discount_usd</th>\n",
       "      <th>unit_gross_revenue_local</th>\n",
       "      <th>unit_price_charged_local</th>\n",
       "      <th>unit_delivery_charged_local</th>\n",
       "      <th>quantity</th>\n",
       "      <th>unit_net_revenue_local</th>\n",
       "      <th>year</th>\n",
       "      <th>month</th>\n",
       "      <th>day</th>\n",
       "      <th>Anchor Brewing Company</th>\n",
       "      <th>...</th>\n",
       "      <th>Peñón del Águila</th>\n",
       "      <th>SAB Miller</th>\n",
       "      <th>Shock Top</th>\n",
       "      <th>Spaten-Franziskaner-Bräu</th>\n",
       "      <th>Stella Artois</th>\n",
       "      <th>Tsingtao</th>\n",
       "      <th>Zillertal</th>\n",
       "      <th>Beer</th>\n",
       "      <th>Merchandise</th>\n",
       "      <th>Mixed Pack</th>\n",
       "    </tr>\n",
       "  </thead>\n",
       "  <tbody>\n",
       "    <tr>\n",
       "      <th>0</th>\n",
       "      <td>0.0000</td>\n",
       "      <td>1030.0000</td>\n",
       "      <td>890.0</td>\n",
       "      <td>140.0000</td>\n",
       "      <td>1</td>\n",
       "      <td>788.0530</td>\n",
       "      <td>2017</td>\n",
       "      <td>9</td>\n",
       "      <td>20</td>\n",
       "      <td>0</td>\n",
       "      <td>...</td>\n",
       "      <td>0</td>\n",
       "      <td>0</td>\n",
       "      <td>0</td>\n",
       "      <td>0</td>\n",
       "      <td>0</td>\n",
       "      <td>0</td>\n",
       "      <td>0</td>\n",
       "      <td>1</td>\n",
       "      <td>0</td>\n",
       "      <td>0</td>\n",
       "    </tr>\n",
       "    <tr>\n",
       "      <th>1</th>\n",
       "      <td>0.0000</td>\n",
       "      <td>631.0000</td>\n",
       "      <td>432.0</td>\n",
       "      <td>199.0000</td>\n",
       "      <td>1</td>\n",
       "      <td>493.6944</td>\n",
       "      <td>2017</td>\n",
       "      <td>6</td>\n",
       "      <td>13</td>\n",
       "      <td>0</td>\n",
       "      <td>...</td>\n",
       "      <td>0</td>\n",
       "      <td>0</td>\n",
       "      <td>0</td>\n",
       "      <td>0</td>\n",
       "      <td>0</td>\n",
       "      <td>0</td>\n",
       "      <td>0</td>\n",
       "      <td>0</td>\n",
       "      <td>0</td>\n",
       "      <td>1</td>\n",
       "    </tr>\n",
       "    <tr>\n",
       "      <th>2</th>\n",
       "      <td>2.7181</td>\n",
       "      <td>234.6542</td>\n",
       "      <td>265.0</td>\n",
       "      <td>14.7222</td>\n",
       "      <td>1</td>\n",
       "      <td>176.2018</td>\n",
       "      <td>2017</td>\n",
       "      <td>2</td>\n",
       "      <td>28</td>\n",
       "      <td>0</td>\n",
       "      <td>...</td>\n",
       "      <td>1</td>\n",
       "      <td>0</td>\n",
       "      <td>0</td>\n",
       "      <td>0</td>\n",
       "      <td>0</td>\n",
       "      <td>0</td>\n",
       "      <td>0</td>\n",
       "      <td>1</td>\n",
       "      <td>0</td>\n",
       "      <td>0</td>\n",
       "    </tr>\n",
       "  </tbody>\n",
       "</table>\n",
       "<p>3 rows × 55 columns</p>\n",
       "</div>"
      ],
      "text/plain": [
       "   unit_discount_usd  unit_gross_revenue_local  unit_price_charged_local  \\\n",
       "0             0.0000                 1030.0000                     890.0   \n",
       "1             0.0000                  631.0000                     432.0   \n",
       "2             2.7181                  234.6542                     265.0   \n",
       "\n",
       "   unit_delivery_charged_local  quantity  unit_net_revenue_local  year  month  \\\n",
       "0                     140.0000         1                788.0530  2017      9   \n",
       "1                     199.0000         1                493.6944  2017      6   \n",
       "2                      14.7222         1                176.2018  2017      2   \n",
       "\n",
       "   day  Anchor Brewing Company  ...  Peñón del Águila  SAB Miller  Shock Top  \\\n",
       "0   20                       0  ...                 0           0          0   \n",
       "1   13                       0  ...                 0           0          0   \n",
       "2   28                       0  ...                 1           0          0   \n",
       "\n",
       "   Spaten-Franziskaner-Bräu  Stella Artois  Tsingtao  Zillertal  Beer  \\\n",
       "0                         0              0         0          0     1   \n",
       "1                         0              0         0          0     0   \n",
       "2                         0              0         0          0     1   \n",
       "\n",
       "   Merchandise  Mixed Pack  \n",
       "0            0           0  \n",
       "1            0           1  \n",
       "2            0           0  \n",
       "\n",
       "[3 rows x 55 columns]"
      ]
     },
     "execution_count": 19,
     "metadata": {},
     "output_type": "execute_result"
    }
   ],
   "source": [
    "#Genero dummies de brand y category\n",
    "brands = pd.get_dummies(tp_cluster1.brand)\n",
    "category = pd.get_dummies(tp_cluster1.category)\n",
    "#concateno las tablas\n",
    "tp_cluster1 = pd.concat([tp_cluster1,brands,category],axis=1)\n",
    "tp_cluster1 = tp_cluster1.drop(['brand','category'], axis=1)\n",
    "tp_cluster1.head(3)"
   ]
  },
  {
   "cell_type": "code",
   "execution_count": 20,
   "metadata": {},
   "outputs": [],
   "source": [
    "#AutoScaling\n",
    "scaler = preprocessing.StandardScaler().fit(tp_cluster1)\n",
    "xscal = scaler.transform(tp_cluster1)"
   ]
  },
  {
   "cell_type": "code",
   "execution_count": 21,
   "metadata": {},
   "outputs": [
    {
     "data": {
      "image/png": "[encoded data removed]",
      "text/plain": [
       "<Figure size 432x288 with 2 Axes>"
      ]
     },
     "metadata": {
      "needs_background": "light"
     },
     "output_type": "display_data"
    }
   ],
   "source": [
    "# Generamos el PCA\n",
    "n_comps = 10\n",
    "components = range(1,n_comps + 1)\n",
    "pca = decomposition.PCA(n_components=n_comps)\n",
    "pca.fit(xscal)\n",
    "xpca = pca.transform(xscal)\n",
    "eigenvalues = pca.explained_variance_ratio_\n",
    "eigenvalues_acum = pca.explained_variance_ratio_.cumsum() \n",
    "\n",
    "#Visualizo autovalores\n",
    "fig, ax1 = plt.subplots()\n",
    "ax1.set_xlabel('Top PC')\n",
    "ax1.set_ylabel('Varianza Explicada', color='blue')\n",
    "ax1.bar(components, eigenvalues, color='blue')\n",
    "ax1.tick_params(axis='y', labelcolor='blue')\n",
    "ax2 = ax1.twinx()  \n",
    "ax2.set_ylabel('Varianza Acumulada', color='red')  \n",
    "ax2.plot(components, eigenvalues_acum, color='red')\n",
    "ax2.tick_params(axis='y', labelcolor='red')\n",
    "fig.tight_layout()  \n",
    "plt.show()"
   ]
  },
  {
   "cell_type": "code",
   "execution_count": 22,
   "metadata": {},
   "outputs": [
    {
     "data": {
      "text/plain": [
       "array([[-1.20246196e+00, -2.94903565e+00,  9.07286724e-01,\n",
       "        -8.45143928e-01, -2.93070570e-01,  3.79758385e-02,\n",
       "         5.33926247e-02,  1.40948472e-02,  2.39219076e-01,\n",
       "         3.13562720e-02],\n",
       "       [-2.32612475e+00,  9.06250403e-01,  4.35291357e-01,\n",
       "         9.23400600e-02,  9.70688953e-02,  1.92637410e-02,\n",
       "        -3.40474497e-02,  1.15427380e-02, -7.58049141e-02,\n",
       "        -2.04957039e-02],\n",
       "       [ 1.56219055e+00, -1.45008053e-02, -4.10945306e-01,\n",
       "         9.32098024e-02, -5.51724101e-03, -1.78080249e-02,\n",
       "         1.05238428e-02, -9.16495157e-03,  2.50953242e-03,\n",
       "         6.47151155e-03]])"
      ]
     },
     "execution_count": 22,
     "metadata": {},
     "output_type": "execute_result"
    }
   ],
   "source": [
    "#Encontramos que con 10 PC no explicamos ni el 30% de la varianza\n",
    "\n",
    "reduced_dim = 10\n",
    "xpca_rd = xpca[:,0:reduced_dim]\n",
    "kmeans_rd = KMeans(n_clusters=3, random_state=10).fit(xpca_rd)\n",
    "# una vez realizado el clustering, observamos las labels de cluster asignadas a cada muestra\n",
    "kmeans_rd.labels_ = kmeans_rd.labels_\n",
    "kmeans_rd.labels_\n",
    "# visualizamos los centroides finales de cada cluster\n",
    "centers_rd = kmeans_rd.cluster_centers_\n",
    "centers_rd"
   ]
  },
  {
   "cell_type": "code",
   "execution_count": 23,
   "metadata": {
    "scrolled": true
   },
   "outputs": [
    {
     "data": {
      "image/png": "[encoded data removed]",
      "text/plain": [
       "<Figure size 648x432 with 1 Axes>"
      ]
     },
     "metadata": {
      "needs_background": "light"
     },
     "output_type": "display_data"
    }
   ],
   "source": [
    "# K-Means + RD (Con las 3 primeras PC)\n",
    "plt.figure(figsize=(9,6))\n",
    "plt.scatter(xpca_rd[:,0],xpca_rd[:,1],c=kmeans_rd.labels_.astype(float))\n",
    "plt.scatter(centers_rd[:,0], centers_rd[:,1], marker=\"x\", color='r',s=150)\n",
    "plt.xlabel('PC1')\n",
    "plt.ylabel('PC2')\n",
    "plt.title('Clustering K-means+RD')\n",
    "plt.show()"
   ]
  },
  {
   "cell_type": "code",
   "execution_count": 24,
   "metadata": {},
   "outputs": [
    {
     "name": "stdout",
     "output_type": "stream",
     "text": [
      "0.26490662991747466\n"
     ]
    }
   ],
   "source": [
    "sill_score_rd = silhouette_score(xpca,kmeans_rd.labels_)\n",
    "print(sill_score_rd)"
   ]
  },
  {
   "cell_type": "code",
   "execution_count": 25,
   "metadata": {},
   "outputs": [],
   "source": [
    "# El silhouette score encontrado para el clustering general es muy bajo, vamos a probar con el resto"
   ]
  },
  {
   "cell_type": "code",
   "execution_count": 26,
   "metadata": {},
   "outputs": [],
   "source": [
    "#Clustering de importadas\n",
    "tp_importadas = tp_cluster.loc[tp_cluster['brand'].isin(['Peñón del Águila',\n",
    "       'Bass Brewery', 'Leffe', \"Fuller's\",\n",
    "       'Spaten-Franziskaner-Bräu', 'Karlsberg Brauerei',\n",
    "       'Les Brasseurs de Gayant\\xa0', 'Barba Roja', 'Coopers Brewery',\n",
    "       'Brouwerij Van Steenberge', 'Hoegaarden', 'Backus y Johnston',\n",
    "       'Löwenbräu', 'Brauerei Beck & Co',\n",
    "       'Fabricas Nacionales De Cerveza',\n",
    "       'De La Vaca Tranquila Cervezas Artesanales',\n",
    "       'Paulaner Brauerei München', 'Duvel Moortgat', 'Zillertal',\n",
    "       'Baltika Breweries', 'Hofbräu München', 'Chimay',\n",
    "       'Kronenbourg 1664', 'Czechvar', 'Kulmbacher Brauerei AG',\n",
    "       'Grimbergen', 'Maredsous', 'Tsingtao',\n",
    "       'Fábricas Nacionales De Cerveza',\n",
    "       'Anchor Brewing Company', 'Cervecería Antares',\n",
    "       'Brasserie de Silly', 'SAB Miller', 'Shock Top', 'Belsh',\n",
    "       'OETTINGER Brauerei GmbH', 'Erdinger Weissbräu', 'Oranjeboom'])]"
   ]
  },
  {
   "cell_type": "code",
   "execution_count": 27,
   "metadata": {},
   "outputs": [
    {
     "data": {
      "text/html": [
       "<div>\n",
       "<style scoped>\n",
       "    .dataframe tbody tr th:only-of-type {\n",
       "        vertical-align: middle;\n",
       "    }\n",
       "\n",
       "    .dataframe tbody tr th {\n",
       "        vertical-align: top;\n",
       "    }\n",
       "\n",
       "    .dataframe thead th {\n",
       "        text-align: right;\n",
       "    }\n",
       "</style>\n",
       "<table border=\"1\" class=\"dataframe\">\n",
       "  <thead>\n",
       "    <tr style=\"text-align: right;\">\n",
       "      <th></th>\n",
       "      <th>unit_discount_usd</th>\n",
       "      <th>unit_gross_revenue_local</th>\n",
       "      <th>unit_price_charged_local</th>\n",
       "      <th>unit_delivery_charged_local</th>\n",
       "      <th>quantity</th>\n",
       "      <th>unit_net_revenue_local</th>\n",
       "      <th>year</th>\n",
       "      <th>month</th>\n",
       "      <th>day</th>\n",
       "      <th>Anchor Brewing Company</th>\n",
       "      <th>...</th>\n",
       "      <th>Paulaner Brauerei München</th>\n",
       "      <th>Peñón del Águila</th>\n",
       "      <th>SAB Miller</th>\n",
       "      <th>Shock Top</th>\n",
       "      <th>Spaten-Franziskaner-Bräu</th>\n",
       "      <th>Tsingtao</th>\n",
       "      <th>Zillertal</th>\n",
       "      <th>Beer</th>\n",
       "      <th>Merchandise</th>\n",
       "      <th>Mixed Pack</th>\n",
       "    </tr>\n",
       "  </thead>\n",
       "  <tbody>\n",
       "    <tr>\n",
       "      <th>2</th>\n",
       "      <td>2.7181</td>\n",
       "      <td>234.6542</td>\n",
       "      <td>265.0</td>\n",
       "      <td>14.7222</td>\n",
       "      <td>1</td>\n",
       "      <td>176.2018</td>\n",
       "      <td>2017</td>\n",
       "      <td>2</td>\n",
       "      <td>28</td>\n",
       "      <td>0</td>\n",
       "      <td>...</td>\n",
       "      <td>0</td>\n",
       "      <td>1</td>\n",
       "      <td>0</td>\n",
       "      <td>0</td>\n",
       "      <td>0</td>\n",
       "      <td>0</td>\n",
       "      <td>0</td>\n",
       "      <td>1</td>\n",
       "      <td>0</td>\n",
       "      <td>0</td>\n",
       "    </tr>\n",
       "    <tr>\n",
       "      <th>3</th>\n",
       "      <td>1.8052</td>\n",
       "      <td>155.8458</td>\n",
       "      <td>44.0</td>\n",
       "      <td>9.7778</td>\n",
       "      <td>4</td>\n",
       "      <td>117.0246</td>\n",
       "      <td>2017</td>\n",
       "      <td>2</td>\n",
       "      <td>28</td>\n",
       "      <td>0</td>\n",
       "      <td>...</td>\n",
       "      <td>0</td>\n",
       "      <td>1</td>\n",
       "      <td>0</td>\n",
       "      <td>0</td>\n",
       "      <td>0</td>\n",
       "      <td>0</td>\n",
       "      <td>0</td>\n",
       "      <td>1</td>\n",
       "      <td>0</td>\n",
       "      <td>0</td>\n",
       "    </tr>\n",
       "    <tr>\n",
       "      <th>5</th>\n",
       "      <td>2.7181</td>\n",
       "      <td>234.6542</td>\n",
       "      <td>265.0</td>\n",
       "      <td>14.7222</td>\n",
       "      <td>1</td>\n",
       "      <td>176.2018</td>\n",
       "      <td>2017</td>\n",
       "      <td>2</td>\n",
       "      <td>28</td>\n",
       "      <td>0</td>\n",
       "      <td>...</td>\n",
       "      <td>0</td>\n",
       "      <td>1</td>\n",
       "      <td>0</td>\n",
       "      <td>0</td>\n",
       "      <td>0</td>\n",
       "      <td>0</td>\n",
       "      <td>0</td>\n",
       "      <td>1</td>\n",
       "      <td>0</td>\n",
       "      <td>0</td>\n",
       "    </tr>\n",
       "  </tbody>\n",
       "</table>\n",
       "<p>3 rows × 50 columns</p>\n",
       "</div>"
      ],
      "text/plain": [
       "   unit_discount_usd  unit_gross_revenue_local  unit_price_charged_local  \\\n",
       "2             2.7181                  234.6542                     265.0   \n",
       "3             1.8052                  155.8458                      44.0   \n",
       "5             2.7181                  234.6542                     265.0   \n",
       "\n",
       "   unit_delivery_charged_local  quantity  unit_net_revenue_local  year  month  \\\n",
       "2                      14.7222         1                176.2018  2017      2   \n",
       "3                       9.7778         4                117.0246  2017      2   \n",
       "5                      14.7222         1                176.2018  2017      2   \n",
       "\n",
       "   day  Anchor Brewing Company  ...  Paulaner Brauerei München  \\\n",
       "2   28                       0  ...                          0   \n",
       "3   28                       0  ...                          0   \n",
       "5   28                       0  ...                          0   \n",
       "\n",
       "   Peñón del Águila  SAB Miller  Shock Top  Spaten-Franziskaner-Bräu  \\\n",
       "2                 1           0          0                         0   \n",
       "3                 1           0          0                         0   \n",
       "5                 1           0          0                         0   \n",
       "\n",
       "   Tsingtao  Zillertal  Beer  Merchandise  Mixed Pack  \n",
       "2         0          0     1            0           0  \n",
       "3         0          0     1            0           0  \n",
       "5         0          0     1            0           0  \n",
       "\n",
       "[3 rows x 50 columns]"
      ]
     },
     "execution_count": 27,
     "metadata": {},
     "output_type": "execute_result"
    }
   ],
   "source": [
    "#Genero dummies de brand\n",
    "brands_i = pd.get_dummies(tp_importadas.brand)\n",
    "category_i = pd.get_dummies(tp_importadas.category)\n",
    "tp_cluster2 = pd.concat([tp_importadas,brands_i,category_i],axis=1)\n",
    "tp_cluster2 = tp_cluster2.drop(['brand','category'], axis=1)\n",
    "tp_cluster2.head(3)"
   ]
  },
  {
   "cell_type": "code",
   "execution_count": 28,
   "metadata": {},
   "outputs": [
    {
     "data": {
      "text/plain": [
       "(18818, 50)"
      ]
     },
     "execution_count": 28,
     "metadata": {},
     "output_type": "execute_result"
    }
   ],
   "source": [
    "tp_cluster2.shape"
   ]
  },
  {
   "cell_type": "code",
   "execution_count": 29,
   "metadata": {},
   "outputs": [],
   "source": [
    "#AutoScaling\n",
    "scaler_impo = preprocessing.StandardScaler().fit(tp_cluster2)\n",
    "xscal_impo = scaler_impo.transform(tp_cluster2)"
   ]
  },
  {
   "cell_type": "code",
   "execution_count": 30,
   "metadata": {},
   "outputs": [
    {
     "data": {
      "image/png": "[encoded data removed]",
      "text/plain": [
       "<Figure size 432x288 with 2 Axes>"
      ]
     },
     "metadata": {
      "needs_background": "light"
     },
     "output_type": "display_data"
    }
   ],
   "source": [
    "# Generamos el PCA\n",
    "\n",
    "n_comps = 10\n",
    "components = range(1,n_comps + 1)\n",
    "pca_impo = decomposition.PCA(n_components=n_comps)\n",
    "pca_impo.fit(xscal_impo)\n",
    "xpca_impor = pca_impo.transform(xscal_impo)\n",
    "eigenvalues_impo = pca_impo.explained_variance_ratio_\n",
    "eigenvalues_acum_impo = pca_impo.explained_variance_ratio_.cumsum() \n",
    "\n",
    "#Visualizo autovalores\n",
    "fig, ax1 = plt.subplots()\n",
    "ax1.set_xlabel('Top PC')\n",
    "ax1.set_ylabel('Varianza Explicada', color='blue')\n",
    "ax1.bar(components, eigenvalues_impo, color='blue')\n",
    "ax1.tick_params(axis='y', labelcolor='blue')\n",
    "ax2 = ax1.twinx()  \n",
    "ax2.set_ylabel('Varianza Acumulada', color='red')  \n",
    "ax2.plot(components, eigenvalues_acum_impo, color='red')\n",
    "ax2.tick_params(axis='y', labelcolor='red')\n",
    "fig.tight_layout()  \n",
    "plt.show()"
   ]
  },
  {
   "cell_type": "code",
   "execution_count": 31,
   "metadata": {},
   "outputs": [],
   "source": [
    "#Nuevamente, encontramos que con 10 PC tampoco explicamos adecuadamente el modelo\n",
    "reduced_dim = 2\n",
    "xpca_rd_impo = xpca_impor[:,0:reduced_dim]\n",
    "kmeans_rd_impo = KMeans(n_clusters=3, random_state=10).fit(xpca_rd_impo)\n",
    "# una vez realizado el clustering, observamos las labels de cluster asignadas a cada muestra\n",
    "kmeans_rd_impo.labels_ = kmeans_rd_impo.labels_\n",
    "centers_rd_impo = kmeans_rd_impo.cluster_centers_"
   ]
  },
  {
   "cell_type": "code",
   "execution_count": 32,
   "metadata": {},
   "outputs": [
    {
     "data": {
      "image/png": "[encoded data removed]",
      "text/plain": [
       "<Figure size 648x432 with 1 Axes>"
      ]
     },
     "metadata": {
      "needs_background": "light"
     },
     "output_type": "display_data"
    }
   ],
   "source": [
    "plt.figure(figsize=(9,6))\n",
    "plt.scatter(xpca_rd_impo[:,0],xpca_rd_impo[:,1],c=kmeans_rd_impo.labels_.astype(float))\n",
    "plt.scatter(centers_rd[:,0], centers_rd[:,1], marker=\"x\", color='r',s=150)\n",
    "plt.xlabel('PC 1')\n",
    "plt.ylabel('PC 2')\n",
    "plt.title('Clustering K-means+RD')\n",
    "plt.show()"
   ]
  },
  {
   "cell_type": "code",
   "execution_count": 33,
   "metadata": {},
   "outputs": [
    {
     "name": "stdout",
     "output_type": "stream",
     "text": [
      "0.47272416745083895\n"
     ]
    }
   ],
   "source": [
    "sill_score_rd = silhouette_score(xpca_rd_impo,kmeans_rd_impo.labels_)\n",
    "print(sill_score_rd)"
   ]
  },
  {
   "cell_type": "code",
   "execution_count": 34,
   "metadata": {},
   "outputs": [],
   "source": [
    "#En este caso el silhouette nos da un poco mejor, casi 50%"
   ]
  },
  {
   "cell_type": "code",
   "execution_count": 73,
   "metadata": {},
   "outputs": [],
   "source": [
    "#Clustering de las nacionales\n",
    "tp_nacional = tp_cluster.loc[tp_h['brand'].isin(['Corona', 'Patagonia Brewing Co.', 'BevyBar',\n",
    "       'Stella Artois', 'Cervecería y Maltería Quilmes'])]"
   ]
  },
  {
   "cell_type": "code",
   "execution_count": 74,
   "metadata": {},
   "outputs": [
    {
     "data": {
      "text/html": [
       "<div>\n",
       "<style scoped>\n",
       "    .dataframe tbody tr th:only-of-type {\n",
       "        vertical-align: middle;\n",
       "    }\n",
       "\n",
       "    .dataframe tbody tr th {\n",
       "        vertical-align: top;\n",
       "    }\n",
       "\n",
       "    .dataframe thead th {\n",
       "        text-align: right;\n",
       "    }\n",
       "</style>\n",
       "<table border=\"1\" class=\"dataframe\">\n",
       "  <thead>\n",
       "    <tr style=\"text-align: right;\">\n",
       "      <th></th>\n",
       "      <th>unit_discount_usd</th>\n",
       "      <th>unit_gross_revenue_local</th>\n",
       "      <th>unit_price_charged_local</th>\n",
       "      <th>unit_delivery_charged_local</th>\n",
       "      <th>quantity</th>\n",
       "      <th>unit_net_revenue_local</th>\n",
       "      <th>year</th>\n",
       "      <th>month</th>\n",
       "      <th>day</th>\n",
       "      <th>BevyBar</th>\n",
       "      <th>Cervecería y Maltería Quilmes</th>\n",
       "      <th>Corona</th>\n",
       "      <th>Patagonia Brewing Co.</th>\n",
       "      <th>Stella Artois</th>\n",
       "      <th>Beer</th>\n",
       "      <th>Merchandise</th>\n",
       "      <th>Mixed Pack</th>\n",
       "    </tr>\n",
       "  </thead>\n",
       "  <tbody>\n",
       "    <tr>\n",
       "      <th>0</th>\n",
       "      <td>0.0000</td>\n",
       "      <td>1030.0</td>\n",
       "      <td>890.0</td>\n",
       "      <td>140.0</td>\n",
       "      <td>1</td>\n",
       "      <td>788.0530</td>\n",
       "      <td>2017</td>\n",
       "      <td>9</td>\n",
       "      <td>20</td>\n",
       "      <td>0</td>\n",
       "      <td>0</td>\n",
       "      <td>1</td>\n",
       "      <td>0</td>\n",
       "      <td>0</td>\n",
       "      <td>1</td>\n",
       "      <td>0</td>\n",
       "      <td>0</td>\n",
       "    </tr>\n",
       "    <tr>\n",
       "      <th>1</th>\n",
       "      <td>0.0000</td>\n",
       "      <td>631.0</td>\n",
       "      <td>432.0</td>\n",
       "      <td>199.0</td>\n",
       "      <td>1</td>\n",
       "      <td>493.6944</td>\n",
       "      <td>2017</td>\n",
       "      <td>6</td>\n",
       "      <td>13</td>\n",
       "      <td>0</td>\n",
       "      <td>0</td>\n",
       "      <td>0</td>\n",
       "      <td>1</td>\n",
       "      <td>0</td>\n",
       "      <td>0</td>\n",
       "      <td>0</td>\n",
       "      <td>1</td>\n",
       "    </tr>\n",
       "    <tr>\n",
       "      <th>4</th>\n",
       "      <td>9.0465</td>\n",
       "      <td>910.0</td>\n",
       "      <td>1011.0</td>\n",
       "      <td>49.0</td>\n",
       "      <td>1</td>\n",
       "      <td>698.5160</td>\n",
       "      <td>2017</td>\n",
       "      <td>7</td>\n",
       "      <td>30</td>\n",
       "      <td>1</td>\n",
       "      <td>0</td>\n",
       "      <td>0</td>\n",
       "      <td>0</td>\n",
       "      <td>0</td>\n",
       "      <td>0</td>\n",
       "      <td>0</td>\n",
       "      <td>1</td>\n",
       "    </tr>\n",
       "  </tbody>\n",
       "</table>\n",
       "</div>"
      ],
      "text/plain": [
       "   unit_discount_usd  unit_gross_revenue_local  unit_price_charged_local  \\\n",
       "0             0.0000                    1030.0                     890.0   \n",
       "1             0.0000                     631.0                     432.0   \n",
       "4             9.0465                     910.0                    1011.0   \n",
       "\n",
       "   unit_delivery_charged_local  quantity  unit_net_revenue_local  year  month  \\\n",
       "0                        140.0         1                788.0530  2017      9   \n",
       "1                        199.0         1                493.6944  2017      6   \n",
       "4                         49.0         1                698.5160  2017      7   \n",
       "\n",
       "   day  BevyBar  Cervecería y Maltería Quilmes  Corona  Patagonia Brewing Co.  \\\n",
       "0   20        0                              0       1                      0   \n",
       "1   13        0                              0       0                      1   \n",
       "4   30        1                              0       0                      0   \n",
       "\n",
       "   Stella Artois  Beer  Merchandise  Mixed Pack  \n",
       "0              0     1            0           0  \n",
       "1              0     0            0           1  \n",
       "4              0     0            0           1  "
      ]
     },
     "execution_count": 74,
     "metadata": {},
     "output_type": "execute_result"
    }
   ],
   "source": [
    "brandsnac = pd.get_dummies(tp_nacional.brand)\n",
    "category = pd.get_dummies(tp_nacional.category)\n",
    "tp_nac = pd.concat([tp_nacional,brandsnac,category],axis=1)\n",
    "tp_nac = tp_nac.drop(['brand','category'], axis=1)\n",
    "tp_nac.head(3)"
   ]
  },
  {
   "cell_type": "code",
   "execution_count": 75,
   "metadata": {},
   "outputs": [],
   "source": [
    "#AutoScaling\n",
    "scaler_nac = preprocessing.StandardScaler().fit(tp_nac)\n",
    "xscal_nac = scaler_nac.transform(tp_nac)"
   ]
  },
  {
   "cell_type": "code",
   "execution_count": 76,
   "metadata": {},
   "outputs": [
    {
     "data": {
      "image/png": "[encoded data removed]",
      "text/plain": [
       "<Figure size 432x288 with 2 Axes>"
      ]
     },
     "metadata": {
      "needs_background": "light"
     },
     "output_type": "display_data"
    }
   ],
   "source": [
    "n_comps = 10\n",
    "components = range(1,n_comps + 1)\n",
    "pca_nac = decomposition.PCA(n_components=n_comps)\n",
    "pca_nac.fit(xscal_nac)\n",
    "xpca_nac = pca_nac.transform(xscal_nac)\n",
    "eigenvalues_nac = pca_nac.explained_variance_ratio_\n",
    "eigenvalues_acum_nac = pca_nac.explained_variance_ratio_.cumsum() \n",
    "\n",
    "#Visualizo autovalores\n",
    "fig, ax1 = plt.subplots()\n",
    "ax1.set_xlabel('Top PC')\n",
    "ax1.set_ylabel('Varianza Explicada', color='blue')\n",
    "ax1.bar(components, eigenvalues_nac, color='blue')\n",
    "ax1.tick_params(axis='y', labelcolor='blue')\n",
    "ax2 = ax1.twinx()  \n",
    "ax2.set_ylabel('Varianza Acumulada', color='red')  \n",
    "ax2.plot(components, eigenvalues_acum_nac, color='red')\n",
    "ax2.tick_params(axis='y', labelcolor='red')\n",
    "fig.tight_layout()  \n",
    "plt.show()"
   ]
  },
  {
   "cell_type": "code",
   "execution_count": 77,
   "metadata": {},
   "outputs": [],
   "source": [
    "#En este caso estamos mucho mejor, con las 10 PC explicamos el 90% de la varianza"
   ]
  },
  {
   "cell_type": "code",
   "execution_count": 79,
   "metadata": {},
   "outputs": [],
   "source": [
    "reduced_dim_nac = 2\n",
    "xpca_rd_nac = xpca_nac[:,0:reduced_dim_nac]\n",
    "kmeans_rd_nac = KMeans(n_clusters=3, random_state=10).fit(xpca_rd_nac)\n",
    "kmeans_rd_nac.labels_ = kmeans_rd_nac.labels_\n",
    "centers_rd_nac = kmeans_rd_nac.cluster_centers_"
   ]
  },
  {
   "cell_type": "code",
   "execution_count": 80,
   "metadata": {},
   "outputs": [
    {
     "data": {
      "image/png": "[encoded data removed]",
      "text/plain": [
       "<Figure size 648x432 with 1 Axes>"
      ]
     },
     "metadata": {
      "needs_background": "light"
     },
     "output_type": "display_data"
    }
   ],
   "source": [
    "plt.figure(figsize=(9,6))\n",
    "plt.scatter(xpca_rd_nac[:,0],xpca_rd_nac[:,1],c=kmeans_rd_nac.labels_.astype(float))\n",
    "plt.scatter(centers_rd_nac[:,0], centers_rd_nac[:,1], marker=\"x\", color='r',s=150)\n",
    "plt.xlabel('PC 1')\n",
    "plt.ylabel('PC 2')\n",
    "plt.title('Clustering de Nacionales')\n",
    "plt.show()"
   ]
  },
  {
   "cell_type": "code",
   "execution_count": 42,
   "metadata": {},
   "outputs": [
    {
     "name": "stdout",
     "output_type": "stream",
     "text": [
      "0.5895212226078267\n"
     ]
    }
   ],
   "source": [
    "sill_score_rd = silhouette_score(xpca_rd_nac,kmeans_rd_nac.labels_)\n",
    "print(sill_score_rd)"
   ]
  },
  {
   "cell_type": "markdown",
   "metadata": {},
   "source": [
    "### En este caso no solo las PC explican mejor la varianza, sino que obtenemos un silhouette score de casi 0,6\n",
    "### Siendo este el de mejor resultado, decidimos poner foco en él y proceder unicamente con su analisis"
   ]
  },
  {
   "cell_type": "markdown",
   "metadata": {},
   "source": [
    "## EDA de los Clusters encontrados\n"
   ]
  },
  {
   "cell_type": "code",
   "execution_count": 81,
   "metadata": {},
   "outputs": [
    {
     "name": "stderr",
     "output_type": "stream",
     "text": [
      "C:\\Users\\avelurta\\AppData\\Local\\Continuum\\anaconda3\\lib\\site-packages\\ipykernel_launcher.py:4: SettingWithCopyWarning: \n",
      "A value is trying to be set on a copy of a slice from a DataFrame.\n",
      "Try using .loc[row_indexer,col_indexer] = value instead\n",
      "\n",
      "See the caveats in the documentation: http://pandas.pydata.org/pandas-docs/stable/indexing.html#indexing-view-versus-copy\n",
      "  after removing the cwd from sys.path.\n",
      "C:\\Users\\avelurta\\AppData\\Local\\Continuum\\anaconda3\\lib\\site-packages\\ipykernel_launcher.py:5: SettingWithCopyWarning: \n",
      "A value is trying to be set on a copy of a slice from a DataFrame.\n",
      "Try using .loc[row_indexer,col_indexer] = value instead\n",
      "\n",
      "See the caveats in the documentation: http://pandas.pydata.org/pandas-docs/stable/indexing.html#indexing-view-versus-copy\n",
      "  \"\"\"\n",
      "C:\\Users\\avelurta\\AppData\\Local\\Continuum\\anaconda3\\lib\\site-packages\\ipykernel_launcher.py:6: SettingWithCopyWarning: \n",
      "A value is trying to be set on a copy of a slice from a DataFrame.\n",
      "Try using .loc[row_indexer,col_indexer] = value instead\n",
      "\n",
      "See the caveats in the documentation: http://pandas.pydata.org/pandas-docs/stable/indexing.html#indexing-view-versus-copy\n",
      "  \n"
     ]
    },
    {
     "data": {
      "text/plain": [
       "1    23438\n",
       "2     9570\n",
       "0     4654\n",
       "Name: labels, dtype: int64"
      ]
     },
     "execution_count": 81,
     "metadata": {},
     "output_type": "execute_result"
    }
   ],
   "source": [
    "#Reintroducimos features que nos pueden servir para el analisis\n",
    "tp_aux= tp_h.loc[tp_h['brand'].isin(['Corona', 'Patagonia Brewing Co.', 'BevyBar',\n",
    "       'Stella Artois', 'Cervecería y Maltería Quilmes'])]\n",
    "tp_nacional['id'] = tp_aux['id']\n",
    "tp_nacional['name'] = tp_aux['name']\n",
    "tp_nacional['labels'] = kmeans_rd_nac.labels_\n",
    "tp_nacional.labels.value_counts()"
   ]
  },
  {
   "cell_type": "code",
   "execution_count": 82,
   "metadata": {},
   "outputs": [
    {
     "data": {
      "text/html": [
       "<div>\n",
       "<style scoped>\n",
       "    .dataframe tbody tr th:only-of-type {\n",
       "        vertical-align: middle;\n",
       "    }\n",
       "\n",
       "    .dataframe tbody tr th {\n",
       "        vertical-align: top;\n",
       "    }\n",
       "\n",
       "    .dataframe thead th {\n",
       "        text-align: right;\n",
       "    }\n",
       "</style>\n",
       "<table border=\"1\" class=\"dataframe\">\n",
       "  <thead>\n",
       "    <tr style=\"text-align: right;\">\n",
       "      <th></th>\n",
       "      <th>unit_discount_usd</th>\n",
       "      <th>unit_gross_revenue_local</th>\n",
       "      <th>unit_price_charged_local</th>\n",
       "      <th>unit_delivery_charged_local</th>\n",
       "      <th>quantity</th>\n",
       "      <th>unit_net_revenue_local</th>\n",
       "      <th>brand</th>\n",
       "      <th>category</th>\n",
       "      <th>year</th>\n",
       "      <th>month</th>\n",
       "      <th>day</th>\n",
       "      <th>id</th>\n",
       "      <th>name</th>\n",
       "      <th>labels</th>\n",
       "    </tr>\n",
       "  </thead>\n",
       "  <tbody>\n",
       "    <tr>\n",
       "      <th>0</th>\n",
       "      <td>0.0000</td>\n",
       "      <td>1030.0</td>\n",
       "      <td>890.0</td>\n",
       "      <td>140.0</td>\n",
       "      <td>1</td>\n",
       "      <td>788.0530</td>\n",
       "      <td>Corona</td>\n",
       "      <td>Beer</td>\n",
       "      <td>2017</td>\n",
       "      <td>9</td>\n",
       "      <td>20</td>\n",
       "      <td>[\"ar_bevybar;8b3eb4b88a85ba3eeb60dd24686995c38...</td>\n",
       "      <td>Pack Corona Experience</td>\n",
       "      <td>2</td>\n",
       "    </tr>\n",
       "    <tr>\n",
       "      <th>1</th>\n",
       "      <td>0.0000</td>\n",
       "      <td>631.0</td>\n",
       "      <td>432.0</td>\n",
       "      <td>199.0</td>\n",
       "      <td>1</td>\n",
       "      <td>493.6944</td>\n",
       "      <td>Patagonia Brewing Co.</td>\n",
       "      <td>Mixed Pack</td>\n",
       "      <td>2017</td>\n",
       "      <td>6</td>\n",
       "      <td>13</td>\n",
       "      <td>[\"ar_bevybar;41434b744330c691cf83b70da3fa080c8...</td>\n",
       "      <td>Pack de Cervezas y Vasos Patagonia</td>\n",
       "      <td>1</td>\n",
       "    </tr>\n",
       "    <tr>\n",
       "      <th>4</th>\n",
       "      <td>9.0465</td>\n",
       "      <td>910.0</td>\n",
       "      <td>1011.0</td>\n",
       "      <td>49.0</td>\n",
       "      <td>1</td>\n",
       "      <td>698.5160</td>\n",
       "      <td>BevyBar</td>\n",
       "      <td>Mixed Pack</td>\n",
       "      <td>2017</td>\n",
       "      <td>7</td>\n",
       "      <td>30</td>\n",
       "      <td>[\"ar_bevybar;2aedfe0c0b63ee0da640463d4b0a09f74...</td>\n",
       "      <td>Pack Degustación del Mes de Julio XL</td>\n",
       "      <td>1</td>\n",
       "    </tr>\n",
       "    <tr>\n",
       "      <th>7</th>\n",
       "      <td>0.0000</td>\n",
       "      <td>820.0</td>\n",
       "      <td>690.0</td>\n",
       "      <td>130.0</td>\n",
       "      <td>1</td>\n",
       "      <td>627.3820</td>\n",
       "      <td>Stella Artois</td>\n",
       "      <td>Mixed Pack</td>\n",
       "      <td>2017</td>\n",
       "      <td>9</td>\n",
       "      <td>24</td>\n",
       "      <td>[\"ar_bevybar;0f725d8dfc2bfa356bb643582d5efff86...</td>\n",
       "      <td>Copas Stella Artois 330ml - Pack 6 unidades</td>\n",
       "      <td>1</td>\n",
       "    </tr>\n",
       "    <tr>\n",
       "      <th>8</th>\n",
       "      <td>0.0000</td>\n",
       "      <td>314.0</td>\n",
       "      <td>209.0</td>\n",
       "      <td>105.0</td>\n",
       "      <td>1</td>\n",
       "      <td>235.7826</td>\n",
       "      <td>Stella Artois</td>\n",
       "      <td>Merchandise</td>\n",
       "      <td>2017</td>\n",
       "      <td>2</td>\n",
       "      <td>14</td>\n",
       "      <td>[\"ar_bevybar;7b2eb6f3e8e3919aa0a7f7d66b5c1852d...</td>\n",
       "      <td>Copa Edición Limitada Stella Artois Uganda</td>\n",
       "      <td>2</td>\n",
       "    </tr>\n",
       "  </tbody>\n",
       "</table>\n",
       "</div>"
      ],
      "text/plain": [
       "   unit_discount_usd  unit_gross_revenue_local  unit_price_charged_local  \\\n",
       "0             0.0000                    1030.0                     890.0   \n",
       "1             0.0000                     631.0                     432.0   \n",
       "4             9.0465                     910.0                    1011.0   \n",
       "7             0.0000                     820.0                     690.0   \n",
       "8             0.0000                     314.0                     209.0   \n",
       "\n",
       "   unit_delivery_charged_local  quantity  unit_net_revenue_local  \\\n",
       "0                        140.0         1                788.0530   \n",
       "1                        199.0         1                493.6944   \n",
       "4                         49.0         1                698.5160   \n",
       "7                        130.0         1                627.3820   \n",
       "8                        105.0         1                235.7826   \n",
       "\n",
       "                   brand     category  year  month  day  \\\n",
       "0                 Corona         Beer  2017      9   20   \n",
       "1  Patagonia Brewing Co.   Mixed Pack  2017      6   13   \n",
       "4                BevyBar   Mixed Pack  2017      7   30   \n",
       "7          Stella Artois   Mixed Pack  2017      9   24   \n",
       "8          Stella Artois  Merchandise  2017      2   14   \n",
       "\n",
       "                                                  id  \\\n",
       "0  [\"ar_bevybar;8b3eb4b88a85ba3eeb60dd24686995c38...   \n",
       "1  [\"ar_bevybar;41434b744330c691cf83b70da3fa080c8...   \n",
       "4  [\"ar_bevybar;2aedfe0c0b63ee0da640463d4b0a09f74...   \n",
       "7  [\"ar_bevybar;0f725d8dfc2bfa356bb643582d5efff86...   \n",
       "8  [\"ar_bevybar;7b2eb6f3e8e3919aa0a7f7d66b5c1852d...   \n",
       "\n",
       "                                          name  labels  \n",
       "0                       Pack Corona Experience       2  \n",
       "1           Pack de Cervezas y Vasos Patagonia       1  \n",
       "4         Pack Degustación del Mes de Julio XL       1  \n",
       "7  Copas Stella Artois 330ml - Pack 6 unidades       1  \n",
       "8   Copa Edición Limitada Stella Artois Uganda       2  "
      ]
     },
     "execution_count": 82,
     "metadata": {},
     "output_type": "execute_result"
    }
   ],
   "source": [
    "tp_nacional.head(5)"
   ]
  },
  {
   "cell_type": "code",
   "execution_count": 85,
   "metadata": {},
   "outputs": [],
   "source": [
    "#Hago EDA de lo nacional\n",
    "tp_nac_0 = tp_nacional.loc[tp_nacional['labels'].isin(['0'])]\n",
    "tp_nac_1 = tp_nacional.loc[tp_nacional['labels'].isin(['1'])]\n",
    "tp_nac_2 = tp_nacional.loc[tp_nacional['labels'].isin(['2'])]"
   ]
  },
  {
   "cell_type": "code",
   "execution_count": 86,
   "metadata": {},
   "outputs": [
    {
     "data": {
      "text/plain": [
       "unit_discount_usd              0\n",
       "unit_gross_revenue_local       0\n",
       "unit_price_charged_local       0\n",
       "unit_delivery_charged_local    0\n",
       "quantity                       0\n",
       "unit_net_revenue_local         0\n",
       "brand                          0\n",
       "category                       0\n",
       "year                           0\n",
       "month                          0\n",
       "day                            0\n",
       "id                             0\n",
       "name                           0\n",
       "labels                         0\n",
       "dtype: int64"
      ]
     },
     "execution_count": 86,
     "metadata": {},
     "output_type": "execute_result"
    }
   ],
   "source": [
    "tp_nac_0.isnull().sum()\n",
    "tp_nac_1.isnull().sum()\n",
    "tp_nac_2.isnull().sum()"
   ]
  },
  {
   "cell_type": "code",
   "execution_count": 87,
   "metadata": {},
   "outputs": [
    {
     "data": {
      "image/png": "[encoded data removed]",
      "text/plain": [
       "<Figure size 432x288 with 1 Axes>"
      ]
     },
     "metadata": {
      "needs_background": "light"
     },
     "output_type": "display_data"
    }
   ],
   "source": [
    "#Volumen de cantidad de operaciones de compra\n",
    "sns.set_context(\"talk\", font_scale=0.7)\n",
    "tp_nac_0.groupby(['month']).count()[('quantity')].plot(title = \"Ventas por mes \", color= \"green\", label= \"cluster 0\" )\n",
    "tp_nac_1.groupby(['month']).count()[('quantity')].plot(title = \"Ventas por mes \", color= \"blue\", label= \"cluster 1\" )\n",
    "tp_nac_2.groupby(['month']).count()[('quantity')].plot(title = \"Ventas por mes \", color= \"red\",  label= \"cluster 2\")\n",
    "plt.legend(loc='center left', bbox_to_anchor=(2, 1))\n",
    "plt.show()"
   ]
  },
  {
   "cell_type": "code",
   "execution_count": 49,
   "metadata": {},
   "outputs": [
    {
     "data": {
      "text/html": [
       "<div>\n",
       "<style scoped>\n",
       "    .dataframe tbody tr th:only-of-type {\n",
       "        vertical-align: middle;\n",
       "    }\n",
       "\n",
       "    .dataframe tbody tr th {\n",
       "        vertical-align: top;\n",
       "    }\n",
       "\n",
       "    .dataframe thead tr th {\n",
       "        text-align: left;\n",
       "    }\n",
       "\n",
       "    .dataframe thead tr:last-of-type th {\n",
       "        text-align: right;\n",
       "    }\n",
       "</style>\n",
       "<table border=\"1\" class=\"dataframe\">\n",
       "  <thead>\n",
       "    <tr>\n",
       "      <th></th>\n",
       "      <th colspan=\"3\" halign=\"left\">quantity</th>\n",
       "    </tr>\n",
       "    <tr>\n",
       "      <th>category</th>\n",
       "      <th>Beer</th>\n",
       "      <th>Merchandise</th>\n",
       "      <th>Mixed Pack</th>\n",
       "    </tr>\n",
       "    <tr>\n",
       "      <th>labels</th>\n",
       "      <th></th>\n",
       "      <th></th>\n",
       "      <th></th>\n",
       "    </tr>\n",
       "  </thead>\n",
       "  <tbody>\n",
       "    <tr>\n",
       "      <th>0</th>\n",
       "      <td>529.0</td>\n",
       "      <td>437.0</td>\n",
       "      <td>7481.0</td>\n",
       "    </tr>\n",
       "    <tr>\n",
       "      <th>1</th>\n",
       "      <td>60.0</td>\n",
       "      <td>NaN</td>\n",
       "      <td>25631.0</td>\n",
       "    </tr>\n",
       "    <tr>\n",
       "      <th>2</th>\n",
       "      <td>9159.0</td>\n",
       "      <td>8029.0</td>\n",
       "      <td>NaN</td>\n",
       "    </tr>\n",
       "  </tbody>\n",
       "</table>\n",
       "</div>"
      ],
      "text/plain": [
       "         quantity                       \n",
       "category     Beer Merchandise Mixed Pack\n",
       "labels                                  \n",
       "0           529.0       437.0     7481.0\n",
       "1            60.0         NaN    25631.0\n",
       "2          9159.0      8029.0        NaN"
      ]
     },
     "execution_count": 49,
     "metadata": {},
     "output_type": "execute_result"
    }
   ],
   "source": [
    "tp_pivot_nac = pd.pivot_table(data = tp_nacional, values = ['quantity'], index = ['labels'], columns = ['category'], aggfunc= np.sum, )\n",
    "tp_pivot_nac"
   ]
  },
  {
   "cell_type": "code",
   "execution_count": 88,
   "metadata": {},
   "outputs": [],
   "source": [
    "comprasporusuario_nac_0 = tp_nac_0.groupby(['id'])['id'].count()\n",
    "comprasporusuario_nac_1 = tp_nac_1.groupby(['id'])['id'].count()\n",
    "comprasporusuario_nac_2 = tp_nac_2.groupby(['id'])['id'].count()"
   ]
  },
  {
   "cell_type": "code",
   "execution_count": 89,
   "metadata": {},
   "outputs": [],
   "source": [
    "#Saco Outliers\n",
    "comprasporusuario_nac_0 = comprasporusuario_nac_0.loc[comprasporusuario_nac_0 < 10]\n",
    "comprasporusuario_nac_1 = comprasporusuario_nac_1.loc[comprasporusuario_nac_1 < 10]\n",
    "comprasporusuario_nac_2 = comprasporusuario_nac_2.loc[comprasporusuario_nac_2 < 10]"
   ]
  },
  {
   "cell_type": "code",
   "execution_count": 90,
   "metadata": {},
   "outputs": [
    {
     "data": {
      "text/plain": [
       "Text(0.5, 0, 'id')"
      ]
     },
     "execution_count": 90,
     "metadata": {},
     "output_type": "execute_result"
    },
    {
     "data": {
      "image/png": "[encoded data removed]",
      "text/plain": [
       "<Figure size 432x288 with 1 Axes>"
      ]
     },
     "metadata": {
      "needs_background": "light"
     },
     "output_type": "display_data"
    }
   ],
   "source": [
    "plt.boxplot(comprasporusuario_nac_0)\n",
    "plt.title(\"Dist de cantidad de compras por usuario label 0\")\n",
    "plt.xlabel(\"id\")"
   ]
  },
  {
   "cell_type": "code",
   "execution_count": 93,
   "metadata": {},
   "outputs": [
    {
     "data": {
      "text/plain": [
       "Text(0.5, 0, 'id')"
      ]
     },
     "execution_count": 93,
     "metadata": {},
     "output_type": "execute_result"
    },
    {
     "data": {
      "image/png": "[encoded data removed]",
      "text/plain": [
       "<Figure size 432x288 with 1 Axes>"
      ]
     },
     "metadata": {
      "needs_background": "light"
     },
     "output_type": "display_data"
    }
   ],
   "source": [
    "plt.boxplot(comprasporusuario_nac_1)\n",
    "plt.title(\"Dist de cantidad de compras por usuario label 1\")\n",
    "plt.xlabel(\"id\")"
   ]
  },
  {
   "cell_type": "code",
   "execution_count": 94,
   "metadata": {},
   "outputs": [
    {
     "data": {
      "text/plain": [
       "Text(0.5, 0, 'id')"
      ]
     },
     "execution_count": 94,
     "metadata": {},
     "output_type": "execute_result"
    },
    {
     "data": {
      "image/png": "[encoded data removed]",
      "text/plain": [
       "<Figure size 432x288 with 1 Axes>"
      ]
     },
     "metadata": {
      "needs_background": "light"
     },
     "output_type": "display_data"
    }
   ],
   "source": [
    "plt.boxplot(comprasporusuario_nac_2)\n",
    "plt.title(\"Dist de cantidad de compras por usuario label 2\")\n",
    "plt.xlabel(\"id\")"
   ]
  },
  {
   "cell_type": "code",
   "execution_count": 114,
   "metadata": {},
   "outputs": [
    {
     "data": {
      "text/plain": [
       "Text(0.5, 0, 'unit_gross_revenue_local')"
      ]
     },
     "execution_count": 114,
     "metadata": {},
     "output_type": "execute_result"
    },
    {
     "data": {
      "image/png": "[encoded data removed]",
      "text/plain": [
       "<Figure size 432x288 with 1 Axes>"
      ]
     },
     "metadata": {
      "needs_background": "light"
     },
     "output_type": "display_data"
    }
   ],
   "source": [
    "#Boxplots de la utilidad de cada compra\n",
    "plt.boxplot(tp_nac_0['unit_gross_revenue_local'])\n",
    "plt.title(\"Revenue label 0 nacional\")\n",
    "plt.xlabel(\"unit_gross_revenue_local\")\n"
   ]
  },
  {
   "cell_type": "code",
   "execution_count": 115,
   "metadata": {},
   "outputs": [
    {
     "data": {
      "text/plain": [
       "Text(0.5, 0, 'unit_gross_revenue_local')"
      ]
     },
     "execution_count": 115,
     "metadata": {},
     "output_type": "execute_result"
    },
    {
     "data": {
      "image/png": "[encoded data removed]",
      "text/plain": [
       "<Figure size 432x288 with 1 Axes>"
      ]
     },
     "metadata": {
      "needs_background": "light"
     },
     "output_type": "display_data"
    }
   ],
   "source": [
    "plt.boxplot(tp_nac_1['unit_gross_revenue_local'])\n",
    "plt.title(\"Revenue label 1 nacional\")\n",
    "plt.xlabel(\"unit_gross_revenue_local\")\n"
   ]
  },
  {
   "cell_type": "code",
   "execution_count": 116,
   "metadata": {},
   "outputs": [
    {
     "data": {
      "text/plain": [
       "Text(0.5, 0, 'unit_gross_revenue_local')"
      ]
     },
     "execution_count": 116,
     "metadata": {},
     "output_type": "execute_result"
    },
    {
     "data": {
      "image/png": "[encoded data removed]",
      "text/plain": [
       "<Figure size 432x288 with 1 Axes>"
      ]
     },
     "metadata": {
      "needs_background": "light"
     },
     "output_type": "display_data"
    }
   ],
   "source": [
    "plt.boxplot(tp_nac_2['unit_gross_revenue_local'])\n",
    "plt.title(\"Revenue label 2 nacional\")\n",
    "plt.xlabel(\"unit_gross_revenue_local\")"
   ]
  },
  {
   "cell_type": "markdown",
   "metadata": {},
   "source": [
    "## Este primer analisis nos permite confirmar que solo en casos muy aislados, quien gasta mas de 2000 pesos vuelve a realizar una compra\n"
   ]
  },
  {
   "cell_type": "code",
   "execution_count": 96,
   "metadata": {},
   "outputs": [
    {
     "data": {
      "image/png": "[encoded data removed]",
      "text/plain": [
       "<Figure size 1080x216 with 1 Axes>"
      ]
     },
     "metadata": {
      "needs_background": "light"
     },
     "output_type": "display_data"
    }
   ],
   "source": [
    "plt.figure(figsize=(15,3))\n",
    "g = sns.countplot(x=\"brand\",data= tp_nac_0, palette = \"muted\")\n",
    "g.set_xticklabels(g.get_xticklabels(), rotation=90, ha=\"right\")\n",
    "plt.title('Apariciones/Marca en cluster 0',size = 20)\n",
    "plt.xlabel(\"category\")\n",
    "plt.ylabel(\"Count\")\n",
    "plt.show()"
   ]
  },
  {
   "cell_type": "code",
   "execution_count": 97,
   "metadata": {},
   "outputs": [
    {
     "data": {
      "image/png": "[encoded data removed]",
      "text/plain": [
       "<Figure size 1080x216 with 1 Axes>"
      ]
     },
     "metadata": {
      "needs_background": "light"
     },
     "output_type": "display_data"
    }
   ],
   "source": [
    "plt.figure(figsize=(15,3))\n",
    "g = sns.countplot(x=\"brand\",data= tp_nac_1, palette = \"muted\")\n",
    "g.set_xticklabels(g.get_xticklabels(), rotation=90, ha=\"right\")\n",
    "plt.title('Apariciones/Marca en cluster 1',size = 20)\n",
    "plt.xlabel(\"category\")\n",
    "plt.ylabel(\"Count\")\n",
    "plt.show()"
   ]
  },
  {
   "cell_type": "code",
   "execution_count": 99,
   "metadata": {},
   "outputs": [
    {
     "data": {
      "image/png": "[encoded data removed]",
      "text/plain": [
       "<Figure size 1080x216 with 1 Axes>"
      ]
     },
     "metadata": {
      "needs_background": "light"
     },
     "output_type": "display_data"
    }
   ],
   "source": [
    "plt.figure(figsize=(15,3))\n",
    "g = sns.countplot(x=\"brand\",data= tp_nac_2, palette = \"muted\")\n",
    "g.set_xticklabels(g.get_xticklabels(), rotation=90, ha=\"right\")\n",
    "plt.title('Apariciones/Marca en cluster 2',size = 20)\n",
    "plt.xlabel(\"category\")\n",
    "plt.ylabel(\"Count\")\n",
    "plt.show()"
   ]
  },
  {
   "cell_type": "code",
   "execution_count": 100,
   "metadata": {},
   "outputs": [
    {
     "data": {
      "text/plain": [
       "Pack Conservadora Corona                       2601\n",
       "Pack Corona Experience                           75\n",
       "Pack de Cervezas y Frapera Corona                34\n",
       "Cerveza Corona Extra 710ml                       26\n",
       "Cerveza Corona Sunsets Edición Limitada          21\n",
       "Pack de Cervezas y Gorra Corona by Martha        21\n",
       "Pack Cervezas Corona Sunsets y Frapera           14\n",
       "Pack Modelo Mexicano                             13\n",
       "Pack de 24 Cervezas Corona 355ml                 12\n",
       "Frapera Corona                                   11\n",
       "Cerveza Corona Extra                              9\n",
       "Pack de 12 Cervezas Corona 710ml                  7\n",
       "Pack de 24 Cervezas Corona Edición Especial       6\n",
       "Cerveza Negra Modelo                              3\n",
       "Frapera Corona Jumbo                              2\n",
       "Cooler Corona                                     2\n",
       "Cortador de Lima Corona                           1\n",
       "Name: name, dtype: int64"
      ]
     },
     "execution_count": 100,
     "metadata": {},
     "output_type": "execute_result"
    }
   ],
   "source": [
    "# En las tp_nac_0 vamos a ver si hay algun producto de Corona que sea mas relevante\n",
    "aux0= tp_nac_0.loc[tp_nac_0['brand'].isin([\"Corona\"])]\n",
    "aux0.name.value_counts()"
   ]
  },
  {
   "cell_type": "code",
   "execution_count": 103,
   "metadata": {},
   "outputs": [
    {
     "data": {
      "text/plain": [
       "Pack de Cervezas y Frapera Corona              426\n",
       "Pack Modelo Mexicano                           236\n",
       "Pack Cervezas Corona Sunsets y Frapera         122\n",
       "Pack de 24 Cervezas Corona 355ml                84\n",
       "Pack de 12 Cervezas Corona 710ml                24\n",
       "Pack de 12 Cervezas Corona Edición Especial      9\n",
       "Pack de 24 Cervezas Corona Edición Especial      2\n",
       "Frapera Corona Jumbo                             1\n",
       "Name: name, dtype: int64"
      ]
     },
     "execution_count": 103,
     "metadata": {},
     "output_type": "execute_result"
    }
   ],
   "source": [
    "#El producto mas destacado del cluster 0 es ampliamente el \"Pack Conservadora Corona\", el cual previamente habiamos visto\n",
    "# era uno de los productos mas vendidos del portal.\n",
    "\n",
    "#Validamos que en el resto no aparece\n",
    "aux1= tp_nac_1.loc[tp_nac_1['brand'].isin([\"Corona\"])]\n",
    "aux1.name.value_counts()"
   ]
  },
  {
   "cell_type": "code",
   "execution_count": 104,
   "metadata": {},
   "outputs": [
    {
     "data": {
      "text/plain": [
       "Pack Corona Experience                     1093\n",
       "Frapera Corona                              554\n",
       "Cerveza Negra Modelo                        399\n",
       "Cortador de Lima Corona                     368\n",
       "Porta Lima Corona                           282\n",
       "Cerveza Corona Extra                        195\n",
       "Cerveza Corona Sunsets Edición Limitada     168\n",
       "Cerveza Corona Extra 710ml                  101\n",
       "Gorra Corona by Martha                       11\n",
       "Name: name, dtype: int64"
      ]
     },
     "execution_count": 104,
     "metadata": {},
     "output_type": "execute_result"
    }
   ],
   "source": [
    "aux2= tp_nac_2.loc[tp_nac_2['brand'].isin([\"Corona\"])]\n",
    "aux2.name.value_counts()"
   ]
  },
  {
   "cell_type": "markdown",
   "metadata": {},
   "source": []
  },
  {
   "cell_type": "markdown",
   "metadata": {},
   "source": [
    "### Veamos los gastos de envio de cada cluster"
   ]
  },
  {
   "cell_type": "code",
   "execution_count": 105,
   "metadata": {},
   "outputs": [
    {
     "data": {
      "text/plain": [
       "Text(0.5, 0, 'unit_gross_revenue_local')"
      ]
     },
     "execution_count": 105,
     "metadata": {},
     "output_type": "execute_result"
    },
    {
     "data": {
      "image/png": "[encoded data removed]",
      "text/plain": [
       "<Figure size 432x288 with 1 Axes>"
      ]
     },
     "metadata": {
      "needs_background": "light"
     },
     "output_type": "display_data"
    }
   ],
   "source": [
    "plt.boxplot(tp_nac_0['unit_delivery_charged_local'])\n",
    "plt.title(\"Gastos label 0 nacional\")\n",
    "plt.xlabel(\"unit_gross_revenue_local\")"
   ]
  },
  {
   "cell_type": "code",
   "execution_count": 106,
   "metadata": {},
   "outputs": [
    {
     "data": {
      "text/plain": [
       "Text(0.5, 0, 'unit_gross_revenue_local')"
      ]
     },
     "execution_count": 106,
     "metadata": {},
     "output_type": "execute_result"
    },
    {
     "data": {
      "image/png": "[encoded data removed]",
      "text/plain": [
       "<Figure size 432x288 with 1 Axes>"
      ]
     },
     "metadata": {
      "needs_background": "light"
     },
     "output_type": "display_data"
    }
   ],
   "source": [
    "plt.boxplot(tp_nac_1['unit_delivery_charged_local'])\n",
    "plt.title(\"Gastos label 1 nacional\")\n",
    "plt.xlabel(\"unit_gross_revenue_local\")"
   ]
  },
  {
   "cell_type": "code",
   "execution_count": 107,
   "metadata": {},
   "outputs": [
    {
     "data": {
      "text/plain": [
       "Text(0.5, 0, 'unit_gross_revenue_local')"
      ]
     },
     "execution_count": 107,
     "metadata": {},
     "output_type": "execute_result"
    },
    {
     "data": {
      "image/png": "[encoded data removed]",
      "text/plain": [
       "<Figure size 432x288 with 1 Axes>"
      ]
     },
     "metadata": {
      "needs_background": "light"
     },
     "output_type": "display_data"
    }
   ],
   "source": [
    "plt.boxplot(tp_nac_1['unit_delivery_charged_local'])\n",
    "plt.title(\"Gastos label 1 nacional\")\n",
    "plt.xlabel(\"unit_gross_revenue_local\")"
   ]
  },
  {
   "cell_type": "code",
   "execution_count": 108,
   "metadata": {},
   "outputs": [],
   "source": [
    "#No se ven grandes variaciones entre los costos de envio de los clusters, por lo que no nos permite obtener nuevas conclusiones"
   ]
  },
  {
   "cell_type": "code",
   "execution_count": 111,
   "metadata": {},
   "outputs": [
    {
     "data": {
      "text/plain": [
       "Copas Stella Artois 330ml - Pack 6 unidades                 2172\n",
       "Copa Patagonia 400ml - Pack 6 unidades                      1613\n",
       "Pack de 6 Copas de Edición Limitada                         1426\n",
       "Pack de 3 Copas Edición Limitada                            1298\n",
       "Pack de Cervezas Europeas                                   1192\n",
       "Pack de Cervezas y Vasos Patagonia                          1107\n",
       "Pack de Cervezas y Chopp Patagonia Octubrefest               896\n",
       "Copas Stella Artois 250ml - Pack 6 unidades                  564\n",
       "Vaso Patagonia Curvo 500ml. - Pack 6 unidades                544\n",
       "Pack de Cervezas y Vasos Patagonia XL                        537\n",
       "Copas Stella Artois Navidad - Pack 6 unidades                517\n",
       "Pack de Cervezas y Frapera Corona                            426\n",
       "Pack de Cervezas y Copas Stella Artois Christmas Edition     425\n",
       "Pack de cervezas y Vasos Patagonia 24.7                      413\n",
       "Pack de Cervezas y Vasos de Colección                        391\n",
       "Pack Coleccionista - Enero                                   359\n",
       "Pack de Cervezas y Copas Stella Artois Lata                  344\n",
       "Pack de Cervezas Europeas XL                                 333\n",
       "Growler Patagonia 1,9 litros + Cupón Primera Carga           326\n",
       "Pack de Cervezas y Vasos La Gran Patagonia                   318\n",
       "Pack de Cervezas y Accesorios Patagonia                      315\n",
       "Caja Los personajes de la Navidad                            306\n",
       "Vaso Patagonia Wheat 500ml. - Pack 6 unidades                252\n",
       "Pack Stella Artois                                           249\n",
       "Pack Modelo Mexicano                                         236\n",
       "Pack de Cervezas y Copas Belgas                              230\n",
       "Pack Pasaporte Europeo MAX                                   220\n",
       "Pack de Cervezas Especiales de Europa                        206\n",
       "Pack Pasaporte Europeo                                       203\n",
       "Vaso Patagonia Curvo 300ml. - Pack 6 unidades                202\n",
       "                                                            ... \n",
       "Cerveza Patagonia Küné 710ml                                   3\n",
       "Pack El Gran Malbec                                            3\n",
       "Bolsa de macerado x 3 unidades                                 3\n",
       "Kit Mosto Real Ale                                             3\n",
       "Pack de Vinos Cabernet                                         2\n",
       "Pack Belemania                                                 2\n",
       "Pack de Cervezas y Vinos Refrescantes                          2\n",
       "Chopp BevyBar 473ml - Pack 6 unidades                          2\n",
       "Pack de Cocktail Yellow Submarine                              2\n",
       "Cerveza Patagonia Bohemian Pilsener 740ml                      2\n",
       "Pack de 24 Cervezas Corona Edición Especial                    2\n",
       "Vaso Pilsen BevyBar 473ml - Pack 6 unidades                    2\n",
       "Kit de elementos de medición                                   2\n",
       "Pack de Cervezas de Trigo XL                                   2\n",
       "Pack Mi Gran Patagonia                                         1\n",
       "Pack de Cervezas y Vinos Intensos                              1\n",
       "Pack Buenbec                                                   1\n",
       "Kit Cervezas y Accesorios Oktoberfest Mujer                    1\n",
       "Pack Cajón Patagonia Küné                                      1\n",
       "Pack de Cocktail Bazooka Beer                                  1\n",
       "Pack Craft Argentina                                           1\n",
       "Kit Cervezas y Accesorios Oktoberfest Hombre                   1\n",
       "Pack de Vinos Malbec Especiales                                1\n",
       "Cerveza Stella Artois Christmas Edition                        1\n",
       "Frapera Corona Jumbo                                           1\n",
       "Pack de Cervezas y Vinos Amables                               1\n",
       "Pack de Vodka Russian Rye con Vasos y Jugo                     1\n",
       "Pack Al mejor estilo alemán                                    1\n",
       "Kit Patagonia Octubrefest Mujer                                1\n",
       "Pack de Vinos Elegidos de Garage 2                             1\n",
       "Name: name, Length: 218, dtype: int64"
      ]
     },
     "execution_count": 111,
     "metadata": {},
     "output_type": "execute_result"
    }
   ],
   "source": [
    "#Evaluando nuevamente los productos mas vendidos de cada cluster\n",
    "tp_nac_1.name.value_counts()"
   ]
  },
  {
   "cell_type": "code",
   "execution_count": 113,
   "metadata": {},
   "outputs": [
    {
     "data": {
      "text/plain": [
       "Pack Corona Experience                                  1093\n",
       "Copa Edición Limitada Stella Artois Brasil               946\n",
       "Copa Edición Limitada Stella Artois Uganda               925\n",
       "Destapador Stella Artois                                 727\n",
       "Copa Edición Limitada Stella Artois Camboya              608\n",
       "Frapera Corona                                           554\n",
       "Cerveza Negra Modelo                                     399\n",
       "Cortador de Lima Corona                                  368\n",
       "Cerveza Patagonia 24.7 - Session IPA con Sauco 710ml     361\n",
       "Daga Stella Artois                                       340\n",
       "Porta Lima Corona                                        282\n",
       "Destapador Patagonia                                     232\n",
       "Cerveza Patagonia Octubrefest 710ml                      210\n",
       "Cerveza Corona Extra                                     195\n",
       "Cerveza Corona Sunsets Edición Limitada                  168\n",
       "Cerveza Stella Artois Christmas Edition                  161\n",
       "Cerveza Patagonia Küné 710ml                             161\n",
       "Beermat Patagonia                                        154\n",
       "Cerveza Stella Artois Noire                              152\n",
       "Cerveza Patagonia Amber Lager 740ml                      138\n",
       "Cerveza Patagonia Amber Lager                            132\n",
       "Cerveza Stella Artois                                    122\n",
       "Cerveza Patagonia Weisse                                 118\n",
       "Cerveza Patagonia Bohemian Pilsener                      112\n",
       "Cerveza Patagonia Bohemian Pilsener 740ml                106\n",
       "Cerveza Corona Extra 710ml                               101\n",
       "Cerveza Patagonia Weisse 740ml                            95\n",
       "Cerveza Patagonia Küné                                    86\n",
       "Cerveza Andes Ginger Lager                                74\n",
       "Gorra Patagonia Marrón                                    64\n",
       "Kit Insumos IPA                                           62\n",
       "Gorra Patagonia Verde                                     61\n",
       "Cerveza Stella Artois 473ml.                              41\n",
       "Destapador Quilmes Cantinero                              40\n",
       "Kit Insumos Weissbier                                     37\n",
       "Cerveza Quilmes Stout                                     31\n",
       "Chapa Retro Quilmes Deliciosa e Insuperable               12\n",
       "Gorra Corona by Martha                                    11\n",
       "Kit Mosto Real Ale                                        10\n",
       "Panamedias Patagonia Gris + Verde                         10\n",
       "Chapa Retro Quilmes Argentina                             10\n",
       "Cerveza Quilmes Bock                                       9\n",
       "Copa Stella Artois 330ml                                   8\n",
       "Chapa Retro Quilmes \"La Mejor Cerveza\"                     8\n",
       "Vaso Patagonia Wheat 500ml.                                7\n",
       "Copa Stella Artois 250ml                                   5\n",
       "Chapa Retro Quilmes Cristal Pastorizada                    5\n",
       "Kit Mosto European Lager                                   5\n",
       "Cerveza 1890                                               3\n",
       "Chapa Retro Quilmes Cristal Roja                           3\n",
       "Vaso Patagonia Curvo 500ml.                                2\n",
       "Vaso Patagonia Curvo 300ml.                                2\n",
       "Pack Cajón Patagonia 24.7 - Session IPA con Sauco          2\n",
       "Copa Patagonia                                             1\n",
       "Cartel Beer                                                1\n",
       "Name: name, dtype: int64"
      ]
     },
     "execution_count": 113,
     "metadata": {},
     "output_type": "execute_result"
    }
   ],
   "source": [
    "tp_nac_2.name.value_counts()"
   ]
  },
  {
   "cell_type": "markdown",
   "metadata": {},
   "source": [
    "## Al realizar la clusterizacion encontramos que  la mejor representación se obtenia con 3 clusters, ya que el algoritmo encontró similaridades a partir de:\n",
    "    0- Productos extraordinarios, de alto valor, principalmente la conservadora corona, el producto mas vendido de todos\n",
    "    1- Packs, tanto de copas como de cervezas, que en general tienen un valor medio \"medio\", marcas Stella, Patagonia y \n",
    "    Bevybar\n",
    "    2- Productos inviduales, copas y cervezas, con un una mediana de precio baja\n",
    "    \n",
    "Los clusters 1 y 2, tienen una cantidad de operaciones de compra (mean y boxplot) muy similar, mientras que el primero, no tiene compras recurrentes, por lo que la venta de la conservadora corona, el producto mas vendido y con mayor publicidad, no genera fidelizacion de compra, ya que los usuarios no vuelven a comprar"
   ]
  },
  {
   "cell_type": "code",
   "execution_count": null,
   "metadata": {},
   "outputs": [],
   "source": []
  }
 ],
 "metadata": {
  "kernelspec": {
   "display_name": "Python 3",
   "language": "python",
   "name": "python3"
  },
  "language_info": {
   "codemirror_mode": {
    "name": "ipython",
    "version": 3
   },
   "file_extension": ".py",
   "mimetype": "text/x-python",
   "name": "python",
   "nbconvert_exporter": "python",
   "pygments_lexer": "ipython3",
   "version": "3.7.3"
  }
 },
 "nbformat": 4,
 "nbformat_minor": 2
}
